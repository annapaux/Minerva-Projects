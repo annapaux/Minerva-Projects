{
 "cells": [
  {
   "cell_type": "code",
   "execution_count": 170,
   "metadata": {},
   "outputs": [],
   "source": [
    "# General libraries\n",
    "import numpy as np \n",
    "import pandas as pd\n",
    "\n",
    "# Pre-Processing\n",
    "from glob import glob\n",
    "from PIL import Image\n",
    "from resizeimage import resizeimage\n",
    "from sklearn.model_selection import train_test_split\n",
    "\n",
    "# SVC, PCA, LDA, Metrics\n",
    "from sklearn.metrics import f1_score, classification_report\n",
    "from sklearn.svm import LinearSVC\n",
    "from sklearn.decomposition import PCA\n",
    "from sklearn.discriminant_analysis import LinearDiscriminantAnalysis as LDA\n",
    "import matplotlib.pyplot as plt\n",
    "%matplotlib inline"
   ]
  },
  {
   "cell_type": "markdown",
   "metadata": {},
   "source": [
    "# Pre-processing"
   ]
  },
  {
   "cell_type": "code",
   "execution_count": 262,
   "metadata": {},
   "outputs": [],
   "source": [
    "# define path names\n",
    "man_images = glob('man_200/*')\n",
    "woman_images = glob('woman_200/*')"
   ]
  },
  {
   "cell_type": "code",
   "execution_count": 263,
   "metadata": {},
   "outputs": [],
   "source": [
    "# Note: men are False, women are True\n",
    "\n",
    "man_flattened = []\n",
    "for path in man_images:\n",
    "    with open(path, 'r+b') as f:\n",
    "        with Image.open(f) as image:\n",
    "            cover = resizeimage.resize_cover(image, [20, 10])\n",
    "            man_flattened.append((np.array(cover).flatten(), 0))\n",
    "            \n",
    "woman_flattened = []\n",
    "for path in woman_images:\n",
    "    with open(path, 'r+b') as f:\n",
    "        with Image.open(f) as image:\n",
    "            cover = resizeimage.resize_cover(image, [20, 10])\n",
    "            woman_flattened.append((np.array(cover).flatten(), 1))"
   ]
  },
  {
   "cell_type": "code",
   "execution_count": 264,
   "metadata": {},
   "outputs": [
    {
     "data": {
      "text/plain": [
       "((200, 2), (200, 2))"
      ]
     },
     "execution_count": 264,
     "metadata": {},
     "output_type": "execute_result"
    }
   ],
   "source": [
    "man_flattened = np.asarray(man_flattened)\n",
    "woman_flattened = np.asarray(woman_flattened)\n",
    "man_flattened.shape, woman_flattened.shape"
   ]
  },
  {
   "cell_type": "code",
   "execution_count": 265,
   "metadata": {},
   "outputs": [
    {
     "data": {
      "text/plain": [
       "((400,), (400,))"
      ]
     },
     "execution_count": 265,
     "metadata": {},
     "output_type": "execute_result"
    }
   ],
   "source": [
    "X = np.append(man_flattened[:,0], woman_flattened[:,0])\n",
    "Y = np.append(man_flattened[:,1], woman_flattened[:,1])\n",
    "\n",
    "X.shape, Y.shape"
   ]
  },
  {
   "cell_type": "code",
   "execution_count": 266,
   "metadata": {},
   "outputs": [],
   "source": [
    "X = np.stack(i for i in X)\n",
    "Y = np.stack(i for i in Y)"
   ]
  },
  {
   "cell_type": "code",
   "execution_count": 267,
   "metadata": {},
   "outputs": [
    {
     "data": {
      "text/plain": [
       "((400, 600), (400,))"
      ]
     },
     "execution_count": 267,
     "metadata": {},
     "output_type": "execute_result"
    }
   ],
   "source": [
    "X.shape, Y.shape"
   ]
  },
  {
   "cell_type": "code",
   "execution_count": 268,
   "metadata": {},
   "outputs": [
    {
     "data": {
      "text/plain": [
       "(dtype('float64'), dtype('float64'))"
      ]
     },
     "execution_count": 268,
     "metadata": {},
     "output_type": "execute_result"
    }
   ],
   "source": [
    "# for LDA\n",
    "X = X.astype('float64')\n",
    "Y = Y.astype('float64')\n",
    "X.dtype, Y.dtype"
   ]
  },
  {
   "cell_type": "markdown",
   "metadata": {},
   "source": [
    "# 1. Simple linear classifier: Support Vector Classification (SVC)\n",
    "\n",
    "The linear Support Vector Classification (SVC) is a support vector machine implementation with linear kernel. It uses l2 penalization, which is a regularization method that penalizes large changes in coefficients to avoid over-fitting. However, as we can see in the error results of SVC, the test error is 5x as large as the training error, indicating that the model is highly over-fitted to the training data. "
   ]
  },
  {
   "cell_type": "code",
   "execution_count": 269,
   "metadata": {},
   "outputs": [
    {
     "data": {
      "text/plain": [
       "((120, 600), (120,))"
      ]
     },
     "execution_count": 269,
     "metadata": {},
     "output_type": "execute_result"
    }
   ],
   "source": [
    "X_train, X_test, y_train, y_test = train_test_split(\n",
    "    X, Y, test_size=0.7, random_state=0)\n",
    "X_train.shape, y_train.shape"
   ]
  },
  {
   "cell_type": "code",
   "execution_count": 270,
   "metadata": {},
   "outputs": [],
   "source": [
    "svc = LinearSVC(random_state=0, tol=1e-5)"
   ]
  },
  {
   "cell_type": "code",
   "execution_count": 271,
   "metadata": {},
   "outputs": [
    {
     "data": {
      "text/plain": [
       "LinearSVC(C=1.0, class_weight=None, dual=True, fit_intercept=True,\n",
       "     intercept_scaling=1, loss='squared_hinge', max_iter=1000,\n",
       "     multi_class='ovr', penalty='l2', random_state=0, tol=1e-05, verbose=0)"
      ]
     },
     "execution_count": 271,
     "metadata": {},
     "output_type": "execute_result"
    }
   ],
   "source": [
    "svc.fit(X_train, y_train)"
   ]
  },
  {
   "cell_type": "code",
   "execution_count": 272,
   "metadata": {},
   "outputs": [
    {
     "name": "stdout",
     "output_type": "stream",
     "text": [
      "training error: 0.000\n",
      "test error: 0.450\n"
     ]
    }
   ],
   "source": [
    "svc_tr_err = 1-svc.score(X_train, y_train)\n",
    "svc_tst_err = 1-svc.score(X_test, y_test)\n",
    "\n",
    "print('training error: {0:0.3f}'.format(svc_tr_err))\n",
    "print('test error: {0:0.3f}'.format(svc_tst_err))"
   ]
  },
  {
   "cell_type": "code",
   "execution_count": 273,
   "metadata": {},
   "outputs": [
    {
     "name": "stdout",
     "output_type": "stream",
     "text": [
      "             precision    recall  f1-score   support\n",
      "\n",
      "        0.0       0.52      0.55      0.53       131\n",
      "        1.0       0.58      0.55      0.57       149\n",
      "\n",
      "avg / total       0.55      0.55      0.55       280\n",
      "\n"
     ]
    }
   ],
   "source": [
    "y_pred = svc.predict(X_test)\n",
    "print(classification_report(y_pred, y_test))"
   ]
  },
  {
   "cell_type": "markdown",
   "metadata": {},
   "source": [
    "# 2. SVC after Principal Component Analysis (PCA)\n",
    "The Principal Component Analysis (PCA) is an unsupervised dimensional reduction method that maximizes the variance of projected data points on the best fitted line. (Which is equal to minimizing the sum of the squares between the data and the line --> minimizing the error.) The more components, the more variance can be explained in a data set. To match the dimensions for LDA (forced to use number of classes - 1 = 1 dimension), the following dimension reduction reduces the initial 6000 dimensions down to 1, explaining 35% of the variance."
   ]
  },
  {
   "cell_type": "markdown",
   "metadata": {},
   "source": [
    "### transforming/ reducing the data via SVC"
   ]
  },
  {
   "cell_type": "code",
   "execution_count": 306,
   "metadata": {},
   "outputs": [
    {
     "name": "stdout",
     "output_type": "stream",
     "text": [
      "explained variance ratio : [0.36370177]\n"
     ]
    }
   ],
   "source": [
    "# use the entire data set, not only train/ test, to transform the data\n",
    "pca_1 = PCA(n_components=1)\n",
    "X_pca_1 = pca_1.fit(X).transform(X)\n",
    "\n",
    "print('explained variance ratio : %s'\n",
    "      % str(pca_1.explained_variance_ratio_))"
   ]
  },
  {
   "cell_type": "code",
   "execution_count": 275,
   "metadata": {},
   "outputs": [
    {
     "data": {
      "text/plain": [
       "((120, 1), (120,))"
      ]
     },
     "execution_count": 275,
     "metadata": {},
     "output_type": "execute_result"
    }
   ],
   "source": [
    "X_train, X_test, y_train, y_test = train_test_split(\n",
    "    X_pca_1, Y, test_size=0.7, random_state=0)\n",
    "X_train.shape, y_train.shape"
   ]
  },
  {
   "cell_type": "markdown",
   "metadata": {},
   "source": [
    "### train an SVC model on the reduced data"
   ]
  },
  {
   "cell_type": "code",
   "execution_count": 276,
   "metadata": {},
   "outputs": [
    {
     "data": {
      "text/plain": [
       "LinearSVC(C=1.0, class_weight=None, dual=True, fit_intercept=True,\n",
       "     intercept_scaling=1, loss='squared_hinge', max_iter=1000,\n",
       "     multi_class='ovr', penalty='l2', random_state=0, tol=1e-05, verbose=0)"
      ]
     },
     "execution_count": 276,
     "metadata": {},
     "output_type": "execute_result"
    }
   ],
   "source": [
    "svc = LinearSVC(random_state=0, tol=1e-5)\n",
    "svc.fit(X_train, y_train)"
   ]
  },
  {
   "cell_type": "code",
   "execution_count": 277,
   "metadata": {},
   "outputs": [
    {
     "name": "stdout",
     "output_type": "stream",
     "text": [
      "training error: 0.442\n",
      "test error: 0.464\n"
     ]
    }
   ],
   "source": [
    "pca_tr_err = 1-svc.score(X_train, y_train)\n",
    "pca_tst_err = 1-svc.score(X_test, y_test)\n",
    "\n",
    "print('training error: {0:0.3f}'.format(pca_tr_err))\n",
    "print('test error: {0:0.3f}'.format(pca_tst_err))"
   ]
  },
  {
   "cell_type": "code",
   "execution_count": 278,
   "metadata": {},
   "outputs": [
    {
     "name": "stdout",
     "output_type": "stream",
     "text": [
      "             precision    recall  f1-score   support\n",
      "\n",
      "        0.0       0.69      0.52      0.60       183\n",
      "        1.0       0.38      0.56      0.45        97\n",
      "\n",
      "avg / total       0.58      0.54      0.55       280\n",
      "\n"
     ]
    }
   ],
   "source": [
    "y_pred = svc.predict(X_test)\n",
    "print(classification_report(y_pred, y_test))"
   ]
  },
  {
   "cell_type": "code",
   "execution_count": 291,
   "metadata": {},
   "outputs": [
    {
     "data": {
      "image/png": "[encoded data removed]",
      "text/plain": [
       "<Figure size 432x288 with 1 Axes>"
      ]
     },
     "metadata": {
      "needs_background": "light"
     },
     "output_type": "display_data"
    }
   ],
   "source": [
    "colors = ['navy', 'darkorange']\n",
    "target_names = ['men', 'women']\n",
    "\n",
    "for color, i, target_name in zip(colors, [0, 1], target_names):\n",
    "    y_0 = [0 for x in range(len(X_pca_1[Y == i]))]\n",
    "    test = X_pca_1.tolist()\n",
    "    test_values = X_pca_1[Y == i]\n",
    "    y_0 = [test.index(i) for i in test_values]\n",
    "    plt.scatter(X_pca_1[Y == i], \n",
    "                y_0, \n",
    "                color=color, alpha=.2, lw=2, label=target_name)\n",
    "plt.legend(loc='best', shadow=False, scatterpoints=1)\n",
    "plt.title('PCA of gendered clothing')\n",
    "plt.show()"
   ]
  },
  {
   "cell_type": "markdown",
   "metadata": {},
   "source": [
    "# 3. SVC after Linear Discriminant Analysis (LDA)\n",
    "Linear Discriminant Analysis (LDA) is a supervised dimensionality reduction method that maximizes the variance of data points projected on a linear discriminant between different classes and minimizes the variance within one class. Since LDA is limited to number of classes - 1 components, and we have 2 classes (men, women), the number of components is 1. \n",
    "\n",
    "The original implementation (svd solver) caused collinearity errors, thus I had to use an eigenvalue decomposition solver combined with a shrinkage parameter to avoid the collinearity issue. Because my computer couldn't deal with 60,000 dimensions, I reduced it to 600, which affects the performance but shows that technically this approach would work if my computer had higher processing power."
   ]
  },
  {
   "cell_type": "markdown",
   "metadata": {},
   "source": [
    "### transforming/ reducing the data via LDA"
   ]
  },
  {
   "cell_type": "code",
   "execution_count": 281,
   "metadata": {},
   "outputs": [],
   "source": [
    "lda = LDA(solver='eigen', shrinkage='auto')"
   ]
  },
  {
   "cell_type": "code",
   "execution_count": 282,
   "metadata": {},
   "outputs": [],
   "source": [
    "# lda = LDA(n_components=1)\n",
    "lda.fit(X, Y)\n",
    "X_lda = lda.fit(X, Y).transform(X)"
   ]
  },
  {
   "cell_type": "code",
   "execution_count": 283,
   "metadata": {},
   "outputs": [
    {
     "name": "stdout",
     "output_type": "stream",
     "text": [
      "explained variance ratio (first component): [0.0026374]\n"
     ]
    }
   ],
   "source": [
    "print('explained variance ratio (first component): %s'\n",
    "      % str(lda.explained_variance_ratio_))"
   ]
  },
  {
   "cell_type": "code",
   "execution_count": 284,
   "metadata": {},
   "outputs": [
    {
     "data": {
      "text/plain": [
       "((120, 1), (120,))"
      ]
     },
     "execution_count": 284,
     "metadata": {},
     "output_type": "execute_result"
    }
   ],
   "source": [
    "X_train, X_test, y_train, y_test = train_test_split(\n",
    "    X_lda, Y, test_size=0.7, random_state=0)\n",
    "X_train.shape, y_train.shape"
   ]
  },
  {
   "cell_type": "markdown",
   "metadata": {},
   "source": [
    "### train an SVC model on the reduced data"
   ]
  },
  {
   "cell_type": "code",
   "execution_count": 285,
   "metadata": {},
   "outputs": [
    {
     "data": {
      "text/plain": [
       "LinearSVC(C=1.0, class_weight=None, dual=True, fit_intercept=True,\n",
       "     intercept_scaling=1, loss='squared_hinge', max_iter=1000,\n",
       "     multi_class='ovr', penalty='l2', random_state=0, tol=1e-05, verbose=0)"
      ]
     },
     "execution_count": 285,
     "metadata": {},
     "output_type": "execute_result"
    }
   ],
   "source": [
    "svc = LinearSVC(random_state=0, tol=1e-5)\n",
    "svc.fit(X_train, y_train)"
   ]
  },
  {
   "cell_type": "code",
   "execution_count": 286,
   "metadata": {},
   "outputs": [
    {
     "name": "stdout",
     "output_type": "stream",
     "text": [
      "training error: 0.083\n",
      "test error: 0.082\n"
     ]
    }
   ],
   "source": [
    "lda_tr_err = 1-svc.score(X_train, y_train)\n",
    "lda_tst_err = 1-svc.score(X_test, y_test)\n",
    "\n",
    "print('training error: {0:0.3f}'.format(lda_tr_err))\n",
    "print('test error: {0:0.3f}'.format(lda_tst_err))"
   ]
  },
  {
   "cell_type": "code",
   "execution_count": 287,
   "metadata": {},
   "outputs": [
    {
     "name": "stdout",
     "output_type": "stream",
     "text": [
      "             precision    recall  f1-score   support\n",
      "\n",
      "        0.0       0.93      0.91      0.92       142\n",
      "        1.0       0.91      0.93      0.92       138\n",
      "\n",
      "avg / total       0.92      0.92      0.92       280\n",
      "\n"
     ]
    }
   ],
   "source": [
    "y_pred = svc.predict(X_test)\n",
    "print(classification_report(y_pred, y_test))"
   ]
  },
  {
   "cell_type": "markdown",
   "metadata": {},
   "source": [
    "# Conclusion\n",
    "I would choose the PCA reduced SVC model to classify the data. SVC with the original data has a huge error increase for the test data, indicating that the model is highly over-fitted. The LDA reduction is limited by being able to reduce to one dimension only, and has unbelievably low error-values, which is why I disregard its results believing that the model or implementation is incorrect. Using 28 dimensions instead of 1, the model in the appendix was able to bring down the test error rate to 0.429, furthermore encouraging the use thereof. "
   ]
  },
  {
   "cell_type": "code",
   "execution_count": 288,
   "metadata": {},
   "outputs": [
    {
     "data": {
      "text/html": [
       "<div>\n",
       "<style scoped>\n",
       "    .dataframe tbody tr th:only-of-type {\n",
       "        vertical-align: middle;\n",
       "    }\n",
       "\n",
       "    .dataframe tbody tr th {\n",
       "        vertical-align: top;\n",
       "    }\n",
       "\n",
       "    .dataframe thead th {\n",
       "        text-align: right;\n",
       "    }\n",
       "</style>\n",
       "<table border=\"1\" class=\"dataframe\">\n",
       "  <thead>\n",
       "    <tr style=\"text-align: right;\">\n",
       "      <th></th>\n",
       "      <th>original SVC</th>\n",
       "      <th>PCA - SVC</th>\n",
       "      <th>LDA - SVC</th>\n",
       "    </tr>\n",
       "  </thead>\n",
       "  <tbody>\n",
       "    <tr>\n",
       "      <th>training error</th>\n",
       "      <td>0.00</td>\n",
       "      <td>0.44</td>\n",
       "      <td>0.08</td>\n",
       "    </tr>\n",
       "    <tr>\n",
       "      <th>test error</th>\n",
       "      <td>0.45</td>\n",
       "      <td>0.46</td>\n",
       "      <td>0.08</td>\n",
       "    </tr>\n",
       "  </tbody>\n",
       "</table>\n",
       "</div>"
      ],
      "text/plain": [
       "                original SVC  PCA - SVC  LDA - SVC\n",
       "training error          0.00       0.44       0.08\n",
       "test error              0.45       0.46       0.08"
      ]
     },
     "execution_count": 288,
     "metadata": {},
     "output_type": "execute_result"
    }
   ],
   "source": [
    "results = {\n",
    "    'original SVC':[svc_tr_err, svc_tst_err],\n",
    "    'PCA - SVC':[pca_tr_err, pca_tst_err],\n",
    "    'LDA - SVC':[lda_tr_err, lda_tst_err]\n",
    "}\n",
    "pd.DataFrame(results, index=['training error', 'test error']).round(2)"
   ]
  },
  {
   "cell_type": "code",
   "execution_count": null,
   "metadata": {},
   "outputs": [],
   "source": []
  },
  {
   "cell_type": "code",
   "execution_count": null,
   "metadata": {},
   "outputs": [],
   "source": []
  },
  {
   "cell_type": "markdown",
   "metadata": {},
   "source": [
    "# Appendix"
   ]
  },
  {
   "cell_type": "markdown",
   "metadata": {},
   "source": [
    "# PCA with 2 components\n",
    "## Rarely any improvement"
   ]
  },
  {
   "cell_type": "code",
   "execution_count": 293,
   "metadata": {},
   "outputs": [
    {
     "name": "stdout",
     "output_type": "stream",
     "text": [
      "explained variance ratio (first two components): [0.36370177 0.15941542]\n"
     ]
    }
   ],
   "source": [
    "pca_2 = PCA(n_components=2)\n",
    "X_pca_2 = pca_2.fit(X).transform(X)\n",
    "\n",
    "print('explained variance ratio (first two components): %s'\n",
    "      % str(pca_2.explained_variance_ratio_))"
   ]
  },
  {
   "cell_type": "code",
   "execution_count": 294,
   "metadata": {},
   "outputs": [
    {
     "data": {
      "text/plain": [
       "((120, 2), (120,))"
      ]
     },
     "execution_count": 294,
     "metadata": {},
     "output_type": "execute_result"
    }
   ],
   "source": [
    "X_train, X_test, y_train, y_test = train_test_split(\n",
    "    X_pca_2, Y, test_size=0.7, random_state=0)\n",
    "X_train.shape, y_train.shape"
   ]
  },
  {
   "cell_type": "code",
   "execution_count": 295,
   "metadata": {},
   "outputs": [
    {
     "data": {
      "text/plain": [
       "LinearSVC(C=1.0, class_weight=None, dual=True, fit_intercept=True,\n",
       "     intercept_scaling=1, loss='squared_hinge', max_iter=1000,\n",
       "     multi_class='ovr', penalty='l2', random_state=0, tol=1e-05, verbose=0)"
      ]
     },
     "execution_count": 295,
     "metadata": {},
     "output_type": "execute_result"
    }
   ],
   "source": [
    "svc = LinearSVC(random_state=0, tol=1e-5)\n",
    "svc.fit(X_train, y_train)"
   ]
  },
  {
   "cell_type": "code",
   "execution_count": 296,
   "metadata": {},
   "outputs": [
    {
     "name": "stdout",
     "output_type": "stream",
     "text": [
      "training error: 0.575\n",
      "test error: 0.582\n"
     ]
    }
   ],
   "source": [
    "pca2_tr_err = 1-svc.score(X_train, y_train)\n",
    "pca2_tst_err = 1-svc.score(X_test, y_test)\n",
    "\n",
    "print('training error: {0:0.3f}'.format(pca2_tr_err))\n",
    "print('test error: {0:0.3f}'.format(pca2_tst_err))"
   ]
  },
  {
   "cell_type": "code",
   "execution_count": 297,
   "metadata": {},
   "outputs": [
    {
     "data": {
      "image/png": "[encoded data removed]",
      "text/plain": [
       "<Figure size 432x288 with 1 Axes>"
      ]
     },
     "metadata": {
      "needs_background": "light"
     },
     "output_type": "display_data"
    }
   ],
   "source": [
    "colors = ['navy', 'darkorange']\n",
    "target_names = ['men', 'women']\n",
    "\n",
    "for color, i, target_name in zip(colors, [0, 1], target_names):\n",
    "    plt.scatter(X_pca_2[Y == i, 0], X_pca_2[Y == i, 1], \n",
    "                color=color, alpha=.8, lw=2, label=target_name)\n",
    "plt.legend(loc='best', shadow=False, scatterpoints=1)\n",
    "plt.title('PCA of gendered clothing')\n",
    "plt.show()"
   ]
  },
  {
   "cell_type": "markdown",
   "metadata": {},
   "source": [
    "# 28 components for 90% variance explained"
   ]
  },
  {
   "cell_type": "code",
   "execution_count": 298,
   "metadata": {},
   "outputs": [],
   "source": [
    "pca_50 = PCA(n_components=50)"
   ]
  },
  {
   "cell_type": "code",
   "execution_count": 299,
   "metadata": {},
   "outputs": [],
   "source": [
    "X_pca_50 = pca_50.fit(X).transform(X)"
   ]
  },
  {
   "cell_type": "code",
   "execution_count": 300,
   "metadata": {},
   "outputs": [
    {
     "data": {
      "image/png": "[encoded data removed]",
      "text/plain": [
       "<Figure size 432x288 with 1 Axes>"
      ]
     },
     "metadata": {
      "needs_background": "light"
     },
     "output_type": "display_data"
    }
   ],
   "source": [
    "variance_explained = pca_50.explained_variance_ratio_\n",
    "cum_var_explained = np.cumsum(variance_explained)\n",
    "\n",
    "# https://jakevdp.github.io/PythonDataScienceHandbook/05.09-principal-component-analysis.html\n",
    "x = next(x[0] for x in enumerate(cum_var_explained) if x[1] > 0.9)\n",
    "\n",
    "plt.plot(cum_var_explained)\n",
    "plt.axvline(x=x, color='g', label=x)\n",
    "plt.ylabel('cumulative variance explained')\n",
    "plt.xlabel('number of PCAs')\n",
    "plt.title('90% variance explained at {0:0.0f} components'.format(x))\n",
    "plt.legend()\n",
    "plt.show()"
   ]
  },
  {
   "cell_type": "code",
   "execution_count": 301,
   "metadata": {},
   "outputs": [
    {
     "name": "stdout",
     "output_type": "stream",
     "text": [
      "explained variance ratio (first two components): [0.36370177 0.15941542]\n",
      "training error: 0.358\n",
      "test error: 0.429\n"
     ]
    }
   ],
   "source": [
    "pca_28 = PCA(n_components=28)\n",
    "X_pca_28 = pca_28.fit(X).transform(X)\n",
    "\n",
    "print('explained variance ratio (first two components): %s'\n",
    "      % str(pca_2.explained_variance_ratio_))\n",
    "\n",
    "X_train, X_test, y_train, y_test = train_test_split(\n",
    "    X_pca_28, Y, test_size=0.7, random_state=0)\n",
    "\n",
    "svc = LinearSVC(random_state=0, tol=1e-5)\n",
    "svc.fit(X_train, y_train)\n",
    "\n",
    "pca28_tr_err = 1-svc.score(X_train, y_train)\n",
    "pca28_tst_err = 1-svc.score(X_test, y_test)\n",
    "\n",
    "print('training error: {0:0.3f}'.format(pca28_tr_err))\n",
    "print('test error: {0:0.3f}'.format(pca28_tst_err))"
   ]
  },
  {
   "cell_type": "code",
   "execution_count": 302,
   "metadata": {},
   "outputs": [
    {
     "name": "stdout",
     "output_type": "stream",
     "text": [
      "             precision    recall  f1-score   support\n",
      "\n",
      "        0.0       0.59      0.57      0.58       145\n",
      "        1.0       0.55      0.58      0.57       135\n",
      "\n",
      "avg / total       0.57      0.57      0.57       280\n",
      "\n"
     ]
    }
   ],
   "source": [
    "y_pred = svc.predict(X_test)\n",
    "print(classification_report(y_pred, y_test))"
   ]
  }
 ],
 "metadata": {
  "kernelspec": {
   "display_name": "py36",
   "language": "python",
   "name": "py36"
  },
  "language_info": {
   "codemirror_mode": {
    "name": "ipython",
    "version": 3
   },
   "file_extension": ".py",
   "mimetype": "text/x-python",
   "name": "python",
   "nbconvert_exporter": "python",
   "pygments_lexer": "ipython3",
   "version": "3.6.4"
  }
 },
 "nbformat": 4,
 "nbformat_minor": 2
}
