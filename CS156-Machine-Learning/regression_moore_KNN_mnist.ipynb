{
 "cells": [
  {
   "cell_type": "markdown",
   "metadata": {},
   "source": [
    "# Moore's Law and MNIST\n",
    "\n",
    "Anna Pauxberger, CS156\n",
    "\n",
    "23 September 2018"
   ]
  },
  {
   "cell_type": "code",
   "execution_count": 31,
   "metadata": {},
   "outputs": [],
   "source": [
    "import pandas as pd\n",
    "import numpy as np\n",
    "import matplotlib.pyplot as plt\n",
    "%matplotlib inline\n",
    "import math"
   ]
  },
  {
   "cell_type": "markdown",
   "metadata": {},
   "source": [
    "# Moore's Law\n",
    "\n",
    "Does Moore's Law hold up?"
   ]
  },
  {
   "cell_type": "code",
   "execution_count": 8,
   "metadata": {},
   "outputs": [],
   "source": [
    "# import data\n",
    "df = pd.read_csv('specdata20120207/benchmarks.csv', sep=',',low_memory=False)"
   ]
  },
  {
   "cell_type": "code",
   "execution_count": 9,
   "metadata": {},
   "outputs": [
    {
     "data": {
      "text/html": [
       "<div>\n",
       "<style scoped>\n",
       "    .dataframe tbody tr th:only-of-type {\n",
       "        vertical-align: middle;\n",
       "    }\n",
       "\n",
       "    .dataframe tbody tr th {\n",
       "        vertical-align: top;\n",
       "    }\n",
       "\n",
       "    .dataframe thead th {\n",
       "        text-align: right;\n",
       "    }\n",
       "</style>\n",
       "<table border=\"1\" class=\"dataframe\">\n",
       "  <thead>\n",
       "    <tr style=\"text-align: right;\">\n",
       "      <th></th>\n",
       "      <th>testID</th>\n",
       "      <th>benchName</th>\n",
       "      <th>base</th>\n",
       "      <th>peak</th>\n",
       "      <th>pddt</th>\n",
       "    </tr>\n",
       "  </thead>\n",
       "  <tbody>\n",
       "    <tr>\n",
       "      <th>0</th>\n",
       "      <td>cpu95-19990104-03254</td>\n",
       "      <td>101.tomcatv</td>\n",
       "      <td>19.40</td>\n",
       "      <td>27.1</td>\n",
       "      <td>19990104</td>\n",
       "    </tr>\n",
       "    <tr>\n",
       "      <th>1</th>\n",
       "      <td>cpu95-19990104-03254</td>\n",
       "      <td>102.swim</td>\n",
       "      <td>27.20</td>\n",
       "      <td>34.8</td>\n",
       "      <td>19990104</td>\n",
       "    </tr>\n",
       "    <tr>\n",
       "      <th>2</th>\n",
       "      <td>cpu95-19990104-03254</td>\n",
       "      <td>103.su2cor</td>\n",
       "      <td>10.10</td>\n",
       "      <td>9.98</td>\n",
       "      <td>19990104</td>\n",
       "    </tr>\n",
       "    <tr>\n",
       "      <th>3</th>\n",
       "      <td>cpu95-19990104-03254</td>\n",
       "      <td>104.hydro2d</td>\n",
       "      <td>8.58</td>\n",
       "      <td>8.61</td>\n",
       "      <td>19990104</td>\n",
       "    </tr>\n",
       "    <tr>\n",
       "      <th>4</th>\n",
       "      <td>cpu95-19990104-03254</td>\n",
       "      <td>107.mgrid</td>\n",
       "      <td>8.94</td>\n",
       "      <td>9.44</td>\n",
       "      <td>19990104</td>\n",
       "    </tr>\n",
       "  </tbody>\n",
       "</table>\n",
       "</div>"
      ],
      "text/plain": [
       "                 testID    benchName   base  peak      pddt\n",
       "0  cpu95-19990104-03254  101.tomcatv  19.40  27.1  19990104\n",
       "1  cpu95-19990104-03254     102.swim  27.20  34.8  19990104\n",
       "2  cpu95-19990104-03254   103.su2cor  10.10  9.98  19990104\n",
       "3  cpu95-19990104-03254  104.hydro2d   8.58  8.61  19990104\n",
       "4  cpu95-19990104-03254    107.mgrid   8.94  9.44  19990104"
      ]
     },
     "execution_count": 9,
     "metadata": {},
     "output_type": "execute_result"
    }
   ],
   "source": [
    "# parse date as string\n",
    "# Oren helped me narrow down 5 lines of code to this one line\n",
    "df['pddt'] = df['testID'].str.partition('-')[2].str.partition('-')[0]\n",
    "df.head()"
   ]
  },
  {
   "cell_type": "code",
   "execution_count": 10,
   "metadata": {},
   "outputs": [
    {
     "data": {
      "text/html": [
       "<div>\n",
       "<style scoped>\n",
       "    .dataframe tbody tr th:only-of-type {\n",
       "        vertical-align: middle;\n",
       "    }\n",
       "\n",
       "    .dataframe tbody tr th {\n",
       "        vertical-align: top;\n",
       "    }\n",
       "\n",
       "    .dataframe thead th {\n",
       "        text-align: right;\n",
       "    }\n",
       "</style>\n",
       "<table border=\"1\" class=\"dataframe\">\n",
       "  <thead>\n",
       "    <tr style=\"text-align: right;\">\n",
       "      <th></th>\n",
       "      <th>testID</th>\n",
       "      <th>benchName</th>\n",
       "      <th>base</th>\n",
       "      <th>peak</th>\n",
       "      <th>pddt</th>\n",
       "      <th>datetime</th>\n",
       "      <th>delta</th>\n",
       "      <th>delta_days</th>\n",
       "    </tr>\n",
       "  </thead>\n",
       "  <tbody>\n",
       "    <tr>\n",
       "      <th>0</th>\n",
       "      <td>cpu95-19990104-03254</td>\n",
       "      <td>101.tomcatv</td>\n",
       "      <td>19.40</td>\n",
       "      <td>27.1</td>\n",
       "      <td>19990104</td>\n",
       "      <td>1999-01-04</td>\n",
       "      <td>10595 days</td>\n",
       "      <td>1069.0</td>\n",
       "    </tr>\n",
       "    <tr>\n",
       "      <th>1</th>\n",
       "      <td>cpu95-19990104-03254</td>\n",
       "      <td>102.swim</td>\n",
       "      <td>27.20</td>\n",
       "      <td>34.8</td>\n",
       "      <td>19990104</td>\n",
       "      <td>1999-01-04</td>\n",
       "      <td>10595 days</td>\n",
       "      <td>1069.0</td>\n",
       "    </tr>\n",
       "    <tr>\n",
       "      <th>2</th>\n",
       "      <td>cpu95-19990104-03254</td>\n",
       "      <td>103.su2cor</td>\n",
       "      <td>10.10</td>\n",
       "      <td>9.98</td>\n",
       "      <td>19990104</td>\n",
       "      <td>1999-01-04</td>\n",
       "      <td>10595 days</td>\n",
       "      <td>1069.0</td>\n",
       "    </tr>\n",
       "    <tr>\n",
       "      <th>3</th>\n",
       "      <td>cpu95-19990104-03254</td>\n",
       "      <td>104.hydro2d</td>\n",
       "      <td>8.58</td>\n",
       "      <td>8.61</td>\n",
       "      <td>19990104</td>\n",
       "      <td>1999-01-04</td>\n",
       "      <td>10595 days</td>\n",
       "      <td>1069.0</td>\n",
       "    </tr>\n",
       "    <tr>\n",
       "      <th>4</th>\n",
       "      <td>cpu95-19990104-03254</td>\n",
       "      <td>107.mgrid</td>\n",
       "      <td>8.94</td>\n",
       "      <td>9.44</td>\n",
       "      <td>19990104</td>\n",
       "      <td>1999-01-04</td>\n",
       "      <td>10595 days</td>\n",
       "      <td>1069.0</td>\n",
       "    </tr>\n",
       "  </tbody>\n",
       "</table>\n",
       "</div>"
      ],
      "text/plain": [
       "                 testID    benchName   base  peak      pddt   datetime  \\\n",
       "0  cpu95-19990104-03254  101.tomcatv  19.40  27.1  19990104 1999-01-04   \n",
       "1  cpu95-19990104-03254     102.swim  27.20  34.8  19990104 1999-01-04   \n",
       "2  cpu95-19990104-03254   103.su2cor  10.10  9.98  19990104 1999-01-04   \n",
       "3  cpu95-19990104-03254  104.hydro2d   8.58  8.61  19990104 1999-01-04   \n",
       "4  cpu95-19990104-03254    107.mgrid   8.94  9.44  19990104 1999-01-04   \n",
       "\n",
       "       delta  delta_days  \n",
       "0 10595 days      1069.0  \n",
       "1 10595 days      1069.0  \n",
       "2 10595 days      1069.0  \n",
       "3 10595 days      1069.0  \n",
       "4 10595 days      1069.0  "
      ]
     },
     "execution_count": 10,
     "metadata": {},
     "output_type": "execute_result"
    }
   ],
   "source": [
    "# add delta between days\n",
    "df['datetime'] = pd.to_datetime(df['pddt'])\n",
    "df['delta'] = pd.to_timedelta(df['datetime'])\n",
    "df['delta_days'] = df['delta'].dt.days - min(df['delta'].dt.days)\n",
    "df.head()"
   ]
  },
  {
   "cell_type": "code",
   "execution_count": 11,
   "metadata": {},
   "outputs": [
    {
     "data": {
      "text/html": [
       "<div>\n",
       "<style scoped>\n",
       "    .dataframe tbody tr th:only-of-type {\n",
       "        vertical-align: middle;\n",
       "    }\n",
       "\n",
       "    .dataframe tbody tr th {\n",
       "        vertical-align: top;\n",
       "    }\n",
       "\n",
       "    .dataframe thead th {\n",
       "        text-align: right;\n",
       "    }\n",
       "</style>\n",
       "<table border=\"1\" class=\"dataframe\">\n",
       "  <thead>\n",
       "    <tr style=\"text-align: right;\">\n",
       "      <th></th>\n",
       "      <th>testID</th>\n",
       "      <th>benchName</th>\n",
       "      <th>base</th>\n",
       "      <th>peak</th>\n",
       "      <th>pddt</th>\n",
       "      <th>datetime</th>\n",
       "      <th>delta</th>\n",
       "      <th>delta_days</th>\n",
       "      <th>benchmark</th>\n",
       "    </tr>\n",
       "  </thead>\n",
       "  <tbody>\n",
       "    <tr>\n",
       "      <th>0</th>\n",
       "      <td>cpu95-19990104-03254</td>\n",
       "      <td>101.tomcatv</td>\n",
       "      <td>19.40</td>\n",
       "      <td>27.1</td>\n",
       "      <td>19990104</td>\n",
       "      <td>1999-01-04</td>\n",
       "      <td>10595 days</td>\n",
       "      <td>1069.0</td>\n",
       "      <td>tomcatv</td>\n",
       "    </tr>\n",
       "    <tr>\n",
       "      <th>1</th>\n",
       "      <td>cpu95-19990104-03254</td>\n",
       "      <td>102.swim</td>\n",
       "      <td>27.20</td>\n",
       "      <td>34.8</td>\n",
       "      <td>19990104</td>\n",
       "      <td>1999-01-04</td>\n",
       "      <td>10595 days</td>\n",
       "      <td>1069.0</td>\n",
       "      <td>swim</td>\n",
       "    </tr>\n",
       "    <tr>\n",
       "      <th>2</th>\n",
       "      <td>cpu95-19990104-03254</td>\n",
       "      <td>103.su2cor</td>\n",
       "      <td>10.10</td>\n",
       "      <td>9.98</td>\n",
       "      <td>19990104</td>\n",
       "      <td>1999-01-04</td>\n",
       "      <td>10595 days</td>\n",
       "      <td>1069.0</td>\n",
       "      <td>su cor</td>\n",
       "    </tr>\n",
       "    <tr>\n",
       "      <th>3</th>\n",
       "      <td>cpu95-19990104-03254</td>\n",
       "      <td>104.hydro2d</td>\n",
       "      <td>8.58</td>\n",
       "      <td>8.61</td>\n",
       "      <td>19990104</td>\n",
       "      <td>1999-01-04</td>\n",
       "      <td>10595 days</td>\n",
       "      <td>1069.0</td>\n",
       "      <td>hydro d</td>\n",
       "    </tr>\n",
       "    <tr>\n",
       "      <th>4</th>\n",
       "      <td>cpu95-19990104-03254</td>\n",
       "      <td>107.mgrid</td>\n",
       "      <td>8.94</td>\n",
       "      <td>9.44</td>\n",
       "      <td>19990104</td>\n",
       "      <td>1999-01-04</td>\n",
       "      <td>10595 days</td>\n",
       "      <td>1069.0</td>\n",
       "      <td>mgrid</td>\n",
       "    </tr>\n",
       "  </tbody>\n",
       "</table>\n",
       "</div>"
      ],
      "text/plain": [
       "                 testID    benchName   base  peak      pddt   datetime  \\\n",
       "0  cpu95-19990104-03254  101.tomcatv  19.40  27.1  19990104 1999-01-04   \n",
       "1  cpu95-19990104-03254     102.swim  27.20  34.8  19990104 1999-01-04   \n",
       "2  cpu95-19990104-03254   103.su2cor  10.10  9.98  19990104 1999-01-04   \n",
       "3  cpu95-19990104-03254  104.hydro2d   8.58  8.61  19990104 1999-01-04   \n",
       "4  cpu95-19990104-03254    107.mgrid   8.94  9.44  19990104 1999-01-04   \n",
       "\n",
       "       delta  delta_days benchmark  \n",
       "0 10595 days      1069.0   tomcatv  \n",
       "1 10595 days      1069.0      swim  \n",
       "2 10595 days      1069.0    su cor  \n",
       "3 10595 days      1069.0   hydro d  \n",
       "4 10595 days      1069.0     mgrid  "
      ]
     },
     "execution_count": 11,
     "metadata": {},
     "output_type": "execute_result"
    }
   ],
   "source": [
    "# extract benchmark name with regex\n",
    "\n",
    "import re\n",
    "\n",
    "def get_benchmark (row):\n",
    "    benchName = str(row['benchName'])\n",
    "    searchObj = \" \".join(re.findall(\"[a-zA-Z]+\", benchName))\n",
    "    return searchObj\n",
    "\n",
    "df['benchmark'] = df.apply (lambda row: get_benchmark (row), axis=1)\n",
    "df.head()"
   ]
  },
  {
   "cell_type": "code",
   "execution_count": 12,
   "metadata": {},
   "outputs": [
    {
     "data": {
      "text/plain": [
       "['gcc', 'bzip', 'perlbench', 'libquantum']"
      ]
     },
     "execution_count": 12,
     "metadata": {},
     "output_type": "execute_result"
    }
   ],
   "source": [
    "# view and choose benchmarks\n",
    "\n",
    "df['benchmark'].value_counts()\n",
    "benchmark_list = ['gcc','bzip','perlbench','libquantum']\n",
    "benchmark_list"
   ]
  },
  {
   "cell_type": "code",
   "execution_count": 13,
   "metadata": {},
   "outputs": [
    {
     "data": {
      "text/html": [
       "<div>\n",
       "<style scoped>\n",
       "    .dataframe tbody tr th:only-of-type {\n",
       "        vertical-align: middle;\n",
       "    }\n",
       "\n",
       "    .dataframe tbody tr th {\n",
       "        vertical-align: top;\n",
       "    }\n",
       "\n",
       "    .dataframe thead th {\n",
       "        text-align: right;\n",
       "    }\n",
       "</style>\n",
       "<table border=\"1\" class=\"dataframe\">\n",
       "  <thead>\n",
       "    <tr style=\"text-align: right;\">\n",
       "      <th></th>\n",
       "      <th>delta_days</th>\n",
       "      <th>base</th>\n",
       "      <th>normalized_days</th>\n",
       "    </tr>\n",
       "  </thead>\n",
       "  <tbody>\n",
       "    <tr>\n",
       "      <th>45835</th>\n",
       "      <td>3755.0</td>\n",
       "      <td>1.0</td>\n",
       "      <td>0.0</td>\n",
       "    </tr>\n",
       "    <tr>\n",
       "      <th>45864</th>\n",
       "      <td>3755.0</td>\n",
       "      <td>14.4</td>\n",
       "      <td>0.0</td>\n",
       "    </tr>\n",
       "    <tr>\n",
       "      <th>45876</th>\n",
       "      <td>3755.0</td>\n",
       "      <td>13.5</td>\n",
       "      <td>0.0</td>\n",
       "    </tr>\n",
       "    <tr>\n",
       "      <th>45905</th>\n",
       "      <td>3755.0</td>\n",
       "      <td>11.5</td>\n",
       "      <td>0.0</td>\n",
       "    </tr>\n",
       "    <tr>\n",
       "      <th>45951</th>\n",
       "      <td>3755.0</td>\n",
       "      <td>17.3</td>\n",
       "      <td>0.0</td>\n",
       "    </tr>\n",
       "  </tbody>\n",
       "</table>\n",
       "</div>"
      ],
      "text/plain": [
       "       delta_days  base  normalized_days\n",
       "45835      3755.0   1.0              0.0\n",
       "45864      3755.0  14.4              0.0\n",
       "45876      3755.0  13.5              0.0\n",
       "45905      3755.0  11.5              0.0\n",
       "45951      3755.0  17.3              0.0"
      ]
     },
     "execution_count": 13,
     "metadata": {},
     "output_type": "execute_result"
    }
   ],
   "source": [
    "# create new data frames for each benchmark and normalize to smallest value\n",
    "\n",
    "gcc = df[df.benchmark == 'gcc']\n",
    "gcc = gcc[['delta_days','base']]\n",
    "gcc['normalized_days'] = gcc['delta_days'] - min(gcc['delta_days'])\n",
    "\n",
    "bzip = df[df.benchmark == 'bzip']\n",
    "bzip = bzip[['delta_days','base']]\n",
    "bzip['normalized_days'] = bzip['delta_days'] - min(bzip['delta_days'])\n",
    "\n",
    "perlbench = df[df.benchmark == 'perlbench']\n",
    "perlbench = perlbench[['delta_days','base']]\n",
    "perlbench['normalized_days'] = perlbench['delta_days'] - min(perlbench['delta_days'])\n",
    "\n",
    "libquantum = df[df.benchmark == 'libquantum']\n",
    "libquantum = libquantum[['delta_days','base']]\n",
    "libquantum['normalized_days'] = libquantum['delta_days'] - min(libquantum['delta_days'])\n",
    "libquantum.head()"
   ]
  },
  {
   "cell_type": "code",
   "execution_count": 24,
   "metadata": {},
   "outputs": [
    {
     "data": {
      "image/png": "[encoded data removed]",
      "text/plain": [
       "<Figure size 864x1080 with 8 Axes>"
      ]
     },
     "metadata": {
      "needs_background": "light"
     },
     "output_type": "display_data"
    }
   ],
   "source": [
    "fig = plt.figure(figsize=(12,15))\n",
    "fig.text(0.5, 0.09, 'days passed', ha='center')\n",
    "fig.text(0.04, 0.5, 'base speed', va='center', rotation='vertical')\n",
    "\n",
    "# gcc\n",
    "plt.subplot(421)\n",
    "plt.plot(gcc['normalized_days'], gcc['base'])\n",
    "plt.title(\"gcc\")\n",
    "\n",
    "plt.subplot(422)\n",
    "plt.semilogy(gcc['normalized_days'], gcc['base'])\n",
    "plt.title(\"gcc: semilog\")\n",
    "\n",
    "# bzip\n",
    "plt.subplot(423)\n",
    "plt.plot(bzip['normalized_days'], bzip['base'])\n",
    "plt.title(\"bzip\")\n",
    "\n",
    "plt.subplot(424)\n",
    "plt.semilogy(bzip['normalized_days'], bzip['base'])\n",
    "plt.title(\"bzip: semilog\")\n",
    "\n",
    "# perlbench\n",
    "plt.subplot(425)\n",
    "plt.plot(perlbench['normalized_days'], perlbench['base'])\n",
    "plt.title(\"perlbench\")\n",
    "\n",
    "plt.subplot(426)\n",
    "plt.semilogy(perlbench['normalized_days'], perlbench['base'])\n",
    "plt.title(\"perlbench: semilog\")\n",
    "\n",
    "# libquantum\n",
    "plt.subplot(427)\n",
    "plt.plot(libquantum['normalized_days'], libquantum['base'])\n",
    "plt.title(\"libquantum\")\n",
    "\n",
    "plt.subplot(428)\n",
    "plt.semilogy(libquantum['normalized_days'], libquantum['base'])\n",
    "plt.title(\"libquantum: semilog\")\n",
    "\n",
    "plt.show()"
   ]
  },
  {
   "cell_type": "code",
   "execution_count": 25,
   "metadata": {},
   "outputs": [],
   "source": [
    "from sklearn.linear_model import LinearRegression"
   ]
  },
  {
   "cell_type": "code",
   "execution_count": 84,
   "metadata": {},
   "outputs": [],
   "source": [
    "x = [i for i in libquantum['normalized_days']]\n",
    "y = [math.log(i,2) for i in libquantum['base']]\n",
    "\n",
    "y = np.array(y).reshape(-1,1)\n",
    "x = np.array(x).reshape(-1,1)\n",
    "\n",
    "reg = LinearRegression().fit(x,y)"
   ]
  },
  {
   "cell_type": "code",
   "execution_count": 97,
   "metadata": {},
   "outputs": [
    {
     "data": {
      "image/png": "[encoded data removed]",
      "text/plain": [
       "<Figure size 432x288 with 1 Axes>"
      ]
     },
     "metadata": {
      "needs_background": "light"
     },
     "output_type": "display_data"
    }
   ],
   "source": [
    "x = [i for i in libquantum['normalized_days']]\n",
    "y = [math.log(i,2) for i in libquantum['base']]\n",
    "y_reg = [reg.predict(i) for i in x]\n",
    "y_reg = np.array(y_reg).reshape(-1,1)\n",
    "y_moore = [4+i/365 for i in x]\n",
    "\n",
    "plt.plot(x,y, linewidth=0.2, label=\"Libquantum Actuals\")\n",
    "plt.plot(x,y_reg, linewidth = 2, label=\"Linear Regression Prediction\")\n",
    "plt.plot(x,y_moore, linewidth=2, label=\"Moore's Law Theoretical\")\n",
    "plt.legend()\n",
    "plt.ylabel(\"base speed\")\n",
    "plt.title(\"Moore's Law Holds True For Libquantum Benchmark\")\n",
    "\n",
    "x = [i for i in range(int(max(libquantum['normalized_days'])))]\n",
    "x_ticks = [day for day in x if day%365 == 0] \n",
    "x_labels = ['Year ' + str(i) for i in range(len(x_ticks))]\n",
    "plt.xticks(x_ticks, x_labels)\n",
    "\n",
    "plt.show()"
   ]
  },
  {
   "cell_type": "markdown",
   "metadata": {},
   "source": [
    "### Does Moore's Law hold up?\n",
    "\n",
    "According to Moore's law, computational speed doubles every year. This is most visible for the libquantum benchmark, as visible in the last plot. My conclusion is that Moore's law does not hold up for all benchmarks (perlbench), but does hold up for some of them (libquantum). \n",
    "\n",
    "\n",
    "### Limitations\n",
    "\n",
    "Especially the first plots for the gcc benchmark made me worried about the accuracy of my calculations. Instead of increasing only, the performance of the benchmark decreases after around 4 years, which might mean that another version of gcc was introduced that initially performed worse. "
   ]
  },
  {
   "cell_type": "markdown",
   "metadata": {},
   "source": [
    "# MNIST Digits"
   ]
  },
  {
   "cell_type": "code",
   "execution_count": 1,
   "metadata": {},
   "outputs": [],
   "source": [
    "# MNIST DIGITS\n",
    "import numpy as np\n",
    "from sklearn.neighbors import KNeighborsClassifier\n",
    "from sklearn.model_selection import cross_val_score\n",
    "from sklearn.datasets import load_digits"
   ]
  },
  {
   "cell_type": "code",
   "execution_count": 2,
   "metadata": {},
   "outputs": [
    {
     "name": "stdout",
     "output_type": "stream",
     "text": [
      "(1797, 64)\n"
     ]
    }
   ],
   "source": [
    "digits = load_digits()\n",
    "print(digits.data.shape)"
   ]
  },
  {
   "cell_type": "code",
   "execution_count": 3,
   "metadata": {},
   "outputs": [
    {
     "data": {
      "text/plain": [
       "(array([[ 0.,  0.,  5., 13.,  9.,  1.,  0.,  0.],\n",
       "        [ 0.,  0., 13., 15., 10., 15.,  5.,  0.],\n",
       "        [ 0.,  3., 15.,  2.,  0., 11.,  8.,  0.],\n",
       "        [ 0.,  4., 12.,  0.,  0.,  8.,  8.,  0.],\n",
       "        [ 0.,  5.,  8.,  0.,  0.,  9.,  8.,  0.],\n",
       "        [ 0.,  4., 11.,  0.,  1., 12.,  7.,  0.],\n",
       "        [ 0.,  2., 14.,  5., 10., 12.,  0.,  0.],\n",
       "        [ 0.,  0.,  6., 13., 10.,  0.,  0.,  0.]]), 0)"
      ]
     },
     "execution_count": 3,
     "metadata": {},
     "output_type": "execute_result"
    }
   ],
   "source": [
    "# image matrix representation and target (y) value of the digit\n",
    "digits.images[0], digits.target[0]"
   ]
  },
  {
   "cell_type": "code",
   "execution_count": 66,
   "metadata": {},
   "outputs": [
    {
     "data": {
      "text/plain": [
       "<Figure size 432x288 with 0 Axes>"
      ]
     },
     "metadata": {},
     "output_type": "display_data"
    },
    {
     "data": {
      "image/png": "[encoded data removed]",
      "text/plain": [
       "<Figure size 288x288 with 1 Axes>"
      ]
     },
     "metadata": {},
     "output_type": "display_data"
    },
    {
     "data": {
      "text/plain": [
       "<Figure size 432x288 with 0 Axes>"
      ]
     },
     "metadata": {},
     "output_type": "display_data"
    },
    {
     "data": {
      "image/png": "[encoded data removed]",
      "text/plain": [
       "<Figure size 288x288 with 1 Axes>"
      ]
     },
     "metadata": {},
     "output_type": "display_data"
    }
   ],
   "source": [
    "import matplotlib.pyplot as plt \n",
    "%matplotlib inline\n",
    "\n",
    "plt.gray() \n",
    "plt.matshow(digits.images[7]) \n",
    "plt.show() \n",
    "\n",
    "plt.gray() \n",
    "plt.matshow(digits.images[3]) \n",
    "plt.show() "
   ]
  },
  {
   "cell_type": "code",
   "execution_count": 90,
   "metadata": {},
   "outputs": [
    {
     "data": {
      "text/plain": [
       "((360, 64), (360,))"
      ]
     },
     "execution_count": 90,
     "metadata": {},
     "output_type": "execute_result"
    }
   ],
   "source": [
    "# reshape data.images \n",
    "\n",
    "data = digits\n",
    "\n",
    "x = [data.images[i] for i in range(len(data.images)) if data.target[i] in {0,1} ]\n",
    "x = np.array(x)\n",
    "x = x.reshape((360, -1))\n",
    "\n",
    "y = [data.target[i] for i in range(len(data.target)) if data.target[i] in {0,1} ]\n",
    "y = np.array(y)\n",
    "\n",
    "x.shape, y.shape"
   ]
  },
  {
   "cell_type": "code",
   "execution_count": 16,
   "metadata": {},
   "outputs": [],
   "source": [
    "model = KNeighborsClassifier(n_neighbors=4)"
   ]
  },
  {
   "cell_type": "code",
   "execution_count": 17,
   "metadata": {},
   "outputs": [
    {
     "name": "stdout",
     "output_type": "stream",
     "text": [
      "Accuracy: 1.00 (+/- 0.00)\n"
     ]
    }
   ],
   "source": [
    "scores = cross_val_score(model, x, y, cv=10)\n",
    "print(\"Accuracy: %0.2f (+/- %0.2f)\" % (scores.mean(), scores.std() * 2))"
   ]
  },
  {
   "cell_type": "code",
   "execution_count": 50,
   "metadata": {},
   "outputs": [
    {
     "data": {
      "text/html": [
       "<div>\n",
       "<style scoped>\n",
       "    .dataframe tbody tr th:only-of-type {\n",
       "        vertical-align: middle;\n",
       "    }\n",
       "\n",
       "    .dataframe tbody tr th {\n",
       "        vertical-align: top;\n",
       "    }\n",
       "\n",
       "    .dataframe thead th {\n",
       "        text-align: right;\n",
       "    }\n",
       "</style>\n",
       "<table border=\"1\" class=\"dataframe\">\n",
       "  <thead>\n",
       "    <tr style=\"text-align: right;\">\n",
       "      <th></th>\n",
       "      <th>0</th>\n",
       "      <th>1</th>\n",
       "      <th>2</th>\n",
       "      <th>3</th>\n",
       "      <th>4</th>\n",
       "      <th>5</th>\n",
       "      <th>6</th>\n",
       "      <th>7</th>\n",
       "      <th>8</th>\n",
       "      <th>9</th>\n",
       "      <th>10</th>\n",
       "      <th>11</th>\n",
       "      <th>12</th>\n",
       "      <th>13</th>\n",
       "      <th>14</th>\n",
       "      <th>15</th>\n",
       "      <th>16</th>\n",
       "      <th>17</th>\n",
       "      <th>18</th>\n",
       "    </tr>\n",
       "  </thead>\n",
       "  <tbody>\n",
       "    <tr>\n",
       "      <th>k</th>\n",
       "      <td>2.0</td>\n",
       "      <td>3.0</td>\n",
       "      <td>4.0</td>\n",
       "      <td>5.0</td>\n",
       "      <td>6.0</td>\n",
       "      <td>7.0</td>\n",
       "      <td>8.0</td>\n",
       "      <td>9.0</td>\n",
       "      <td>10.0</td>\n",
       "      <td>11.0</td>\n",
       "      <td>12.0</td>\n",
       "      <td>13.0</td>\n",
       "      <td>14.0</td>\n",
       "      <td>15.0</td>\n",
       "      <td>16.0</td>\n",
       "      <td>17.0</td>\n",
       "      <td>18.0</td>\n",
       "      <td>19.0</td>\n",
       "      <td>20.0</td>\n",
       "    </tr>\n",
       "    <tr>\n",
       "      <th>accuracy</th>\n",
       "      <td>1.0</td>\n",
       "      <td>1.0</td>\n",
       "      <td>1.0</td>\n",
       "      <td>1.0</td>\n",
       "      <td>1.0</td>\n",
       "      <td>1.0</td>\n",
       "      <td>1.0</td>\n",
       "      <td>1.0</td>\n",
       "      <td>1.0</td>\n",
       "      <td>1.0</td>\n",
       "      <td>1.0</td>\n",
       "      <td>1.0</td>\n",
       "      <td>1.0</td>\n",
       "      <td>1.0</td>\n",
       "      <td>1.0</td>\n",
       "      <td>1.0</td>\n",
       "      <td>1.0</td>\n",
       "      <td>1.0</td>\n",
       "      <td>1.0</td>\n",
       "    </tr>\n",
       "    <tr>\n",
       "      <th>stdev</th>\n",
       "      <td>0.0</td>\n",
       "      <td>0.0</td>\n",
       "      <td>0.0</td>\n",
       "      <td>0.0</td>\n",
       "      <td>0.0</td>\n",
       "      <td>0.0</td>\n",
       "      <td>0.0</td>\n",
       "      <td>0.0</td>\n",
       "      <td>0.0</td>\n",
       "      <td>0.0</td>\n",
       "      <td>0.0</td>\n",
       "      <td>0.0</td>\n",
       "      <td>0.0</td>\n",
       "      <td>0.0</td>\n",
       "      <td>0.0</td>\n",
       "      <td>0.0</td>\n",
       "      <td>0.0</td>\n",
       "      <td>0.0</td>\n",
       "      <td>0.0</td>\n",
       "    </tr>\n",
       "  </tbody>\n",
       "</table>\n",
       "</div>"
      ],
      "text/plain": [
       "           0    1    2    3    4    5    6    7     8     9     10    11  \\\n",
       "k         2.0  3.0  4.0  5.0  6.0  7.0  8.0  9.0  10.0  11.0  12.0  13.0   \n",
       "accuracy  1.0  1.0  1.0  1.0  1.0  1.0  1.0  1.0   1.0   1.0   1.0   1.0   \n",
       "stdev     0.0  0.0  0.0  0.0  0.0  0.0  0.0  0.0   0.0   0.0   0.0   0.0   \n",
       "\n",
       "            12    13    14    15    16    17    18  \n",
       "k         14.0  15.0  16.0  17.0  18.0  19.0  20.0  \n",
       "accuracy   1.0   1.0   1.0   1.0   1.0   1.0   1.0  \n",
       "stdev      0.0   0.0   0.0   0.0   0.0   0.0   0.0  "
      ]
     },
     "execution_count": 50,
     "metadata": {},
     "output_type": "execute_result"
    }
   ],
   "source": [
    "# find optimal n\n",
    "\n",
    "k = [i for i in range(2,21)]\n",
    "accuracy = []\n",
    "stdev = []\n",
    "\n",
    "for i in k:\n",
    "    model = KNeighborsClassifier(n_neighbors=4)\n",
    "    scores = cross_val_score(model, x, y, cv=i)\n",
    "    accuracy.append(scores.mean())\n",
    "    stdev.append(scores.std())\n",
    "    \n",
    "optimal_k = pd.DataFrame(data=[k,accuracy,stdev])\n",
    "\n",
    "optimal_k.T\n",
    "optimal_k.rename({0:'k', 1:'accuracy', 2:'stdev'})"
   ]
  },
  {
   "cell_type": "markdown",
   "metadata": {},
   "source": [
    "# Optional: the real deal\n",
    "Using the entire dataset"
   ]
  },
  {
   "cell_type": "code",
   "execution_count": 52,
   "metadata": {
    "collapsed": true
   },
   "outputs": [],
   "source": [
    "from sklearn import datasets\n",
    "digits = datasets.load_digits()"
   ]
  },
  {
   "cell_type": "code",
   "execution_count": 53,
   "metadata": {
    "collapsed": true
   },
   "outputs": [],
   "source": [
    "from sklearn.datasets import fetch_mldata\n",
    "custom_data_home = \"~/scikit_learn_data/\"\n",
    "mnist = fetch_mldata(\"MNIST original\", data_home=custom_data_home)"
   ]
  },
  {
   "cell_type": "code",
   "execution_count": 64,
   "metadata": {},
   "outputs": [
    {
     "data": {
      "text/plain": [
       "((70000, 784), (70000,))"
      ]
     },
     "execution_count": 64,
     "metadata": {},
     "output_type": "execute_result"
    }
   ],
   "source": [
    "from sklearn.datasets import fetch_mldata\n",
    "mnist = fetch_mldata('MNIST original', data_home=custom_data_home)\n",
    "\n",
    "mnist.data.shape, mnist.target.shape\n",
    "# np.unique(mnist.target)"
   ]
  },
  {
   "cell_type": "code",
   "execution_count": 85,
   "metadata": {},
   "outputs": [
    {
     "data": {
      "text/plain": [
       "(14780, 784)"
      ]
     },
     "execution_count": 85,
     "metadata": {},
     "output_type": "execute_result"
    }
   ],
   "source": [
    "X = [mnist.data[i] for i in range(len(mnist.data)) if mnist.target[i] in {0,1} ]\n",
    "X = np.array(X)\n",
    "\n",
    "Y = [mnist.target[i] for i in range(len(mnist.data)) if mnist.target[i] in {0,1} ]\n",
    "Y = np.array(Y)\n",
    "\n",
    "X.shape, Y.shape"
   ]
  },
  {
   "cell_type": "code",
   "execution_count": 93,
   "metadata": {},
   "outputs": [
    {
     "name": "stdout",
     "output_type": "stream",
     "text": [
      "Accuracy: 1.00 (+/- 0.00)\n"
     ]
    }
   ],
   "source": [
    "scores = cross_val_score(model, X, Y, cv=3)\n",
    "print(\"Accuracy: %0.2f (+/- %0.2f)\" % (scores.mean(), scores.std() * 2))"
   ]
  },
  {
   "cell_type": "code",
   "execution_count": 95,
   "metadata": {},
   "outputs": [
    {
     "data": {
      "text/html": [
       "<div>\n",
       "<style scoped>\n",
       "    .dataframe tbody tr th:only-of-type {\n",
       "        vertical-align: middle;\n",
       "    }\n",
       "\n",
       "    .dataframe tbody tr th {\n",
       "        vertical-align: top;\n",
       "    }\n",
       "\n",
       "    .dataframe thead th {\n",
       "        text-align: right;\n",
       "    }\n",
       "</style>\n",
       "<table border=\"1\" class=\"dataframe\">\n",
       "  <thead>\n",
       "    <tr style=\"text-align: right;\">\n",
       "      <th></th>\n",
       "      <th>0</th>\n",
       "      <th>1</th>\n",
       "      <th>2</th>\n",
       "      <th>3</th>\n",
       "    </tr>\n",
       "  </thead>\n",
       "  <tbody>\n",
       "    <tr>\n",
       "      <th>k</th>\n",
       "      <td>2.000000</td>\n",
       "      <td>3.000000</td>\n",
       "      <td>4.000000</td>\n",
       "      <td>5.000000</td>\n",
       "    </tr>\n",
       "    <tr>\n",
       "      <th>accuracy</th>\n",
       "      <td>0.999323</td>\n",
       "      <td>0.999323</td>\n",
       "      <td>0.999526</td>\n",
       "      <td>0.999594</td>\n",
       "    </tr>\n",
       "    <tr>\n",
       "      <th>stdev</th>\n",
       "      <td>0.000271</td>\n",
       "      <td>0.000253</td>\n",
       "      <td>0.000400</td>\n",
       "      <td>0.000395</td>\n",
       "    </tr>\n",
       "  </tbody>\n",
       "</table>\n",
       "</div>"
      ],
      "text/plain": [
       "                 0         1         2         3\n",
       "k         2.000000  3.000000  4.000000  5.000000\n",
       "accuracy  0.999323  0.999323  0.999526  0.999594\n",
       "stdev     0.000271  0.000253  0.000400  0.000395"
      ]
     },
     "execution_count": 95,
     "metadata": {},
     "output_type": "execute_result"
    }
   ],
   "source": [
    "k = [i for i in range(2,6)]\n",
    "accuracy = []\n",
    "stdev = []\n",
    "\n",
    "for i in k:\n",
    "    model = KNeighborsClassifier(n_neighbors=4)\n",
    "    scores = cross_val_score(model, X, Y, cv=i)\n",
    "    accuracy.append(scores.mean())\n",
    "    stdev.append(scores.std())\n",
    "    \n",
    "optimal_k = pd.DataFrame(data=[k,accuracy,stdev])\n",
    "\n",
    "optimal_k.T\n",
    "optimal_k.rename({0:'k', 1:'accuracy', 2:'stdev'})"
   ]
  },
  {
   "cell_type": "markdown",
   "metadata": {},
   "source": [
    "### Limitations\n",
    "\n",
    "The data itself is quite reliable, as it has proven itself in the academic setting multiple times. The model, however, has strong limitations as it has only been trained to recognize 0 and 1. 0 and 1 are very distinct numbers, which explains the strong performance (100% accuracy), but makes it more vulnurable to being overfitted to these exact numbers. If there was a '7' in the dataset, it will most likely be classified as a 1. If the model had been trained on all numbers, it would be (more) able to distinguish between a 1 and a 7. \n",
    "\n",
    "\n",
    "Testing the model on the original dataset has outstanding performance as well (99% accuracy) and performance increases marginally as k increases. If it were dramatically important to predict 0 and 1 correctly, it would be worth spending more computing power on testing more k's and choosing the optimal k which might be higher. "
   ]
  }
 ],
 "metadata": {
  "anaconda-cloud": {},
  "kernelspec": {
   "display_name": "py36",
   "language": "python",
   "name": "py36"
  },
  "language_info": {
   "codemirror_mode": {
    "name": "ipython",
    "version": 3
   },
   "file_extension": ".py",
   "mimetype": "text/x-python",
   "name": "python",
   "nbconvert_exporter": "python",
   "pygments_lexer": "ipython3",
   "version": "3.6.4"
  }
 },
 "nbformat": 4,
 "nbformat_minor": 1
}
