{
 "cells": [
  {
   "cell_type": "markdown",
   "metadata": {
    "collapsed": true
   },
   "source": [
    "# Predict man's vs woman's clothing\n",
    "\n",
    "Image Data from: http://www.image-net.org/"
   ]
  },
  {
   "cell_type": "code",
   "execution_count": 42,
   "metadata": {},
   "outputs": [],
   "source": [
    "import numpy as np\n",
    "from sklearn.decomposition import PCA\n",
    "from glob import glob\n",
    "import matplotlib.pyplot as plt\n",
    "%matplotlib inline"
   ]
  },
  {
   "cell_type": "code",
   "execution_count": 17,
   "metadata": {},
   "outputs": [],
   "source": [
    "man_images = glob('man_200_resized/*')\n",
    "woman_images = glob('woman_200_resized/*')"
   ]
  },
  {
   "cell_type": "markdown",
   "metadata": {},
   "source": [
    "### preprocessing of size and shape has been done before.\n",
    "\n",
    "import cv2, glob\n",
    "\n",
    "images = glob.glob(\"*\")\n",
    "\n",
    "for image in images:\n",
    "\n",
    "    img = cv2.imread(image,1)\n",
    "    \n",
    "    re = cv2.resize(img, (100,200))\n",
    "    \n",
    "    cv2.imwrite(\"resized_\"+image, re)"
   ]
  },
  {
   "cell_type": "code",
   "execution_count": 35,
   "metadata": {},
   "outputs": [
    {
     "data": {
      "text/plain": [
       "(232, 60000)"
      ]
     },
     "execution_count": 35,
     "metadata": {},
     "output_type": "execute_result"
    }
   ],
   "source": [
    "def transform_image(file):\n",
    "    with open(file, 'r+b') as f:\n",
    "        with Image.open(f) as image:\n",
    "            return np.array(image).flatten()\n",
    "images = [(read_image(path), 1) for path in man_images] +\\\n",
    "    [(read_image(path), 0) for path in woman_images]\n",
    "\n",
    "X = np.array([image[0] for image in images])\n",
    "Y = np.array([image[1] for image in images])\n",
    "\n",
    "X.shape"
   ]
  },
  {
   "cell_type": "code",
   "execution_count": 22,
   "metadata": {
    "collapsed": true
   },
   "outputs": [],
   "source": [
    "pca = PCA(n_components=232)"
   ]
  },
  {
   "cell_type": "code",
   "execution_count": 33,
   "metadata": {},
   "outputs": [
    {
     "data": {
      "text/plain": [
       "PCA(copy=True, iterated_power='auto', n_components=232, random_state=None,\n",
       "  svd_solver='auto', tol=0.0, whiten=False)"
      ]
     },
     "execution_count": 33,
     "metadata": {},
     "output_type": "execute_result"
    }
   ],
   "source": [
    "pca.fit(X)"
   ]
  },
  {
   "cell_type": "code",
   "execution_count": 47,
   "metadata": {},
   "outputs": [],
   "source": [
    "variance_explained = pca.explained_variance_ratio_\n",
    "cum_var_explained = np.cumsum(variance_explained)"
   ]
  },
  {
   "cell_type": "code",
   "execution_count": 58,
   "metadata": {},
   "outputs": [
    {
     "data": {
      "image/png": "[encoded data removed]",
      "text/plain": [
       "<Figure size 432x288 with 1 Axes>"
      ]
     },
     "metadata": {},
     "output_type": "display_data"
    }
   ],
   "source": [
    "x = next(x[0] for x in enumerate(cum_var_explained) if x[1] > 0.9)\n",
    "\n",
    "plt.plot(cum_var_explained)\n",
    "plt.axvline(x=x, color='g')\n",
    "plt.ylabel('cumulative variance explained')\n",
    "plt.xlabel('number of PCAs')\n",
    "plt.show()"
   ]
  }
 ],
 "metadata": {
  "anaconda-cloud": {},
  "kernelspec": {
   "display_name": "py36",
   "language": "python",
   "name": "py36"
  },
  "language_info": {
   "codemirror_mode": {
    "name": "ipython",
    "version": 3
   },
   "file_extension": ".py",
   "mimetype": "text/x-python",
   "name": "python",
   "nbconvert_exporter": "python",
   "pygments_lexer": "ipython3",
   "version": "3.6.4"
  }
 },
 "nbformat": 4,
 "nbformat_minor": 1
}
