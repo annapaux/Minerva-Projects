{
 "cells": [
  {
   "cell_type": "markdown",
   "metadata": {},
   "source": [
    "# Assignment 5 - Fraud: A how-to guide\n",
    "Anna Pauxberger\n",
    "\n",
    "27 November 2018"
   ]
  },
  {
   "cell_type": "markdown",
   "metadata": {},
   "source": [
    "# The Model\n",
    "\n",
    "### Intro\n",
    "To detect fraud and other abnomalies, it is helpful to create synthetic datasets that model what the data is expected to look like. The below code models 2518 transactions over the span of four years. It models (1) the number of transactions in a single month (2) the day in the month that the transaction occurs (3) transaction size. Using these models, a fake month of transactions is created.\n",
    "\n",
    "### Density Models\n",
    "Density models model data by placing Gaussian distributions on each data point. The more data, the smoother the Gaussians can model the space. If there are only few data points, the bandwidth parameter can influence how strongly the few data points influence the model, or how smooth the model will be. The bandwidth is similar to the standard deviation of the Gaussians - the higher it is the more flexibility we allow. \n",
    "\n",
    "For example in modeling the day in the month, a bandwidth of 2 would indicate that the Gaussian placed on the training data point, e.g. on day 8, has 95% of its density between day 6 and day 10. If the bandwidth is too low, the model gives too much weight to the training data points, which could overfit the model. However, a large bandwidth may be too inaccurate. \n",
    "\n",
    "#overfitting\n",
    "\n",
    "\n",
    "### Limitations\n",
    "- Gaussian KDEs are continuous, but our dataset is discrete with transactions happening on a daily basis (e.g. there is no 14.5th of September). \n",
    "- The model approximates the data with Gaussian distributions but without limits, which could lead to sampling negative numbers for number of transactions, for example. In the creation of the fictitious month the distribution is \"truncated\" by not allowing to sample negative numbers for number of transactions and day of month, but this violates the assumption of coming from a Gaussian distribution. \n",
    "- The data size is quite small, especially when grouped by month, which makes parameter optimization and cross-validation more difficult. If more data was available, it would be interesting to use for example the last year as test set to also test for time effects.\n",
    "- The model is also not able to capture the proximit of the first and last day of the month, since we did not specify that e.g. the 1st comes after the 31st, or whether the month ends on the 28th/30th/31st. This impairs the modeling around these values. \n",
    "- Finally, other parameters play into whether or not a transaction was fraudulent, such as the time of the day, what location the transaction occurred in, or what purpose the transaction had. A forensic accountant would have good reasons to be skeptical of the below model. "
   ]
  },
  {
   "cell_type": "code",
   "execution_count": 2,
   "metadata": {},
   "outputs": [],
   "source": [
    "import pandas as pd\n",
    "import requests\n",
    "import matplotlib.pylab as plt\n",
    "%matplotlib inline\n",
    "import numpy as np\n",
    "import math\n",
    "import seaborn as sns\n",
    "from sklearn.neighbors.kde import KernelDensity\n",
    "from sklearn.model_selection import train_test_split\n",
    "from sklearn.model_selection import LeaveOneOut"
   ]
  },
  {
   "cell_type": "markdown",
   "metadata": {},
   "source": [
    "### Data exploration"
   ]
  },
  {
   "cell_type": "code",
   "execution_count": 17,
   "metadata": {},
   "outputs": [],
   "source": [
    "url = \"https://course-resources.minerva.kgi.edu/uploaded_files/mke/Y5GZpr/anonymized.csv\"\n",
    "fraud = pd.read_csv(url)"
   ]
  },
  {
   "cell_type": "code",
   "execution_count": 21,
   "metadata": {},
   "outputs": [],
   "source": [
    "fraud['Datetime'] = pd.to_datetime(fraud['Date'])\n",
    "fraud['Date'] = fraud['Datetime'].dt.strftime('%Y%m%d')"
   ]
  },
  {
   "cell_type": "code",
   "execution_count": 239,
   "metadata": {},
   "outputs": [
    {
     "data": {
      "text/plain": [
       "(2518, Timestamp('2013-09-20 00:00:00'), Timestamp('2017-09-28 00:00:00'))"
      ]
     },
     "execution_count": 239,
     "metadata": {},
     "output_type": "execute_result"
    }
   ],
   "source": [
    "len(fraud), min(fraud['Datetime']), max(fraud['Datetime'])"
   ]
  },
  {
   "cell_type": "code",
   "execution_count": 185,
   "metadata": {},
   "outputs": [
    {
     "data": {
      "text/html": [
       "<div>\n",
       "<style scoped>\n",
       "    .dataframe tbody tr th:only-of-type {\n",
       "        vertical-align: middle;\n",
       "    }\n",
       "\n",
       "    .dataframe tbody tr th {\n",
       "        vertical-align: top;\n",
       "    }\n",
       "\n",
       "    .dataframe thead th {\n",
       "        text-align: right;\n",
       "    }\n",
       "</style>\n",
       "<table border=\"1\" class=\"dataframe\">\n",
       "  <thead>\n",
       "    <tr style=\"text-align: right;\">\n",
       "      <th></th>\n",
       "      <th>Date</th>\n",
       "      <th>Amount</th>\n",
       "      <th>Datetime</th>\n",
       "      <th>month_year</th>\n",
       "      <th>year_month</th>\n",
       "      <th>day</th>\n",
       "      <th>diff</th>\n",
       "    </tr>\n",
       "  </thead>\n",
       "  <tbody>\n",
       "    <tr>\n",
       "      <th>0</th>\n",
       "      <td>20160525</td>\n",
       "      <td>54241.35</td>\n",
       "      <td>2016-05-25</td>\n",
       "      <td>2016-05</td>\n",
       "      <td>2016-05</td>\n",
       "      <td>25</td>\n",
       "      <td>NaN</td>\n",
       "    </tr>\n",
       "    <tr>\n",
       "      <th>1</th>\n",
       "      <td>20170529</td>\n",
       "      <td>54008.83</td>\n",
       "      <td>2017-05-29</td>\n",
       "      <td>2017-05</td>\n",
       "      <td>2017-05</td>\n",
       "      <td>29</td>\n",
       "      <td>0.0</td>\n",
       "    </tr>\n",
       "    <tr>\n",
       "      <th>2</th>\n",
       "      <td>20170630</td>\n",
       "      <td>54008.82</td>\n",
       "      <td>2017-06-30</td>\n",
       "      <td>2017-06</td>\n",
       "      <td>2017-06</td>\n",
       "      <td>30</td>\n",
       "      <td>0.0</td>\n",
       "    </tr>\n",
       "    <tr>\n",
       "      <th>3</th>\n",
       "      <td>20170105</td>\n",
       "      <td>52704.37</td>\n",
       "      <td>2017-01-05</td>\n",
       "      <td>2017-01</td>\n",
       "      <td>2017-01</td>\n",
       "      <td>5</td>\n",
       "      <td>0.0</td>\n",
       "    </tr>\n",
       "    <tr>\n",
       "      <th>4</th>\n",
       "      <td>20170223</td>\n",
       "      <td>52704.36</td>\n",
       "      <td>2017-02-23</td>\n",
       "      <td>2017-02</td>\n",
       "      <td>2017-02</td>\n",
       "      <td>23</td>\n",
       "      <td>0.0</td>\n",
       "    </tr>\n",
       "  </tbody>\n",
       "</table>\n",
       "</div>"
      ],
      "text/plain": [
       "       Date    Amount   Datetime month_year year_month  day  diff\n",
       "0  20160525  54241.35 2016-05-25    2016-05    2016-05   25   NaN\n",
       "1  20170529  54008.83 2017-05-29    2017-05    2017-05   29   0.0\n",
       "2  20170630  54008.82 2017-06-30    2017-06    2017-06   30   0.0\n",
       "3  20170105  52704.37 2017-01-05    2017-01    2017-01    5   0.0\n",
       "4  20170223  52704.36 2017-02-23    2017-02    2017-02   23   0.0"
      ]
     },
     "execution_count": 185,
     "metadata": {},
     "output_type": "execute_result"
    }
   ],
   "source": [
    "fraud['year_month'] = fraud['Datetime'].dt.to_period('M')\n",
    "fraud.head()"
   ]
  },
  {
   "cell_type": "markdown",
   "metadata": {},
   "source": [
    "### Optimal Bandwidth Cross-Validation\n",
    "\n",
    "Since our data size is rather small, I decided to cross-validate my choice of the bandwidth using the leave one out method. The optimal_bandwidth() function computes the log probability of the test set, or to be precise the average probability of a point of the test set being sampled by the model. Since we are dealing with continuous variables and the probability of a continuous variable is always zero, the log probabilities are only relevant in a comparative view.\n",
    "\n",
    "I decided on the choice of the leave one out method, since we only have 49 datapoints for the estimation of number of transactions per month. As I apply the same method to the subsequent models with 2518 datapoints, LOO might perform a little worse since results might be strongly correlated, but I decided that an optimization of cross-validation methods would go beyond the scope of the assignment. "
   ]
  },
  {
   "cell_type": "code",
   "execution_count": 394,
   "metadata": {},
   "outputs": [],
   "source": [
    "def optimal_bandwidth(data, bandwidths):\n",
    "    '''\n",
    "    Optimizes the bandwidth smoothing parameter via Leave-One-Out\n",
    "    cross-validation. Computes the score on test data to get the log \n",
    "    probability.\n",
    "    '''\n",
    "    loo = LeaveOneOut()\n",
    "    score_means, score_stds = [], []\n",
    "    \n",
    "    for b in bandwidths:\n",
    "        scores = []\n",
    "        for train_index, test_index in loo.split(data):\n",
    "            x_train, X_test = data[train_index], data[test_index]\n",
    "            train_set = np.asarray(x_train).reshape(-1,1)\n",
    "            test_set = np.asarray(X_test).reshape(-1,1)\n",
    "\n",
    "            kde = KernelDensity(kernel='gaussian', bandwidth=b).fit(train_set)\n",
    "            # kde.score() returns the log likelihood \n",
    "            # exponentiated to be better interpretable\n",
    "            # divided by the length of the test set to get average probability\n",
    "            \n",
    "            #scores.append(math.exp(kde.score(test_set)/len(test_set)))\n",
    "            scores.append(kde.score(test_set))\n",
    "    \n",
    "        N = loo.get_n_splits(data)\n",
    "        score_means.append(np.mean(scores))\n",
    "        score_stds.append(np.std(scores)/math.sqrt(N))\n",
    "            \n",
    "    score_idx = (score_means.index(max(score_means)))\n",
    "    optimal_b = bandwidths[score_idx]\n",
    "    \n",
    "    return optimal_b, bandwidths, score_means, score_stds"
   ]
  },
  {
   "cell_type": "markdown",
   "metadata": {},
   "source": [
    "### (1) Number of transactions per month"
   ]
  },
  {
   "cell_type": "code",
   "execution_count": 263,
   "metadata": {},
   "outputs": [
    {
     "data": {
      "text/plain": [
       "(49, 6)"
      ]
     },
     "execution_count": 263,
     "metadata": {},
     "output_type": "execute_result"
    }
   ],
   "source": [
    "count_per_month = fraud.groupby('year_month').agg(['mean','count'])\n",
    "count_per_month.shape"
   ]
  },
  {
   "cell_type": "code",
   "execution_count": 264,
   "metadata": {},
   "outputs": [
    {
     "data": {
      "text/html": [
       "<div>\n",
       "<style scoped>\n",
       "    .dataframe tbody tr th:only-of-type {\n",
       "        vertical-align: middle;\n",
       "    }\n",
       "\n",
       "    .dataframe tbody tr th {\n",
       "        vertical-align: top;\n",
       "    }\n",
       "\n",
       "    .dataframe thead tr th {\n",
       "        text-align: left;\n",
       "    }\n",
       "\n",
       "    .dataframe thead tr:last-of-type th {\n",
       "        text-align: right;\n",
       "    }\n",
       "</style>\n",
       "<table border=\"1\" class=\"dataframe\">\n",
       "  <thead>\n",
       "    <tr>\n",
       "      <th></th>\n",
       "      <th colspan=\"2\" halign=\"left\">Amount</th>\n",
       "      <th colspan=\"2\" halign=\"left\">day</th>\n",
       "      <th colspan=\"2\" halign=\"left\">diff</th>\n",
       "    </tr>\n",
       "    <tr>\n",
       "      <th></th>\n",
       "      <th>mean</th>\n",
       "      <th>count</th>\n",
       "      <th>mean</th>\n",
       "      <th>count</th>\n",
       "      <th>mean</th>\n",
       "      <th>count</th>\n",
       "    </tr>\n",
       "    <tr>\n",
       "      <th>year_month</th>\n",
       "      <th></th>\n",
       "      <th></th>\n",
       "      <th></th>\n",
       "      <th></th>\n",
       "      <th></th>\n",
       "      <th></th>\n",
       "    </tr>\n",
       "  </thead>\n",
       "  <tbody>\n",
       "    <tr>\n",
       "      <th>2013-09</th>\n",
       "      <td>1286.093000</td>\n",
       "      <td>10</td>\n",
       "      <td>25.20000</td>\n",
       "      <td>10</td>\n",
       "      <td>0.0</td>\n",
       "      <td>10</td>\n",
       "    </tr>\n",
       "    <tr>\n",
       "      <th>2013-10</th>\n",
       "      <td>664.856250</td>\n",
       "      <td>16</td>\n",
       "      <td>17.93750</td>\n",
       "      <td>16</td>\n",
       "      <td>0.0</td>\n",
       "      <td>16</td>\n",
       "    </tr>\n",
       "    <tr>\n",
       "      <th>2013-11</th>\n",
       "      <td>1232.373750</td>\n",
       "      <td>8</td>\n",
       "      <td>23.75000</td>\n",
       "      <td>8</td>\n",
       "      <td>0.0</td>\n",
       "      <td>8</td>\n",
       "    </tr>\n",
       "    <tr>\n",
       "      <th>2013-12</th>\n",
       "      <td>208.321111</td>\n",
       "      <td>27</td>\n",
       "      <td>18.62963</td>\n",
       "      <td>27</td>\n",
       "      <td>0.0</td>\n",
       "      <td>27</td>\n",
       "    </tr>\n",
       "    <tr>\n",
       "      <th>2014-01</th>\n",
       "      <td>-850.503500</td>\n",
       "      <td>40</td>\n",
       "      <td>16.82500</td>\n",
       "      <td>40</td>\n",
       "      <td>0.0</td>\n",
       "      <td>40</td>\n",
       "    </tr>\n",
       "  </tbody>\n",
       "</table>\n",
       "</div>"
      ],
      "text/plain": [
       "                 Amount             day       diff      \n",
       "                   mean count      mean count mean count\n",
       "year_month                                              \n",
       "2013-09     1286.093000    10  25.20000    10  0.0    10\n",
       "2013-10      664.856250    16  17.93750    16  0.0    16\n",
       "2013-11     1232.373750     8  23.75000     8  0.0     8\n",
       "2013-12      208.321111    27  18.62963    27  0.0    27\n",
       "2014-01     -850.503500    40  16.82500    40  0.0    40"
      ]
     },
     "execution_count": 264,
     "metadata": {},
     "output_type": "execute_result"
    }
   ],
   "source": [
    "count_per_month.head()"
   ]
  },
  {
   "cell_type": "code",
   "execution_count": 326,
   "metadata": {},
   "outputs": [
    {
     "data": {
      "image/png": "[encoded data removed]",
      "text/plain": [
       "<Figure size 432x288 with 1 Axes>"
      ]
     },
     "metadata": {
      "needs_background": "light"
     },
     "output_type": "display_data"
    }
   ],
   "source": [
    "# Actual Data\n",
    "plt.hist(count_per_month['Amount', 'count'])\n",
    "plt.title('Transactions per month (Actual Data)')\n",
    "plt.show()"
   ]
  },
  {
   "cell_type": "code",
   "execution_count": 380,
   "metadata": {},
   "outputs": [
    {
     "name": "stdout",
     "output_type": "stream",
     "text": [
      "Optimal bandwidth: 10\n"
     ]
    },
    {
     "data": {
      "text/plain": [
       "(10,\n",
       " [0.01, 0.1, 1, 5, 10, 20, 100],\n",
       " [-30101.909769275597,\n",
       "  -303.19194620533005,\n",
       "  -7.1442460376575,\n",
       "  -4.5690775885714485,\n",
       "  -4.487550088798875,\n",
       "  -4.532725894191995,\n",
       "  -5.564507558916142],\n",
       " [12319.079553836022,\n",
       "  123.200859907732,\n",
       "  1.2593544232607967,\n",
       "  0.13805710338471258,\n",
       "  0.10323140130037951,\n",
       "  0.06136482983501007,\n",
       "  0.004389673340568858])"
      ]
     },
     "execution_count": 380,
     "metadata": {},
     "output_type": "execute_result"
    }
   ],
   "source": [
    "# Optimal Parameter\n",
    "# Since we have only 49 datapoints for transaction amounts of approximately 1-110\n",
    "# I would expect the parameter to be rather large to smooth the data (~5)\n",
    "\n",
    "bandwidths_1 = [0.01, 0.1, 1, 5, 10, 20, 100]\n",
    "X_1 = np.asarray(count_per_month['Amount', 'count']).reshape(-1,1)\n",
    "\n",
    "optimal_outcome_1 = optimal_bandwidth(X_1, bandwidths_1)\n",
    "optimal_b_1 = optimal_outcome_1[0]\n",
    "print(\"Optimal bandwidth:\", optimal_b_1)\n",
    "optimal_outcome_1"
   ]
  },
  {
   "cell_type": "code",
   "execution_count": 370,
   "metadata": {},
   "outputs": [
    {
     "data": {
      "image/png": "[encoded data removed]",
      "text/plain": [
       "<Figure size 432x288 with 1 Axes>"
      ]
     },
     "metadata": {
      "needs_background": "light"
     },
     "output_type": "display_data"
    }
   ],
   "source": [
    "# Density Model\n",
    "kde_1 = KernelDensity(kernel='gaussian', bandwidth=optimal_b_1).fit(X_1)\n",
    "\n",
    "samples_1 = kde_1.sample(1000000)\n",
    "plt.hist(samples_1, bins=10)\n",
    "plt.title('Transactions per month (Density Model)')\n",
    "plt.show()"
   ]
  },
  {
   "cell_type": "markdown",
   "metadata": {},
   "source": [
    "### (2) Day Of The Month"
   ]
  },
  {
   "cell_type": "code",
   "execution_count": 378,
   "metadata": {},
   "outputs": [
    {
     "data": {
      "text/plain": [
       "(2518,)"
      ]
     },
     "execution_count": 378,
     "metadata": {},
     "output_type": "execute_result"
    }
   ],
   "source": [
    "fraud['day'] = fraud['Datetime'].dt.day\n",
    "fraud['day'].shape"
   ]
  },
  {
   "cell_type": "code",
   "execution_count": 376,
   "metadata": {},
   "outputs": [
    {
     "data": {
      "text/html": [
       "<div>\n",
       "<style scoped>\n",
       "    .dataframe tbody tr th:only-of-type {\n",
       "        vertical-align: middle;\n",
       "    }\n",
       "\n",
       "    .dataframe tbody tr th {\n",
       "        vertical-align: top;\n",
       "    }\n",
       "\n",
       "    .dataframe thead th {\n",
       "        text-align: right;\n",
       "    }\n",
       "</style>\n",
       "<table border=\"1\" class=\"dataframe\">\n",
       "  <thead>\n",
       "    <tr style=\"text-align: right;\">\n",
       "      <th></th>\n",
       "      <th>Date</th>\n",
       "      <th>Amount</th>\n",
       "      <th>Datetime</th>\n",
       "      <th>month_year</th>\n",
       "      <th>year_month</th>\n",
       "      <th>day</th>\n",
       "      <th>diff</th>\n",
       "    </tr>\n",
       "  </thead>\n",
       "  <tbody>\n",
       "    <tr>\n",
       "      <th>0</th>\n",
       "      <td>20160525</td>\n",
       "      <td>54241.35</td>\n",
       "      <td>2016-05-25</td>\n",
       "      <td>2016-05</td>\n",
       "      <td>2016-05</td>\n",
       "      <td>25</td>\n",
       "      <td>NaN</td>\n",
       "    </tr>\n",
       "    <tr>\n",
       "      <th>1</th>\n",
       "      <td>20170529</td>\n",
       "      <td>54008.83</td>\n",
       "      <td>2017-05-29</td>\n",
       "      <td>2017-05</td>\n",
       "      <td>2017-05</td>\n",
       "      <td>29</td>\n",
       "      <td>0.0</td>\n",
       "    </tr>\n",
       "    <tr>\n",
       "      <th>2</th>\n",
       "      <td>20170630</td>\n",
       "      <td>54008.82</td>\n",
       "      <td>2017-06-30</td>\n",
       "      <td>2017-06</td>\n",
       "      <td>2017-06</td>\n",
       "      <td>30</td>\n",
       "      <td>0.0</td>\n",
       "    </tr>\n",
       "    <tr>\n",
       "      <th>3</th>\n",
       "      <td>20170105</td>\n",
       "      <td>52704.37</td>\n",
       "      <td>2017-01-05</td>\n",
       "      <td>2017-01</td>\n",
       "      <td>2017-01</td>\n",
       "      <td>5</td>\n",
       "      <td>0.0</td>\n",
       "    </tr>\n",
       "    <tr>\n",
       "      <th>4</th>\n",
       "      <td>20170223</td>\n",
       "      <td>52704.36</td>\n",
       "      <td>2017-02-23</td>\n",
       "      <td>2017-02</td>\n",
       "      <td>2017-02</td>\n",
       "      <td>23</td>\n",
       "      <td>0.0</td>\n",
       "    </tr>\n",
       "  </tbody>\n",
       "</table>\n",
       "</div>"
      ],
      "text/plain": [
       "       Date    Amount   Datetime month_year year_month  day  diff\n",
       "0  20160525  54241.35 2016-05-25    2016-05    2016-05   25   NaN\n",
       "1  20170529  54008.83 2017-05-29    2017-05    2017-05   29   0.0\n",
       "2  20170630  54008.82 2017-06-30    2017-06    2017-06   30   0.0\n",
       "3  20170105  52704.37 2017-01-05    2017-01    2017-01    5   0.0\n",
       "4  20170223  52704.36 2017-02-23    2017-02    2017-02   23   0.0"
      ]
     },
     "execution_count": 376,
     "metadata": {},
     "output_type": "execute_result"
    }
   ],
   "source": [
    "fraud.head()"
   ]
  },
  {
   "cell_type": "code",
   "execution_count": 392,
   "metadata": {},
   "outputs": [
    {
     "data": {
      "image/png": "[encoded data removed]",
      "text/plain": [
       "<Figure size 432x288 with 1 Axes>"
      ]
     },
     "metadata": {
      "needs_background": "light"
     },
     "output_type": "display_data"
    }
   ],
   "source": [
    "# Actual Data\n",
    "plt.hist(fraud['day'], bins=31)\n",
    "plt.title('Day Of The Month (Actual Data)')\n",
    "plt.show()"
   ]
  },
  {
   "cell_type": "code",
   "execution_count": 395,
   "metadata": {},
   "outputs": [
    {
     "name": "stdout",
     "output_type": "stream",
     "text": [
      "Optimal bandwidth: 1e-11\n"
     ]
    },
    {
     "data": {
      "text/plain": [
       "(1e-11,\n",
       " [1e-11, 0.0001, 0.001, 0.01, 0.1, 1],\n",
       " [1376953220.6857276,\n",
       "  137.69532206857264,\n",
       "  13.769532206857273,\n",
       "  1.3769532206857262,\n",
       "  0.13769532206857266,\n",
       "  0.03290099777094529],\n",
       " [8128367.096078402,\n",
       "  0.8128367096078387,\n",
       "  0.08128367096078401,\n",
       "  0.008128367096078391,\n",
       "  0.0008128367096078393,\n",
       "  0.00015758742399238102])"
      ]
     },
     "execution_count": 395,
     "metadata": {},
     "output_type": "execute_result"
    }
   ],
   "source": [
    "# Optimal Parameter\n",
    "# should be rather small (around 1-2) since we have 2518 data points for 31 days\n",
    "# Unexpectedly, the optimization leads to a bandwidth close to zero, indicating that the\n",
    "# model performs almost no smoothing. The histogram of the model looks similar to real data.\n",
    "\n",
    "bandwidths_2 = [0.00000000001, 0.0001, 0.001, 0.01, 0.1, 1]\n",
    "X_2 = np.asarray(fraud['day']).reshape(-1,1)\n",
    "\n",
    "optimal_outcome_2 = optimal_bandwidth(X_2, bandwidths_2)\n",
    "optimal_b_2 = optimal_outcome_2[0]\n",
    "print(\"Optimal bandwidth:\", optimal_b_2)\n",
    "optimal_outcome_2"
   ]
  },
  {
   "cell_type": "code",
   "execution_count": 393,
   "metadata": {},
   "outputs": [
    {
     "data": {
      "image/png": "[encoded data removed]",
      "text/plain": [
       "<Figure size 432x288 with 1 Axes>"
      ]
     },
     "metadata": {
      "needs_background": "light"
     },
     "output_type": "display_data"
    }
   ],
   "source": [
    "# Density Model\n",
    "kde_2 = KernelDensity(kernel='gaussian', bandwidth=optimal_b_2).fit(X_2)\n",
    "\n",
    "samples_2 = kde_2.sample(1000000)\n",
    "plt.hist(samples_2, bins=31)\n",
    "plt.title('Day Of The Month (Density Model)')\n",
    "plt.show()"
   ]
  },
  {
   "cell_type": "code",
   "execution_count": 158,
   "metadata": {},
   "outputs": [
    {
     "data": {
      "image/png": "[encoded data removed]",
      "text/plain": [
       "<Figure size 432x288 with 1 Axes>"
      ]
     },
     "metadata": {
      "needs_background": "light"
     },
     "output_type": "display_data"
    }
   ],
   "source": [
    "# Neglecting the parameter optimization and choosing a higher bandwidth\n",
    "# It becomes visible that the smoothing is stronger, at the expense of estimates outside\n",
    "# the expected range to occur more often as well.\n",
    "\n",
    "X_2 = np.asarray(fraud['day']).reshape(-1,1)\n",
    "kde_2 = KernelDensity(kernel='gaussian', bandwidth=1).fit(X_2)\n",
    "\n",
    "samples_2 = kde_2.sample(1000000)\n",
    "plt.hist(samples_2, bins=31, density=True)\n",
    "plt.show()"
   ]
  },
  {
   "cell_type": "markdown",
   "metadata": {},
   "source": [
    "### (3) Transaction Size"
   ]
  },
  {
   "cell_type": "code",
   "execution_count": 335,
   "metadata": {},
   "outputs": [
    {
     "data": {
      "image/png": "[encoded data removed]",
      "text/plain": [
       "<Figure size 432x288 with 1 Axes>"
      ]
     },
     "metadata": {
      "needs_background": "light"
     },
     "output_type": "display_data"
    }
   ],
   "source": [
    "# Actual Data\n",
    "plt.hist(fraud['Amount'], bins=31)\n",
    "plt.title('Transaction Amounts (Actual Data)')\n",
    "plt.show()"
   ]
  },
  {
   "cell_type": "code",
   "execution_count": 337,
   "metadata": {},
   "outputs": [
    {
     "data": {
      "image/png": "[encoded data removed]",
      "text/plain": [
       "<Figure size 432x288 with 1 Axes>"
      ]
     },
     "metadata": {
      "needs_background": "light"
     },
     "output_type": "display_data"
    }
   ],
   "source": [
    "# Real Data\n",
    "plt.hist(fraud_train['Amount'], bins=5000)\n",
    "plt.title('Zoom of Transaction Amounts (Actual Data)')\n",
    "plt.xlim(-200, 200)\n",
    "plt.show()"
   ]
  },
  {
   "cell_type": "code",
   "execution_count": 387,
   "metadata": {},
   "outputs": [
    {
     "name": "stdout",
     "output_type": "stream",
     "text": [
      "Optimal bandwidth: 1000\n"
     ]
    },
    {
     "data": {
      "text/plain": [
       "(1000,\n",
       " [0.001, 0.01, 0.1, 1, 10, 100, 1000, 10000],\n",
       " [-17994896179.03721,\n",
       "  -179948964.7690037,\n",
       "  -1799494.7784333779,\n",
       "  -18001.71161429484,\n",
       "  -187.67143917912716,\n",
       "  -10.062152561782712,\n",
       "  -8.986266319704667,\n",
       "  -10.377596695981277],\n",
       " [8791803461.040073,\n",
       "  87918034.61131996,\n",
       "  879180.3471360521,\n",
       "  8791.805019509291,\n",
       "  87.92072745349394,\n",
       "  0.8840789868137336,\n",
       "  0.03483370986333481,\n",
       "  0.012630422055555085])"
      ]
     },
     "execution_count": 387,
     "metadata": {},
     "output_type": "execute_result"
    }
   ],
   "source": [
    "# Optimal Parameter\n",
    "# Hard to estimate, but rather large. We have a lot of data points (2518), but they are \n",
    "# concentrated around -1000, whereas there are areas when there are only few data points.\n",
    "\n",
    "bandwidths_3 = [0.001, 0.01, 0.1, 1, 10, 100, 1000, 10000]\n",
    "X_3 = np.asarray(fraud['Amount']).reshape(-1,1)\n",
    "\n",
    "optimal_outcome_3 = optimal_bandwidth(X_3, bandwidths_3)\n",
    "optimal_b_3 = optimal_outcome_3[0]\n",
    "print(\"Optimal bandwidth:\", optimal_b_3)\n",
    "optimal_outcome_3"
   ]
  },
  {
   "cell_type": "code",
   "execution_count": 388,
   "metadata": {},
   "outputs": [
    {
     "data": {
      "image/png": "[encoded data removed]",
      "text/plain": [
       "<Figure size 432x288 with 1 Axes>"
      ]
     },
     "metadata": {
      "needs_background": "light"
     },
     "output_type": "display_data"
    }
   ],
   "source": [
    "# Density Model\n",
    "kde_3 = KernelDensity(kernel='gaussian', bandwidth=optimal_b_3).fit(X_3)\n",
    "\n",
    "samples_3 = kde_3.sample(1000000)\n",
    "plt.hist(samples_3, bins=300)\n",
    "plt.title('Transaction Sizes (Density Model)')\n",
    "plt.show()"
   ]
  },
  {
   "cell_type": "code",
   "execution_count": 375,
   "metadata": {},
   "outputs": [
    {
     "data": {
      "image/png": "[encoded data removed]",
      "text/plain": [
       "<Figure size 432x288 with 1 Axes>"
      ]
     },
     "metadata": {
      "needs_background": "light"
     },
     "output_type": "display_data"
    }
   ],
   "source": [
    "# KDE Plot\n",
    "sns.kdeplot(fraud['Amount'], bw=0.0000002)\n",
    "plt.title('Precise KDE plot using seaborn')\n",
    "plt.show()"
   ]
  },
  {
   "cell_type": "markdown",
   "metadata": {},
   "source": [
    "### Fictitious month"
   ]
  },
  {
   "cell_type": "code",
   "execution_count": 347,
   "metadata": {},
   "outputs": [],
   "source": [
    "def keep_if_positive(sampling_method):\n",
    "    hold = -1\n",
    "    while hold < 1:\n",
    "        hold = sampling_method\n",
    "    return hold\n",
    "\n",
    "def fake_month():\n",
    "    # (1) Number of transactions\n",
    "    nr_of_transactions = int(keep_if_positive(kde_1.sample(1)))\n",
    "    days, amounts = [], []\n",
    "    \n",
    "    # (2) Day of month\n",
    "    for i in range(nr_of_transactions):\n",
    "        day_of_month = -1\n",
    "        while day_of_month < 1 or day_of_month > 31:\n",
    "            day_of_month = int(kde_2.sample(1)[0,0])\n",
    "        days.append(day_of_month)\n",
    "        \n",
    "        # (3) Transaction amount\n",
    "        amount = round(kde_3.sample(1)[0,0], 2)\n",
    "        amounts.append(amount)\n",
    "        \n",
    "    return days, amounts"
   ]
  },
  {
   "cell_type": "code",
   "execution_count": 348,
   "metadata": {},
   "outputs": [
    {
     "data": {
      "text/html": [
       "<div>\n",
       "<style scoped>\n",
       "    .dataframe tbody tr th:only-of-type {\n",
       "        vertical-align: middle;\n",
       "    }\n",
       "\n",
       "    .dataframe tbody tr th {\n",
       "        vertical-align: top;\n",
       "    }\n",
       "\n",
       "    .dataframe thead th {\n",
       "        text-align: right;\n",
       "    }\n",
       "</style>\n",
       "<table border=\"1\" class=\"dataframe\">\n",
       "  <thead>\n",
       "    <tr style=\"text-align: right;\">\n",
       "      <th></th>\n",
       "      <th>days</th>\n",
       "      <th>amounts</th>\n",
       "    </tr>\n",
       "  </thead>\n",
       "  <tbody>\n",
       "    <tr>\n",
       "      <th>78</th>\n",
       "      <td>1</td>\n",
       "      <td>857.60</td>\n",
       "    </tr>\n",
       "    <tr>\n",
       "      <th>40</th>\n",
       "      <td>1</td>\n",
       "      <td>-1500.00</td>\n",
       "    </tr>\n",
       "    <tr>\n",
       "      <th>87</th>\n",
       "      <td>1</td>\n",
       "      <td>23969.65</td>\n",
       "    </tr>\n",
       "    <tr>\n",
       "      <th>19</th>\n",
       "      <td>2</td>\n",
       "      <td>-66.00</td>\n",
       "    </tr>\n",
       "    <tr>\n",
       "      <th>83</th>\n",
       "      <td>2</td>\n",
       "      <td>-25.98</td>\n",
       "    </tr>\n",
       "    <tr>\n",
       "      <th>42</th>\n",
       "      <td>2</td>\n",
       "      <td>-786.41</td>\n",
       "    </tr>\n",
       "    <tr>\n",
       "      <th>7</th>\n",
       "      <td>2</td>\n",
       "      <td>-348.00</td>\n",
       "    </tr>\n",
       "    <tr>\n",
       "      <th>70</th>\n",
       "      <td>3</td>\n",
       "      <td>-100.00</td>\n",
       "    </tr>\n",
       "    <tr>\n",
       "      <th>92</th>\n",
       "      <td>3</td>\n",
       "      <td>-684.25</td>\n",
       "    </tr>\n",
       "    <tr>\n",
       "      <th>12</th>\n",
       "      <td>5</td>\n",
       "      <td>-1500.00</td>\n",
       "    </tr>\n",
       "    <tr>\n",
       "      <th>34</th>\n",
       "      <td>5</td>\n",
       "      <td>-102.00</td>\n",
       "    </tr>\n",
       "    <tr>\n",
       "      <th>53</th>\n",
       "      <td>6</td>\n",
       "      <td>-15799.00</td>\n",
       "    </tr>\n",
       "    <tr>\n",
       "      <th>10</th>\n",
       "      <td>7</td>\n",
       "      <td>-400.00</td>\n",
       "    </tr>\n",
       "    <tr>\n",
       "      <th>79</th>\n",
       "      <td>8</td>\n",
       "      <td>-416.30</td>\n",
       "    </tr>\n",
       "    <tr>\n",
       "      <th>6</th>\n",
       "      <td>8</td>\n",
       "      <td>-23000.00</td>\n",
       "    </tr>\n",
       "    <tr>\n",
       "      <th>90</th>\n",
       "      <td>9</td>\n",
       "      <td>-1500.00</td>\n",
       "    </tr>\n",
       "    <tr>\n",
       "      <th>58</th>\n",
       "      <td>9</td>\n",
       "      <td>-200.00</td>\n",
       "    </tr>\n",
       "    <tr>\n",
       "      <th>68</th>\n",
       "      <td>10</td>\n",
       "      <td>-406.36</td>\n",
       "    </tr>\n",
       "    <tr>\n",
       "      <th>30</th>\n",
       "      <td>10</td>\n",
       "      <td>-66.00</td>\n",
       "    </tr>\n",
       "    <tr>\n",
       "      <th>75</th>\n",
       "      <td>11</td>\n",
       "      <td>-459.00</td>\n",
       "    </tr>\n",
       "    <tr>\n",
       "      <th>77</th>\n",
       "      <td>12</td>\n",
       "      <td>-3815.00</td>\n",
       "    </tr>\n",
       "    <tr>\n",
       "      <th>64</th>\n",
       "      <td>12</td>\n",
       "      <td>-60.90</td>\n",
       "    </tr>\n",
       "    <tr>\n",
       "      <th>28</th>\n",
       "      <td>12</td>\n",
       "      <td>-516.88</td>\n",
       "    </tr>\n",
       "    <tr>\n",
       "      <th>55</th>\n",
       "      <td>12</td>\n",
       "      <td>-681.00</td>\n",
       "    </tr>\n",
       "    <tr>\n",
       "      <th>80</th>\n",
       "      <td>12</td>\n",
       "      <td>-82.17</td>\n",
       "    </tr>\n",
       "    <tr>\n",
       "      <th>63</th>\n",
       "      <td>12</td>\n",
       "      <td>-990.00</td>\n",
       "    </tr>\n",
       "    <tr>\n",
       "      <th>1</th>\n",
       "      <td>12</td>\n",
       "      <td>-299.93</td>\n",
       "    </tr>\n",
       "    <tr>\n",
       "      <th>24</th>\n",
       "      <td>12</td>\n",
       "      <td>-392.69</td>\n",
       "    </tr>\n",
       "    <tr>\n",
       "      <th>45</th>\n",
       "      <td>13</td>\n",
       "      <td>3645.00</td>\n",
       "    </tr>\n",
       "    <tr>\n",
       "      <th>44</th>\n",
       "      <td>13</td>\n",
       "      <td>-873.80</td>\n",
       "    </tr>\n",
       "    <tr>\n",
       "      <th>...</th>\n",
       "      <td>...</td>\n",
       "      <td>...</td>\n",
       "    </tr>\n",
       "    <tr>\n",
       "      <th>95</th>\n",
       "      <td>25</td>\n",
       "      <td>-21.99</td>\n",
       "    </tr>\n",
       "    <tr>\n",
       "      <th>60</th>\n",
       "      <td>25</td>\n",
       "      <td>-2018.70</td>\n",
       "    </tr>\n",
       "    <tr>\n",
       "      <th>8</th>\n",
       "      <td>25</td>\n",
       "      <td>-339.00</td>\n",
       "    </tr>\n",
       "    <tr>\n",
       "      <th>18</th>\n",
       "      <td>25</td>\n",
       "      <td>-700.00</td>\n",
       "    </tr>\n",
       "    <tr>\n",
       "      <th>23</th>\n",
       "      <td>25</td>\n",
       "      <td>-124.91</td>\n",
       "    </tr>\n",
       "    <tr>\n",
       "      <th>62</th>\n",
       "      <td>25</td>\n",
       "      <td>-63.00</td>\n",
       "    </tr>\n",
       "    <tr>\n",
       "      <th>46</th>\n",
       "      <td>25</td>\n",
       "      <td>-105.38</td>\n",
       "    </tr>\n",
       "    <tr>\n",
       "      <th>32</th>\n",
       "      <td>25</td>\n",
       "      <td>-6156.00</td>\n",
       "    </tr>\n",
       "    <tr>\n",
       "      <th>50</th>\n",
       "      <td>25</td>\n",
       "      <td>-13000.00</td>\n",
       "    </tr>\n",
       "    <tr>\n",
       "      <th>59</th>\n",
       "      <td>26</td>\n",
       "      <td>-40.00</td>\n",
       "    </tr>\n",
       "    <tr>\n",
       "      <th>31</th>\n",
       "      <td>26</td>\n",
       "      <td>-684.25</td>\n",
       "    </tr>\n",
       "    <tr>\n",
       "      <th>84</th>\n",
       "      <td>27</td>\n",
       "      <td>-55.90</td>\n",
       "    </tr>\n",
       "    <tr>\n",
       "      <th>5</th>\n",
       "      <td>27</td>\n",
       "      <td>-435.00</td>\n",
       "    </tr>\n",
       "    <tr>\n",
       "      <th>39</th>\n",
       "      <td>27</td>\n",
       "      <td>-150.60</td>\n",
       "    </tr>\n",
       "    <tr>\n",
       "      <th>91</th>\n",
       "      <td>27</td>\n",
       "      <td>-110.00</td>\n",
       "    </tr>\n",
       "    <tr>\n",
       "      <th>15</th>\n",
       "      <td>27</td>\n",
       "      <td>-2698.00</td>\n",
       "    </tr>\n",
       "    <tr>\n",
       "      <th>86</th>\n",
       "      <td>27</td>\n",
       "      <td>-203.28</td>\n",
       "    </tr>\n",
       "    <tr>\n",
       "      <th>73</th>\n",
       "      <td>27</td>\n",
       "      <td>-360.75</td>\n",
       "    </tr>\n",
       "    <tr>\n",
       "      <th>4</th>\n",
       "      <td>28</td>\n",
       "      <td>-500.00</td>\n",
       "    </tr>\n",
       "    <tr>\n",
       "      <th>49</th>\n",
       "      <td>28</td>\n",
       "      <td>15916.94</td>\n",
       "    </tr>\n",
       "    <tr>\n",
       "      <th>29</th>\n",
       "      <td>28</td>\n",
       "      <td>-100.00</td>\n",
       "    </tr>\n",
       "    <tr>\n",
       "      <th>71</th>\n",
       "      <td>28</td>\n",
       "      <td>-309.00</td>\n",
       "    </tr>\n",
       "    <tr>\n",
       "      <th>37</th>\n",
       "      <td>28</td>\n",
       "      <td>-339.00</td>\n",
       "    </tr>\n",
       "    <tr>\n",
       "      <th>52</th>\n",
       "      <td>28</td>\n",
       "      <td>-400.00</td>\n",
       "    </tr>\n",
       "    <tr>\n",
       "      <th>22</th>\n",
       "      <td>29</td>\n",
       "      <td>-159.00</td>\n",
       "    </tr>\n",
       "    <tr>\n",
       "      <th>57</th>\n",
       "      <td>29</td>\n",
       "      <td>23900.00</td>\n",
       "    </tr>\n",
       "    <tr>\n",
       "      <th>48</th>\n",
       "      <td>29</td>\n",
       "      <td>-1281.81</td>\n",
       "    </tr>\n",
       "    <tr>\n",
       "      <th>38</th>\n",
       "      <td>30</td>\n",
       "      <td>-227.68</td>\n",
       "    </tr>\n",
       "    <tr>\n",
       "      <th>94</th>\n",
       "      <td>30</td>\n",
       "      <td>-494.50</td>\n",
       "    </tr>\n",
       "    <tr>\n",
       "      <th>47</th>\n",
       "      <td>30</td>\n",
       "      <td>-573.67</td>\n",
       "    </tr>\n",
       "  </tbody>\n",
       "</table>\n",
       "<p>96 rows × 2 columns</p>\n",
       "</div>"
      ],
      "text/plain": [
       "    days   amounts\n",
       "78     1    857.60\n",
       "40     1  -1500.00\n",
       "87     1  23969.65\n",
       "19     2    -66.00\n",
       "83     2    -25.98\n",
       "42     2   -786.41\n",
       "7      2   -348.00\n",
       "70     3   -100.00\n",
       "92     3   -684.25\n",
       "12     5  -1500.00\n",
       "34     5   -102.00\n",
       "53     6 -15799.00\n",
       "10     7   -400.00\n",
       "79     8   -416.30\n",
       "6      8 -23000.00\n",
       "90     9  -1500.00\n",
       "58     9   -200.00\n",
       "68    10   -406.36\n",
       "30    10    -66.00\n",
       "75    11   -459.00\n",
       "77    12  -3815.00\n",
       "64    12    -60.90\n",
       "28    12   -516.88\n",
       "55    12   -681.00\n",
       "80    12    -82.17\n",
       "63    12   -990.00\n",
       "1     12   -299.93\n",
       "24    12   -392.69\n",
       "45    13   3645.00\n",
       "44    13   -873.80\n",
       "..   ...       ...\n",
       "95    25    -21.99\n",
       "60    25  -2018.70\n",
       "8     25   -339.00\n",
       "18    25   -700.00\n",
       "23    25   -124.91\n",
       "62    25    -63.00\n",
       "46    25   -105.38\n",
       "32    25  -6156.00\n",
       "50    25 -13000.00\n",
       "59    26    -40.00\n",
       "31    26   -684.25\n",
       "84    27    -55.90\n",
       "5     27   -435.00\n",
       "39    27   -150.60\n",
       "91    27   -110.00\n",
       "15    27  -2698.00\n",
       "86    27   -203.28\n",
       "73    27   -360.75\n",
       "4     28   -500.00\n",
       "49    28  15916.94\n",
       "29    28   -100.00\n",
       "71    28   -309.00\n",
       "37    28   -339.00\n",
       "52    28   -400.00\n",
       "22    29   -159.00\n",
       "57    29  23900.00\n",
       "48    29  -1281.81\n",
       "38    30   -227.68\n",
       "94    30   -494.50\n",
       "47    30   -573.67\n",
       "\n",
       "[96 rows x 2 columns]"
      ]
     },
     "execution_count": 348,
     "metadata": {},
     "output_type": "execute_result"
    }
   ],
   "source": [
    "result = fake_month()\n",
    "d = {'days': result[0], 'amounts': result[1]}\n",
    "pd.DataFrame(d).sort_values(by='days')"
   ]
  },
  {
   "cell_type": "markdown",
   "metadata": {},
   "source": [
    "### Optional: Benford's Law\n",
    "As visible in the graph below, the transaction data follows Benford's Law, and we can see that digit 1 occurs about 30% of the time (~35%). "
   ]
  },
  {
   "cell_type": "code",
   "execution_count": 355,
   "metadata": {},
   "outputs": [
    {
     "data": {
      "text/plain": [
       "(2518,)"
      ]
     },
     "execution_count": 355,
     "metadata": {},
     "output_type": "execute_result"
    }
   ],
   "source": [
    "initial_digits = abs(fraud['Amount']).astype(str).str[0].astype(int)\n",
    "initial_digits.shape"
   ]
  },
  {
   "cell_type": "code",
   "execution_count": 359,
   "metadata": {},
   "outputs": [
    {
     "data": {
      "image/png": "[encoded data removed]",
      "text/plain": [
       "<Figure size 432x288 with 1 Axes>"
      ]
     },
     "metadata": {
      "needs_background": "light"
     },
     "output_type": "display_data"
    }
   ],
   "source": [
    "# Actual Data\n",
    "plt.hist(initial_digits, bins=10, density=True)\n",
    "plt.title(\"Benford's Law (Actual Data)\")\n",
    "plt.show()"
   ]
  }
 ],
 "metadata": {
  "kernelspec": {
   "display_name": "py36",
   "language": "python",
   "name": "py36"
  },
  "language_info": {
   "codemirror_mode": {
    "name": "ipython",
    "version": 3
   },
   "file_extension": ".py",
   "mimetype": "text/x-python",
   "name": "python",
   "nbconvert_exporter": "python",
   "pygments_lexer": "ipython3",
   "version": "3.6.4"
  }
 },
 "nbformat": 4,
 "nbformat_minor": 2
}
