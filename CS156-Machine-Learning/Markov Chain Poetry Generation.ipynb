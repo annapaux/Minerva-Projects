{
 "cells": [
  {
   "cell_type": "markdown",
   "metadata": {},
   "source": [
    "# Final Project\n",
    "# CS156\n",
    "\n",
    "Anna Pauxberger\n",
    "\n",
    "22 December 2018"
   ]
  },
  {
   "cell_type": "markdown",
   "metadata": {},
   "source": [
    "# Welcome to Poetry Class\n",
    "\n",
    "This Markov chain model generates poems based on an input of texts of different songwriters and authors. Poems can be of a chosen length, inspired by a chosen text and have different levels of 'creativity'l which based on the Markov order one wants to take into account for predicting the next word/character.\n",
    "\n",
    "Important to note is that for a character based model, characters are lowered and special characters are stripped in order to arrive at meaningful output. "
   ]
  },
  {
   "cell_type": "code",
   "execution_count": null,
   "metadata": {},
   "outputs": [],
   "source": [
    "import random\n",
    "from string import punctuation"
   ]
  },
  {
   "cell_type": "code",
   "execution_count": 117,
   "metadata": {},
   "outputs": [],
   "source": [
    "class Poem(object):\n",
    "    '''\n",
    "    Generates poems word by word\n",
    "    '''\n",
    "    def __init__ (self, order, character, file):\n",
    "        '''\n",
    "        Creates an instance of a poem. Define order (how far to look back) and \n",
    "        whether the poem should generate output character or word based via \n",
    "        character = True or False.\n",
    "        '''\n",
    "        \n",
    "        self.order = order\n",
    "        self.text = None\n",
    "        self.dict = {}\n",
    "        self.character = character # create poem by character or by word\n",
    "        self.file = open(file)\n",
    "        self.orig_file = file\n",
    "        self.current_poem = []\n",
    "   \n",
    "\n",
    "    def train(self):\n",
    "        '''\n",
    "        Trains a data set by creating a dictionary with all unique words/chars compositions of\n",
    "        length = order as keys, and the following word/char as value. All occurrences are\n",
    "        appended, which later ensures a probabilistic representation by randomly choosing\n",
    "        a value.\n",
    "        '''\n",
    "        \n",
    "        if self.character == False:\n",
    "            self.text = self.file.read().split()\n",
    "        else: # split words into characters and skip line breaks\n",
    "            temp = []\n",
    "            with self.file as f:\n",
    "                for c in self.get_next_character(f):\n",
    "                    if self.is_special(c) == False:\n",
    "                        temp.append(c.lower())\n",
    "            self.text = temp\n",
    "            \n",
    "        self.text = self.text + self.text[:self.order] # append beginning to the end\n",
    "        for i in range(0, len(self.text) - (self.order + 1)):\n",
    "            key = tuple(self.text[i : i + self.order]) # generate keys\n",
    "            value = self.text[i + self.order]          # generate values\n",
    "            if key in self.dict:                       # append values\n",
    "                self.dict[key].append(value)\n",
    "            else:\n",
    "                self.dict[key] = [value]\n",
    "        return\n",
    "\n",
    "    \n",
    "    def generate(self,N=100):\n",
    "        '''\n",
    "        Generates a poem of length N. Random initialization, then takes the subsequent\n",
    "        4 units as initial state (=key) and randomly chooses a next word as saved in\n",
    "        the dictionary as value. The probability will be equal to occurrence, as all\n",
    "        values are stored in the dictionary in train().\n",
    "        '''\n",
    "        index = random.randint(0, len(self.text) - self.order) \n",
    "        result = self.text[index : index + self.order]       # list of words/chars\n",
    "        for i in range(N):\n",
    "            state = tuple(result[len(result) - self.order:]) # make tuple out of list => key\n",
    "            next_word = random.choice(self.dict[state])      # choose value => prediction\n",
    "            result.append(next_word)\n",
    "            \n",
    "        if self.character == True:\n",
    "            self.current_poem = \"\".join (result[self.order : ] ) # disregard the random first result\n",
    "            return self.current_poem\n",
    "        else:\n",
    "            self.current_poem = \" \".join (result[self.order : ] )\n",
    "            return self.current_poem\n",
    "        \n",
    "        \n",
    "    def get_next_character(self,f):\n",
    "        '''\n",
    "        Helper function for train() for characters.\n",
    "        Reads character by character.\n",
    "        Source: https://rosettacode.org/wiki/Read_a_file_character_by_character/UTF8\n",
    "        '''\n",
    "        \n",
    "        c = f.read(1)\n",
    "        while c: \n",
    "            yield c\n",
    "            c = f.read(1)\n",
    "        return c\n",
    "  \n",
    "\n",
    "    def is_special(self,c):\n",
    "        '''\n",
    "        Helper function for train() for characters. Checks if c is a special character.\n",
    "        '''\n",
    "        \n",
    "        punctuation_set = set(punctuation)\n",
    "        if c == '\\n' or c == '\\t':\n",
    "            return True\n",
    "        else:\n",
    "            return (c in punctuation_set)\n",
    "\n",
    "        \n",
    "    def sample_words(self):\n",
    "        '''\n",
    "        After generating words from characters, this ensures to only include words\n",
    "        that also appeared in the original text.\n",
    "        '''\n",
    "        \n",
    "        file = open(self.orig_file)\n",
    "        \n",
    "        unique_words_in_original = [w.lower() for w in set(file.read().split())]\n",
    "        words_in_text = self.current_poem.split(\" \")\n",
    "        \n",
    "        result = []\n",
    "        for w in words_in_text:\n",
    "            if w in unique_words_in_original:\n",
    "                result.append(w)\n",
    "        self.current_poem = \" \".join(result)\n",
    "        return self.current_poem\n",
    "        \n",
    "    \n",
    "    def add_structure(self, N=5):\n",
    "        '''N length of words per line. Cuts off last words.'''\n",
    "        \n",
    "        generated_text = self.current_poem.split(\" \")\n",
    "        generated_text = [' '.join(generated_text[N*i:N*i+N]) \n",
    "                          for i in range(0, int(len(generated_text) / N))]\n",
    "        self.current_poem = \"\\n\".join(generated_text)\n",
    "        \n",
    "        return print(self.current_poem)\n",
    "    \n",
    "    def simple_gen(self):\n",
    "        '''Generates simple poem with defaults: \n",
    "            if character based: N=100, samples dict words and structures 5 words\n",
    "            if word based: N=20, structure 5 words\n",
    "        '''\n",
    "        if self.character == True:\n",
    "            self.train()\n",
    "            self.generate(N=200)\n",
    "            self.sample_words()\n",
    "            self.add_structure(5)\n",
    "        \n",
    "        else:\n",
    "            self.train()\n",
    "            self.generate(N=20)\n",
    "            self.add_structure(5)"
   ]
  },
  {
   "cell_type": "markdown",
   "metadata": {},
   "source": [
    "# Example: Simple Poem"
   ]
  },
  {
   "cell_type": "code",
   "execution_count": 140,
   "metadata": {},
   "outputs": [
    {
     "name": "stdout",
     "output_type": "stream",
     "text": [
      "from me was a new\n",
      "will be i see you\n",
      "ah the in to take\n",
      "ones like to the night\n",
      "a partner lover loved you\n"
     ]
    }
   ],
   "source": [
    "poem = Poem(order=5, character=True, file='poetry/leonard-cohen.txt')\n",
    "poem.simple_gen()"
   ]
  },
  {
   "cell_type": "markdown",
   "metadata": {},
   "source": [
    "# Example: User Specified Poem\n",
    "- Order: 5\n",
    "- Length: 100\n",
    "- Character based\n",
    "- Style: Justin Bieber"
   ]
  },
  {
   "cell_type": "code",
   "execution_count": 141,
   "metadata": {},
   "outputs": [
    {
     "name": "stdout",
     "output_type": "stream",
     "text": [
      ">> Poem Training\n",
      "\n",
      ">> Generation of Poem\n",
      "de outta time you you you knowso press the was nobody to lose my favorite girl mhm uh huh i lovemadl\n",
      "\n",
      ">> Only keep words from original dictionary\n",
      "de outta time you you you the was nobody to lose my favorite girl uh huh i\n",
      "\n",
      ">> Add structure to poem\n",
      "de outta time you you\n",
      "you the was nobody to\n",
      "lose my favorite girl uh\n"
     ]
    }
   ],
   "source": [
    "poem = Poem(order=5, character=True, file='poetry/bieber.txt')\n",
    "print('>> Poem Training')\n",
    "poem.train()\n",
    "print('')\n",
    "print('>> Generation of Poem')\n",
    "print(poem.generate(N=100))\n",
    "print('')\n",
    "print('>> Only keep words from original dictionary')\n",
    "print(poem.sample_words())\n",
    "print('')\n",
    "print('>> Add structure to poem')\n",
    "poem.add_structure(5)"
   ]
  },
  {
   "cell_type": "markdown",
   "metadata": {},
   "source": [
    "# Analyzing word vs character based poems for different levels of order\n",
    "The order of a Markov chain is the length of words or characters considered before predicting the next character.\n",
    "\n",
    "For **character based poems**, results of low order are very short, as words not occurring in the dictionary get rejected. The words that do get accepted have little connection to each other and the poems don't make much sense, e.g. 'i do of goo day'. Poems of higher order show immediately more words that are being accepted, since the moel allows to 'look back' further and can generate the next letter based on multiple. \n",
    "\n",
    "\n",
    "E.g. 'I love you all the more'. If the current state is 'l' ('L'), the predicted character will be 'o', 'l' or 't' with equal probability. Having a state of order two and a current state of 'al' the model will know to predict 'l' next and generate the word 'all'.\n",
    "\n",
    "\n",
    "For **word based poem** the first results with low order already show plausible poems. However, poems with high order overfit to the training data if the size of training data is not large enough since a very specific string of multile words might only occur once in the entire text, resulting in the model quoting from the original rather than generating new texts.\n",
    "\n",
    "\n",
    "Ideal order depends on the dataset and model. For example, if the corpus has very long words, the order for character based poems should be similar to the length of the words as well, in order to generate more words that are similar to the original text. However, if the corpus is not very large, setting the order very high would inhibit the word based generator to come up with novel creations, as there is not much variability in the options for the next words."
   ]
  },
  {
   "cell_type": "code",
   "execution_count": 132,
   "metadata": {},
   "outputs": [
    {
     "name": "stdout",
     "output_type": "stream",
     "text": [
      "Character Based Poems\n",
      "\n",
      ">> Order 1\n",
      "it e f f the\n",
      "\n",
      ">> Order 2\n",
      "she the i all and\n",
      "in i will say know\n",
      "i do of goo day\n",
      "\n",
      ">> Order 3\n",
      "of a was she live\n",
      "you can let buy me\n",
      "on any you long he\n",
      "fish i say to la\n",
      "long we hu a love\n",
      "\n",
      ">> Order 4\n",
      "in the say help down\n",
      "boy named somewhere waves in\n",
      "sits been i feel always\n",
      "a sun is hey max\n",
      "to black the love you\n",
      "know how long to go\n",
      "\n",
      ">> Order 5\n",
      "love all these me more\n",
      "who puts i i could\n",
      "be gonna change penny lane\n",
      "is to dance your every\n",
      "day to listen to just\n",
      "won the dirty old me\n",
      "big man i had broken\n",
      "\n"
     ]
    }
   ],
   "source": [
    "print('Character Based Poems')\n",
    "print('')\n",
    "\n",
    "for i in range(1,6):\n",
    "    print(f'>> Order {i}')\n",
    "    poem = Poem(order=i, character=True, file='poetry/beatles.txt')\n",
    "    poem.simple_gen()\n",
    "    print('')"
   ]
  },
  {
   "cell_type": "code",
   "execution_count": 134,
   "metadata": {},
   "outputs": [
    {
     "name": "stdout",
     "output_type": "stream",
     "text": [
      "Word Based Poems\n",
      "\n",
      ">> Order 1\n",
      "To get back in any\n",
      "more? Will she done me\n",
      "do what I want somebody\n",
      "Help, you know why you\n",
      "\n",
      ">> Order 2\n",
      "back again. I have missed\n",
      "things And it's worth it\n",
      "just to hear you say\n",
      "Hey you've got to be\n",
      "\n",
      ">> Order 3\n",
      "to the love you make,\n",
      "Ah Love, love, love, love,\n",
      "love. All you need is\n",
      "love. (All together now). All\n",
      "\n",
      ">> Order 4\n",
      "I'm tired, servicible villain Set\n",
      "you down father, rest you)\n",
      "I look at you all\n",
      "see the love there that's\n",
      "\n",
      ">> Order 5\n",
      "like to be under the\n",
      "sea In an octopus' garden\n",
      "with you. One two three\n",
      "four Can I have a\n",
      "\n"
     ]
    }
   ],
   "source": [
    "print('Word Based Poems')\n",
    "print('')\n",
    "\n",
    "for i in range(1,6):\n",
    "    print(f'>> Order {i}')\n",
    "    poem = Poem(order=i, character=False, file='poetry/beatles.txt')\n",
    "    poem.simple_gen()\n",
    "    print('')"
   ]
  },
  {
   "cell_type": "markdown",
   "metadata": {},
   "source": [
    "# Comparing Markov Chains to Recurrent Neural Networks\n",
    "We train the largest file available to us, Shakespeare's *King Henry IV*, on the textgenrnn package and compare the neural net's outcome to the one generated by the above specified Markov model. \n",
    "\n",
    "The **recurrent neural net** is able to iterate and learn from its outputs, and shows tremendous improvements over 20 epochs. The sentences are easily readable and make (mostly) grammatical sense. It is able to generate structured texts, including indents for character announcements and even exits and enters of characters are modeled. (outcome attached below)\n",
    "\n",
    "The **markov chain** model, also generates sentences that make abstract sense and are somewhat grammatically corect. However, it does not recognize and model the structure of the text. \n",
    "\n",
    "A more rigorous distinction between the two models is attached below."
   ]
  },
  {
   "cell_type": "code",
   "execution_count": 137,
   "metadata": {},
   "outputs": [
    {
     "data": {
      "text/plain": [
       "\"fool Art thou not ashamed? FALSTAFF Dost thou hear, Hal? never call a true woman, holland of eight shillings an ell. You owe money here besides, Sir John, methinks they are directed. If you will deny the sheriff, so; if not, honour comes unlooked for, and there's an end. [Exit FALSTAFF] PRINCE HENRY Peace, ye fat-guts! lie down; lay thine ear close to the sepulchre of Christ, Whose soldier now, under whose countenance we steal. PRINCE HENRY Five year! by'r lady, a long hour by Shrewsbury clock. If I travel but four foot by the chance of war; to prove that true Needs no more with vanity. I would it had been here. The quality and hair of our enterprise; 'Tis catching hither, even to our great enterprise, Than if the devil understands Welsh; And 'tis no matter; honour pricks me on. Yea, but I think thou hadst truly borne Betwixt our armies true intelligence. EARL OF DOUGLAS Know then, my name is Falstaff: if that man my friend Whose tongue shall ask me when thou sit'st alone? Why hast thou to break into this woman's mood, Tying thine ear close to the king; and let drive at me; for accordingly You tread upon my sword, I will give it him To keep his word in loving us; He will suspect us still and find a king that will face me. Give me my horse, good king's son. PRINCE HENRY Thy state is taken for a joined-stool, thy golden sleep? Why dost thou think I'll fear thee as my soul. VERNON Pray God my news be worth a million: thy love is worth the listening to. These nine in buckram let drive at me; for it was the death of him. KING HENRY IV ACT II SCENE II The highway,\""
      ]
     },
     "execution_count": 137,
     "metadata": {},
     "output_type": "execute_result"
    }
   ],
   "source": [
    "poem = Poem(order=2, character=False, file='shakespeare/1kinghenryiv.txt')\n",
    "poem.train()\n",
    "poem.generate(300)"
   ]
  },
  {
   "cell_type": "code",
   "execution_count": null,
   "metadata": {},
   "outputs": [],
   "source": []
  }
 ],
 "metadata": {
  "kernelspec": {
   "display_name": "py36",
   "language": "python",
   "name": "py36"
  },
  "language_info": {
   "codemirror_mode": {
    "name": "ipython",
    "version": 3
   },
   "file_extension": ".py",
   "mimetype": "text/x-python",
   "name": "python",
   "nbconvert_exporter": "python",
   "pygments_lexer": "ipython3",
   "version": "3.6.4"
  }
 },
 "nbformat": 4,
 "nbformat_minor": 2
}
