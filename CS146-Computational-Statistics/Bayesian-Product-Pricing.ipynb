{
 "cells": [
  {
   "cell_type": "markdown",
   "metadata": {},
   "source": [
    "# The Cost of Basic Goods\n",
    "Anna Pauxberger\n",
    "10 November 2018"
   ]
  },
  {
   "cell_type": "markdown",
   "metadata": {},
   "source": [
    "### Modeling Product Prices\n",
    "This is a model of **grocery prices** in different neighborhoods of Berlin. The goal is to show how the brand of a product, the brand of the grocery store and the geographical location of the store affect product prices, by looking at their multipliers. I use **Bayesian statistics** to generate samples from posteriors using **PyStan**. \n",
    "\n",
    "\n",
    "### The Stan Model\n",
    "The  Stan model finds base prices and multipliers for stores, locations and brands. As an input, it takes lists of prices, product names, store names, location names, and brand names. It first defines priors for each parameter. After defining the priors, the model estimates the posterior parameter by multiplying the priors with the normal likelihood for the data, which is a function of base price multiplied by all multipliers. See details below.\n",
    "\n",
    "\n",
    "### Results\n",
    "Base prices range from 0.83 euros for a kilogram of apples to 9.82 euros for 0.5kg of chicken breasts. The multipliers for location are among the strongest, such as the multiplier for Alt-Treptow with 4.61 or Neukölln with 3.2, meaning a product bought in Alt-Treptow tends to be much more expensive than in Neukoölln. The brand multipliers are rather small with values around 1. Store multipliers with around 0.53-0.71 are also of smaller importance, indicating that stores do not seem to affect prices much."
   ]
  },
  {
   "cell_type": "code",
   "execution_count": 1,
   "metadata": {
    "collapsed": true
   },
   "outputs": [],
   "source": [
    "import matplotlib.pylab as plt\n",
    "%matplotlib inline\n",
    "import numpy as np\n",
    "import pystan\n",
    "from scipy.stats import cauchy, gamma, norm, expon, uniform\n",
    "import pandas as pd"
   ]
  },
  {
   "cell_type": "markdown",
   "metadata": {},
   "source": [
    "# Data Preprocessing\n",
    "\n",
    "The data was manually cleaned to account for human error in data inputs. For example, if bananas were called 'edekea bananas' vs 'bananas edeka', one was chosen to representa ll. If brands such as 'apples' were assigned, they were rebranded to 'nobrand'. Brands such as 'gut und guenstig', which has an astounding amount of different spellings, were replaced by one version as well. Entries that were not supposed to be in the category (e.g. pork instead of chicken) were deleted."
   ]
  },
  {
   "cell_type": "code",
   "execution_count": 3,
   "metadata": {
    "collapsed": false
   },
   "outputs": [],
   "source": [
    "data = pd.read_csv(\"product_data.csv\", skiprows=1)\n",
    "data = data.drop([\"Timestamp\", \"Your name\", \"Grocery store street address\",\"Email Address\"], axis=1)"
   ]
  },
  {
   "cell_type": "code",
   "execution_count": 4,
   "metadata": {
    "collapsed": true
   },
   "outputs": [],
   "source": [
    "temp = []\n",
    "c = -1\n",
    "column_names = list(data)\n",
    "\n",
    "for row in data.iterrows():\n",
    "    i, row_data = row\n",
    "    row_data = row_data.tolist()\n",
    "    store = row_data[0]\n",
    "    neighborhood = row_data[1]\n",
    "    \n",
    "    for c in range(2, 62, 2):\n",
    "        product = column_names[c]\n",
    "        brand = row_data[c]\n",
    "        price = row_data[c+1]\n",
    "        observation = [product, store, neighborhood, brand, price]\n",
    "    \n",
    "        temp.append(observation)"
   ]
  },
  {
   "cell_type": "code",
   "execution_count": 5,
   "metadata": {
    "collapsed": true
   },
   "outputs": [],
   "source": [
    "temp = pd.DataFrame(temp)\n",
    "temp.columns=['product','store','neighborhood','brand','price']\n",
    "\n",
    "temp['product'] = temp['product'].str.lower()\n",
    "temp['product'] = temp['product'].str.replace(\"[^A-Za-z]+\", \"\")\n",
    "\n",
    "temp['store'] = temp['store'].str.lower()\n",
    "temp['neighborhood'] = temp['neighborhood'].str.lower()\n",
    "\n",
    "temp['brand'] = temp['brand'].str.lower()\n",
    "temp['brand'] = temp['brand'].str.replace(\"[^A-Za-z]+\", \"\")"
   ]
  },
  {
   "cell_type": "code",
   "execution_count": 6,
   "metadata": {
    "collapsed": false
   },
   "outputs": [
    {
     "data": {
      "text/html": [
       "<div>\n",
       "<style scoped>\n",
       "    .dataframe tbody tr th:only-of-type {\n",
       "        vertical-align: middle;\n",
       "    }\n",
       "\n",
       "    .dataframe tbody tr th {\n",
       "        vertical-align: top;\n",
       "    }\n",
       "\n",
       "    .dataframe thead th {\n",
       "        text-align: right;\n",
       "    }\n",
       "</style>\n",
       "<table border=\"1\" class=\"dataframe\">\n",
       "  <thead>\n",
       "    <tr style=\"text-align: right;\">\n",
       "      <th></th>\n",
       "      <th>product</th>\n",
       "      <th>store</th>\n",
       "      <th>neighborhood</th>\n",
       "      <th>brand</th>\n",
       "      <th>price</th>\n",
       "    </tr>\n",
       "  </thead>\n",
       "  <tbody>\n",
       "    <tr>\n",
       "      <th>0</th>\n",
       "      <td>apple</td>\n",
       "      <td>aldi</td>\n",
       "      <td>mitte</td>\n",
       "      <td>no brand</td>\n",
       "      <td>0.79</td>\n",
       "    </tr>\n",
       "    <tr>\n",
       "      <th>1</th>\n",
       "      <td>apple</td>\n",
       "      <td>aldi</td>\n",
       "      <td>mitte</td>\n",
       "      <td>gutbio</td>\n",
       "      <td>3.65</td>\n",
       "    </tr>\n",
       "    <tr>\n",
       "      <th>2</th>\n",
       "      <td>apple</td>\n",
       "      <td>aldi</td>\n",
       "      <td>mitte</td>\n",
       "      <td>no brand</td>\n",
       "      <td>1.99</td>\n",
       "    </tr>\n",
       "    <tr>\n",
       "      <th>3</th>\n",
       "      <td>banana</td>\n",
       "      <td>aldi</td>\n",
       "      <td>mitte</td>\n",
       "      <td>no brand</td>\n",
       "      <td>1.09</td>\n",
       "    </tr>\n",
       "    <tr>\n",
       "      <th>4</th>\n",
       "      <td>banana</td>\n",
       "      <td>aldi</td>\n",
       "      <td>mitte</td>\n",
       "      <td>gutbio</td>\n",
       "      <td>1.69</td>\n",
       "    </tr>\n",
       "  </tbody>\n",
       "</table>\n",
       "</div>"
      ],
      "text/plain": [
       "  product store neighborhood     brand  price\n",
       "0   apple  aldi        mitte  no brand   0.79\n",
       "1   apple  aldi        mitte    gutbio   3.65\n",
       "2   apple  aldi        mitte  no brand   1.99\n",
       "3  banana  aldi        mitte  no brand   1.09\n",
       "4  banana  aldi        mitte    gutbio   1.69"
      ]
     },
     "execution_count": 6,
     "metadata": {},
     "output_type": "execute_result"
    }
   ],
   "source": [
    "# Lower number of brands\n",
    "vc = temp['brand'].value_counts()\n",
    "big_brands = vc[vc>15]\n",
    "\n",
    "def label_brand(row):\n",
    "    if row['brand'] in big_brands:\n",
    "        return row['brand']\n",
    "    else:\n",
    "        return \"no brand\"\n",
    "\n",
    "temp[\"brand\"]= temp.apply(lambda row: label_brand(row), axis=1)\n",
    "temp.head()"
   ]
  },
  {
   "cell_type": "code",
   "execution_count": 7,
   "metadata": {
    "collapsed": false
   },
   "outputs": [
    {
     "data": {
      "text/html": [
       "<div>\n",
       "<style scoped>\n",
       "    .dataframe tbody tr th:only-of-type {\n",
       "        vertical-align: middle;\n",
       "    }\n",
       "\n",
       "    .dataframe tbody tr th {\n",
       "        vertical-align: top;\n",
       "    }\n",
       "\n",
       "    .dataframe thead th {\n",
       "        text-align: right;\n",
       "    }\n",
       "</style>\n",
       "<table border=\"1\" class=\"dataframe\">\n",
       "  <thead>\n",
       "    <tr style=\"text-align: right;\">\n",
       "      <th></th>\n",
       "      <th>product</th>\n",
       "      <th>store</th>\n",
       "      <th>neighborhood</th>\n",
       "      <th>brand</th>\n",
       "      <th>price</th>\n",
       "    </tr>\n",
       "  </thead>\n",
       "  <tbody>\n",
       "    <tr>\n",
       "      <th>0</th>\n",
       "      <td>1</td>\n",
       "      <td>1</td>\n",
       "      <td>6</td>\n",
       "      <td>14</td>\n",
       "      <td>0.79</td>\n",
       "    </tr>\n",
       "    <tr>\n",
       "      <th>1</th>\n",
       "      <td>1</td>\n",
       "      <td>1</td>\n",
       "      <td>6</td>\n",
       "      <td>7</td>\n",
       "      <td>3.65</td>\n",
       "    </tr>\n",
       "    <tr>\n",
       "      <th>2</th>\n",
       "      <td>1</td>\n",
       "      <td>1</td>\n",
       "      <td>6</td>\n",
       "      <td>14</td>\n",
       "      <td>1.99</td>\n",
       "    </tr>\n",
       "    <tr>\n",
       "      <th>3</th>\n",
       "      <td>2</td>\n",
       "      <td>1</td>\n",
       "      <td>6</td>\n",
       "      <td>14</td>\n",
       "      <td>1.09</td>\n",
       "    </tr>\n",
       "    <tr>\n",
       "      <th>4</th>\n",
       "      <td>2</td>\n",
       "      <td>1</td>\n",
       "      <td>6</td>\n",
       "      <td>7</td>\n",
       "      <td>1.69</td>\n",
       "    </tr>\n",
       "  </tbody>\n",
       "</table>\n",
       "</div>"
      ],
      "text/plain": [
       "   product  store  neighborhood  brand  price\n",
       "0        1      1             6     14   0.79\n",
       "1        1      1             6      7   3.65\n",
       "2        1      1             6     14   1.99\n",
       "3        2      1             6     14   1.09\n",
       "4        2      1             6      7   1.69"
      ]
     },
     "execution_count": 7,
     "metadata": {},
     "output_type": "execute_result"
    }
   ],
   "source": [
    "encoded = temp\n",
    "# +1 to allow for indexing in stan\n",
    "encoded['product'] = encoded['product'].astype('category').cat.codes +1\n",
    "encoded['store'] = encoded['store'].astype('category').cat.codes +1\n",
    "encoded['neighborhood'] = encoded['neighborhood'].astype('category').cat.codes +1\n",
    "encoded['brand'] = encoded['brand'].astype('category').cat.codes +1\n",
    "\n",
    "encoded.head()"
   ]
  },
  {
   "cell_type": "markdown",
   "metadata": {},
   "source": [
    "# Choice of Priors and Hyperparameters"
   ]
  },
  {
   "cell_type": "code",
   "execution_count": 76,
   "metadata": {
    "collapsed": false
   },
   "outputs": [
    {
     "data": {
      "image/png": "[encoded data removed]",
      "text/plain": [
       "<Figure size 432x288 with 1 Axes>"
      ]
     },
     "metadata": {
      "needs_background": "light"
     },
     "output_type": "display_data"
    }
   ],
   "source": [
    "# Cauchy Hyperparameters\n",
    "# Prior for base prices\n",
    "# Assuming that the prices lie somewhere between 0-20 Euro\n",
    "# Assuming that most of them will be around 7 Euro, but with large deviations\n",
    "\n",
    "x = np.linspace(0,20, 100)\n",
    "plt.plot(x, cauchy.pdf(x,loc=7,scale=7))\n",
    "plt.title(\"Cauchy (loc=7, scale=7)\")\n",
    "plt.show()"
   ]
  },
  {
   "cell_type": "code",
   "execution_count": 85,
   "metadata": {
    "collapsed": false
   },
   "outputs": [
    {
     "data": {
      "image/png": "[encoded data removed]",
      "text/plain": [
       "<Figure size 432x288 with 1 Axes>"
      ]
     },
     "metadata": {
      "needs_background": "light"
     },
     "output_type": "display_data"
    }
   ],
   "source": [
    "# Gamma Hyperparameters (multipliers)\n",
    "# Prior for multipliers\n",
    "# Assuming that the multiplier lies somewhere between 0-5\n",
    "# Centered at 1, where there is no multiplier\n",
    "x = np.linspace(0,5, 100)\n",
    "plt.plot(x, gamma.pdf(x,a=3, scale=0.5))\n",
    "plt.title(\"Multiplier Gamma (alpha=3, scale=0.5)\")\n",
    "plt.show()"
   ]
  },
  {
   "cell_type": "code",
   "execution_count": 86,
   "metadata": {
    "collapsed": false
   },
   "outputs": [
    {
     "data": {
      "image/png": "[encoded data removed]",
      "text/plain": [
       "<Figure size 432x288 with 1 Axes>"
      ]
     },
     "metadata": {
      "needs_background": "light"
     },
     "output_type": "display_data"
    }
   ],
   "source": [
    "# Gamma Hyperparameters (sigma)\n",
    "# Prior for sigma\n",
    "# Assuming that the multiplier lies somewhere between 0-2\n",
    "# Most likely around 1\n",
    "x = np.linspace(0,5, 100)\n",
    "plt.plot(x, gamma.pdf(x,a=3, scale=0.25))\n",
    "plt.title(\"Sigma Gamma (alpha=3, scale=0.25)\")\n",
    "plt.show()"
   ]
  },
  {
   "cell_type": "code",
   "execution_count": 105,
   "metadata": {
    "collapsed": false
   },
   "outputs": [
    {
     "data": {
      "image/png": "[encoded data removed]",
      "text/plain": [
       "<Figure size 432x288 with 1 Axes>"
      ]
     },
     "metadata": {
      "needs_background": "light"
     },
     "output_type": "display_data"
    }
   ],
   "source": [
    "x = np.linspace(0,30, 100)\n",
    "plt.hist(encoded['price'],bins=20,density=True)\n",
    "\n",
    "plt.plot(x, expon.pdf(x,loc=0, scale=2))\n",
    "plt.title('Distribution of Prices')\n",
    "plt.show()"
   ]
  },
  {
   "cell_type": "markdown",
   "metadata": {},
   "source": [
    "# Stan Model\n",
    "The following Stan model finds base prices and multipliers for stores, locations and brands. As an input, it takes lists of prices, product names, store names, location names, and brand names. Each row represents one obervation including each of those informations. \n",
    "\n",
    "The data block defines the information we already know. For example, how many different stores there are, thus how many store multipliers we need, what observations have what stores, and what hyperparameters we are choosing for our base price prior. \n",
    "\n",
    "The parameters block defines the parameters we want to estimate with our model. That includes the base price for each product, the multipliers for all variables (store, location, brand) and a sigma parameter for the normal distribution. \n",
    "\n",
    "In the model we connect the parameters to the data. First we define priors for each parameter. The prior for the base price is a cauchy distribution with location 7 and scale 7, as this is a heavy tail distribution and provides a rather uninformed prior for our base price, which is good as we have little knowledge about the base price. The gamma priors for the multipliers work with the assumption that the multipliers will be somewhere between 0 and 5, centered at around 1. The gamma prior for sigma peaks at 1, which is the most likely standard deviation. \n",
    "\n",
    "After defining the priors, the model estimates the posterior parameter by multiplying the priors with the normal likelihood for the data, which is a function of base price multiplied by all multipliers. The assumption that the prices are normally distributed is quite a large one, and does not hold true, as we can see in the image above. "
   ]
  },
  {
   "cell_type": "code",
   "execution_count": 100,
   "metadata": {
    "collapsed": false
   },
   "outputs": [
    {
     "name": "stderr",
     "output_type": "stream",
     "text": [
      "INFO:pystan:COMPILING THE C++ CODE FOR MODEL anon_model_c96420847fa724573238d74bc3b49145 NOW.\n"
     ]
    }
   ],
   "source": [
    "stan_code = '''\n",
    "\n",
    "data {\n",
    "    // define the amount of observations, products, ... in the data\n",
    "    int<lower=1> N;             // number of observations\n",
    "    int<lower=1> P;             // number of products\n",
    "    int<lower=1> S;             // number of stores\n",
    "    int<lower=1> L;             // number of locations (neighborhoods)\n",
    "    int<lower=1> B;             // number of brands\n",
    "    \n",
    "    // each observation has one price, product, store, location, and brand\n",
    "    // the dictionary to decode the category encoding  can be found in the appendix\n",
    "    real<lower=0> price[N];    // all prices\n",
    "    int<lower=1> product[N];   // all products\n",
    "    int<lower=1> store[N];     // all stores\n",
    "    int<lower=1> location[N];  // all locations\n",
    "    int<lower=1> brand[N];     // all brands\n",
    "    \n",
    "    // hyperparameters\n",
    "    real loc;                  // prior hyperparameters for cauchy\n",
    "    real<lower=0> scale;       // prior hyperparameters for cauchy\n",
    "    real<lower=0> alpha;       // prior hyperparameter for gamma\n",
    "    real<lower=0> beta;        // prior hyperparameter for gamma\n",
    "    real<lower=0> s_alpha;     // prior hyperparameter for gamma\n",
    "    real<lower=0> s_beta;      // prior hyperparameter for gamma\n",
    "}\n",
    "\n",
    "parameters {\n",
    "    // parameters the model will compute posteriors for\n",
    "    real<lower=0> base_price[P];     // vector for base prices            \n",
    "    real<lower=0> store_m[S];        // vector for store multipliers\n",
    "    real<lower=0> loc_m[L];          // vector for location multipliers\n",
    "    real<lower=0> brand_m[B];        // vector for brand multipliers \n",
    "    real<lower=0> sigma;             // standard deviation for normal\n",
    "}\n",
    "\n",
    "model{\n",
    "    // base price and multiplier priors\n",
    "    base_price ~ cauchy(loc, scale);\n",
    "    store_m ~ gamma(alpha,beta);\n",
    "    loc_m ~ gamma(alpha,beta);\n",
    "    brand_m ~ gamma(alpha,beta);\n",
    "    sigma ~ gamma(s_alpha,s_beta);\n",
    "    \n",
    "    // price likelihoods (14=nobrand, thus no multiplier)\n",
    "    for (i in 1:N){\n",
    "        if (brand[i] == 14){\n",
    "            price[i] ~ normal(base_price[product[i]]* store_m[store[i]] * loc_m[location[i]], sigma);\n",
    "        } else{\n",
    "            price[i] ~ normal(base_price[product[i]]* store_m[store[i]] * loc_m[location[i]] * brand_m[brand[i]], sigma);\n",
    "        }\n",
    "    }\n",
    "}\n",
    "'''\n",
    "stan_model = pystan.StanModel(model_code=stan_code)"
   ]
  },
  {
   "cell_type": "code",
   "execution_count": 121,
   "metadata": {
    "collapsed": false,
    "scrolled": true
   },
   "outputs": [
    {
     "name": "stderr",
     "output_type": "stream",
     "text": [
      "WARNING:pystan:4 of 4000 iterations saturated the maximum tree depth of 10 (0.1%)\n",
      "WARNING:pystan:Run again with max_treedepth larger than 10 to avoid saturation\n"
     ]
    }
   ],
   "source": [
    "data = {\n",
    "    'N': len(encoded),\n",
    "    'P': encoded['product'].nunique(),\n",
    "    'S': encoded['store'].nunique(),\n",
    "    'L': encoded['neighborhood'].nunique(),\n",
    "    'B': encoded['brand'].nunique(),\n",
    "    \n",
    "    'price': np.asarray(encoded['price']),\n",
    "    'product': np.asarray(encoded['product']),\n",
    "    'store': np.asarray(encoded['store']),\n",
    "    'location': np.asarray(encoded['neighborhood']),\n",
    "    'brand': np.asarray(encoded['brand']),\n",
    "    \n",
    "    'loc': 7,\n",
    "    'scale': 7,\n",
    "    'alpha': 3,\n",
    "    'beta': 0.5,\n",
    "    's_alpha': 4,\n",
    "    's_beta': 0.25}\n",
    "\n",
    "results = stan_model.sampling(data=data)\n",
    "samples = results.extract()\n"
   ]
  },
  {
   "cell_type": "markdown",
   "metadata": {},
   "source": [
    "Note: I was not able to run the code with an adjusted max_treedepth. However, since less than 1% of the data is affected, I concluded that this is a limitation of the model but should not have a significant impact on the results. "
   ]
  },
  {
   "cell_type": "code",
   "execution_count": 124,
   "metadata": {
    "collapsed": false
   },
   "outputs": [
    {
     "name": "stdout",
     "output_type": "stream",
     "text": [
      "Inference for Stan model: anon_model_c96420847fa724573238d74bc3b49145.\n",
      "4 chains, each with iter=2000; warmup=1000; thin=1; \n",
      "post-warmup draws per chain=1000, total post-warmup draws=4000.\n",
      "\n",
      "                 mean se_mean     sd   2.5%    25%    50%    75%  97.5%  n_eff   Rhat\n",
      "base_price[1]    1.74    0.07   1.27   0.24   0.77   1.44   2.37   4.95    331   1.01\n",
      "base_price[2]    1.17    0.05   0.86   0.16   0.52   0.97   1.58   3.33    341   1.01\n",
      "base_price[3]    3.49    0.14   2.54   0.49   1.57    2.9   4.71   9.93    333   1.01\n",
      "base_price[4]    9.82    0.39   7.13   1.37   4.41   8.14   13.3  27.79    332   1.01\n",
      "base_price[5]    2.34    0.09    1.7   0.32   1.04   1.95   3.18   6.53    333   1.01\n",
      "base_price[6]    0.92    0.04   0.68   0.12   0.41   0.75   1.25   2.62    338   1.01\n",
      "base_price[7]    0.83    0.03   0.61   0.11   0.36   0.68   1.13   2.35    341   1.01\n",
      "base_price[8]    1.04    0.04   0.76   0.15   0.46   0.85    1.4   2.92    334   1.01\n",
      "base_price[9]    2.36    0.09   1.72   0.33   1.06   1.94   3.21    6.7    331   1.01\n",
      "base_price[10]   2.79    0.11   2.03   0.38   1.26   2.32   3.77    7.9    333   1.01\n",
      "store_m[1]       0.51    0.03   0.49   0.09    0.2   0.34   0.62   1.91    379    1.0\n",
      "store_m[2]       0.68    0.03   0.65   0.12   0.27   0.46   0.83   2.56    378    1.0\n",
      "store_m[3]       0.43    0.02   0.41   0.07   0.17   0.29   0.52   1.63    377    1.0\n",
      "store_m[4]       0.54    0.03   0.52   0.09   0.22   0.36   0.66   2.04    378    1.0\n",
      "loc_m[1]         4.09    0.04   0.93   2.45   3.44   4.01   4.67   6.14    541    1.0\n",
      "loc_m[2]         3.97    0.04   0.89   2.39   3.34    3.9   4.53   5.92    551    1.0\n",
      "loc_m[3]         4.09    0.04   0.92   2.47   3.45   4.02   4.67    6.1    550    1.0\n",
      "loc_m[4]          4.1    0.04   0.93   2.44   3.44   4.02   4.67   6.15    550    1.0\n",
      "loc_m[5]         3.05    0.03   0.69   1.84   2.57    3.0   3.48   4.57    528    1.0\n",
      "loc_m[6]         4.18    0.04   0.93   2.52   3.52   4.11   4.77   6.21    540    1.0\n",
      "loc_m[7]         3.22    0.03   0.73   1.92   2.71   3.16   3.68   4.86    516    1.0\n",
      "loc_m[8]         3.58    0.03   0.81   2.15    3.0   3.52   4.09    5.4    563    1.0\n",
      "loc_m[9]         3.75    0.04   0.85   2.24   3.15   3.68   4.28   5.66    526    1.0\n",
      "loc_m[10]        4.64    0.05   1.09   2.74   3.87   4.56   5.33   7.08    507    1.0\n",
      "brand_m[1]       1.46  6.0e-3   0.41   0.71   1.18   1.44   1.72    2.3   4627    1.0\n",
      "brand_m[2]       2.05  1.3e-3   0.09   1.88   1.99   2.05   2.11   2.23   5001    1.0\n",
      "brand_m[3]       1.17  1.9e-3   0.15   0.89   1.07   1.16   1.26   1.46   5880    1.0\n",
      "brand_m[4]       0.84  2.4e-3   0.17   0.51   0.72   0.83   0.96   1.19   5395    1.0\n",
      "brand_m[5]       0.85  8.5e-4   0.06   0.73   0.81   0.85   0.89   0.97   5373    1.0\n",
      "brand_m[6]       1.29  1.6e-3   0.13   1.04    1.2   1.29   1.37   1.54   6294    1.0\n",
      "brand_m[7]       1.23  8.1e-4   0.06   1.12   1.19   1.23   1.27   1.35   5290    1.0\n",
      "brand_m[8]       0.52  4.8e-4   0.03   0.45   0.49   0.52   0.54   0.58   5022    1.0\n",
      "brand_m[9]       0.61  1.2e-3   0.09   0.43   0.55   0.61   0.67    0.8   5483    1.0\n",
      "brand_m[10]      1.15  1.0e-3   0.07   1.01    1.1   1.15    1.2    1.3   5178    1.0\n",
      "brand_m[11]      0.86  1.7e-3   0.12   0.64   0.78   0.86   0.94    1.1   5012    1.0\n",
      "brand_m[12]       1.2  2.7e-3   0.21   0.81   1.07    1.2   1.33   1.62   5615    1.0\n",
      "brand_m[13]      0.95  2.1e-3   0.14   0.67   0.85   0.94   1.04   1.23   4590    1.0\n",
      "brand_m[14]      6.08    0.04   3.58   1.16   3.45   5.36   8.02   14.6   6332    1.0\n",
      "brand_m[15]      0.97  4.5e-4   0.03   0.91   0.95   0.97   0.99   1.03   5038    1.0\n",
      "brand_m[16]      1.19  4.2e-3    0.3   0.63   0.99   1.19   1.39    1.8   5041    1.0\n",
      "brand_m[17]      1.55  2.3e-3   0.19    1.2   1.42   1.55   1.67   1.93   6303    1.0\n",
      "brand_m[18]      0.96  1.1e-3   0.08   0.81   0.91   0.96   1.01   1.12   4863    1.0\n",
      "brand_m[19]      1.06  3.7e-3   0.25   0.58   0.89   1.05   1.22   1.57   4505    1.0\n",
      "brand_m[20]      2.34  1.4e-3    0.1   2.15   2.27   2.34    2.4   2.53   4812    1.0\n",
      "sigma            1.61  3.5e-4   0.03   1.56   1.59   1.61   1.63   1.66   6024    1.0\n",
      "lp__            -1835    0.13   4.86  -1846  -1838  -1835  -1832  -1827   1443    1.0\n",
      "\n",
      "Samples were drawn using NUTS at Sat Nov 10 22:14:25 2018.\n",
      "For each parameter, n_eff is a crude measure of effective sample size,\n",
      "and Rhat is the potential scale reduction factor on split chains (at \n",
      "convergence, Rhat=1).\n"
     ]
    }
   ],
   "source": [
    "print(results)"
   ]
  },
  {
   "cell_type": "markdown",
   "metadata": {},
   "source": [
    "# Analysis of Results\n",
    "The multipliers for location are among the strongest with around 3-4, such as the multiplier for loc_m[1], Alt-Treptow, with 4.61 as opposed to locm[7], Neukölln, which is 3.2. A product bought in Alt-Treptow tends to be much more expensive than in Neukoölln. The brand multipliers are rather small with values around 1. An exception is brand_m[14], which is no brand, with a 6, indicating that it increases the estimated price by a lot. Since in my data cleaning process I defined brands with few occurrences to be 'no brand' as well, there could be outliers that pull the value so high. Store multipliers with around 0.53-0.71 are also of little importance, as the values are rather small and similar to each other."
   ]
  },
  {
   "cell_type": "markdown",
   "metadata": {},
   "source": [
    "### How much is the basic average price for each product?"
   ]
  },
  {
   "cell_type": "markdown",
   "metadata": {},
   "source": [
    "### Base Price"
   ]
  },
  {
   "cell_type": "code",
   "execution_count": 192,
   "metadata": {
    "collapsed": false
   },
   "outputs": [
    {
     "data": {
      "text/html": [
       "<div>\n",
       "<style scoped>\n",
       "    .dataframe tbody tr th:only-of-type {\n",
       "        vertical-align: middle;\n",
       "    }\n",
       "\n",
       "    .dataframe tbody tr th {\n",
       "        vertical-align: top;\n",
       "    }\n",
       "\n",
       "    .dataframe thead th {\n",
       "        text-align: right;\n",
       "    }\n",
       "</style>\n",
       "<table border=\"1\" class=\"dataframe\">\n",
       "  <thead>\n",
       "    <tr style=\"text-align: right;\">\n",
       "      <th></th>\n",
       "      <th>product</th>\n",
       "      <th>base_price</th>\n",
       "    </tr>\n",
       "  </thead>\n",
       "  <tbody>\n",
       "    <tr>\n",
       "      <th>0</th>\n",
       "      <td>apple</td>\n",
       "      <td>1.74</td>\n",
       "    </tr>\n",
       "    <tr>\n",
       "      <th>1</th>\n",
       "      <td>banana</td>\n",
       "      <td>1.17</td>\n",
       "    </tr>\n",
       "    <tr>\n",
       "      <th>2</th>\n",
       "      <td>butter</td>\n",
       "      <td>3.49</td>\n",
       "    </tr>\n",
       "    <tr>\n",
       "      <th>3</th>\n",
       "      <td>chicken</td>\n",
       "      <td>9.82</td>\n",
       "    </tr>\n",
       "    <tr>\n",
       "      <th>4</th>\n",
       "      <td>eggs</td>\n",
       "      <td>2.34</td>\n",
       "    </tr>\n",
       "    <tr>\n",
       "      <th>5</th>\n",
       "      <td>flour</td>\n",
       "      <td>0.92</td>\n",
       "    </tr>\n",
       "    <tr>\n",
       "      <th>6</th>\n",
       "      <td>milk</td>\n",
       "      <td>0.83</td>\n",
       "    </tr>\n",
       "    <tr>\n",
       "      <th>7</th>\n",
       "      <td>potato</td>\n",
       "      <td>1.04</td>\n",
       "    </tr>\n",
       "    <tr>\n",
       "      <th>8</th>\n",
       "      <td>rice</td>\n",
       "      <td>2.36</td>\n",
       "    </tr>\n",
       "    <tr>\n",
       "      <th>9</th>\n",
       "      <td>tomato</td>\n",
       "      <td>2.79</td>\n",
       "    </tr>\n",
       "  </tbody>\n",
       "</table>\n",
       "</div>"
      ],
      "text/plain": [
       "   product  base_price\n",
       "0    apple        1.74\n",
       "1   banana        1.17\n",
       "2   butter        3.49\n",
       "3  chicken        9.82\n",
       "4     eggs        2.34\n",
       "5    flour        0.92\n",
       "6     milk        0.83\n",
       "7   potato        1.04\n",
       "8     rice        2.36\n",
       "9   tomato        2.79"
      ]
     },
     "execution_count": 192,
     "metadata": {},
     "output_type": "execute_result"
    }
   ],
   "source": [
    "products = list(dict(enumerate(temp['product'].astype('category').cat.categories)).values())\n",
    "base = []\n",
    "for i in range(encoded['product'].nunique()):\n",
    "    base.append(round(np.mean(samples['base_price'][:,i]),2))\n",
    "    \n",
    "pd.DataFrame({'product': products, 'base_price': base})"
   ]
  },
  {
   "cell_type": "code",
   "execution_count": 180,
   "metadata": {
    "collapsed": false
   },
   "outputs": [
    {
     "data": {
      "image/png": "[encoded data removed]",
      "text/plain": [
       "<Figure size 864x432 with 1 Axes>"
      ]
     },
     "metadata": {
      "needs_background": "light"
     },
     "output_type": "display_data"
    }
   ],
   "source": [
    "# Base Prices\n",
    "plt.figure(figsize=(12, 6))\n",
    "for i in range(encoded['product'].nunique()):\n",
    "    plt.plot(uniform.rvs(loc=i-0.1, scale=0.2, size=4000), samples['base_price'][:,i], ',', alpha=0.5)\n",
    "plt.xticks(list(range(0, encoded['product'].nunique())), \n",
    "           dict(enumerate(temp['product'].astype('category').cat.categories)).values(), rotation=90)  \n",
    "plt.show()"
   ]
  },
  {
   "cell_type": "markdown",
   "metadata": {},
   "source": [
    "### Multipliers\n",
    "### How much does each of the following factors modify the basic price of the product (up or down)?"
   ]
  },
  {
   "cell_type": "markdown",
   "metadata": {},
   "source": [
    "### Stores"
   ]
  },
  {
   "cell_type": "code",
   "execution_count": 205,
   "metadata": {
    "collapsed": false
   },
   "outputs": [
    {
     "data": {
      "text/html": [
       "<div>\n",
       "<style scoped>\n",
       "    .dataframe tbody tr th:only-of-type {\n",
       "        vertical-align: middle;\n",
       "    }\n",
       "\n",
       "    .dataframe tbody tr th {\n",
       "        vertical-align: top;\n",
       "    }\n",
       "\n",
       "    .dataframe thead th {\n",
       "        text-align: right;\n",
       "    }\n",
       "</style>\n",
       "<table border=\"1\" class=\"dataframe\">\n",
       "  <thead>\n",
       "    <tr style=\"text-align: right;\">\n",
       "      <th></th>\n",
       "      <th>stores</th>\n",
       "      <th>store multiplier</th>\n",
       "    </tr>\n",
       "  </thead>\n",
       "  <tbody>\n",
       "    <tr>\n",
       "      <th>0</th>\n",
       "      <td>aldi</td>\n",
       "      <td>0.51</td>\n",
       "    </tr>\n",
       "    <tr>\n",
       "      <th>1</th>\n",
       "      <td>edeka</td>\n",
       "      <td>0.68</td>\n",
       "    </tr>\n",
       "    <tr>\n",
       "      <th>2</th>\n",
       "      <td>lidl</td>\n",
       "      <td>0.43</td>\n",
       "    </tr>\n",
       "    <tr>\n",
       "      <th>3</th>\n",
       "      <td>rewe</td>\n",
       "      <td>0.54</td>\n",
       "    </tr>\n",
       "  </tbody>\n",
       "</table>\n",
       "</div>"
      ],
      "text/plain": [
       "  stores  store multiplier\n",
       "0   aldi              0.51\n",
       "1  edeka              0.68\n",
       "2   lidl              0.43\n",
       "3   rewe              0.54"
      ]
     },
     "execution_count": 205,
     "metadata": {},
     "output_type": "execute_result"
    }
   ],
   "source": [
    "stores = list(dict(enumerate(temp['store'].astype('category').cat.categories)).values())\n",
    "\n",
    "store_means = []\n",
    "for i in range(encoded['store'].nunique()):\n",
    "    store_means.append(round(np.mean(samples['store_m'][:,i]),2))\n",
    "    \n",
    "pd.DataFrame({'stores': stores, 'store multiplier': store_means})"
   ]
  },
  {
   "cell_type": "code",
   "execution_count": 161,
   "metadata": {
    "collapsed": false
   },
   "outputs": [
    {
     "data": {
      "image/png": "[encoded data removed]",
      "text/plain": [
       "<Figure size 864x432 with 1 Axes>"
      ]
     },
     "metadata": {
      "needs_background": "light"
     },
     "output_type": "display_data"
    }
   ],
   "source": [
    "# Store Multiplier\n",
    "plt.figure(figsize=(12, 6))\n",
    "for i in range(encoded['store'].nunique()):\n",
    "    plt.plot(uniform.rvs(loc=i-0.1, scale=0.2, size=4000), samples['store_m'][:,i], ',', alpha=0.5)\n",
    "plt.xticks(list(range(encoded['store'].nunique()+1)), \n",
    "           dict(enumerate(temp['store'].astype('category').cat.categories)).values(), rotation=90)  \n",
    "plt.show()"
   ]
  },
  {
   "cell_type": "markdown",
   "metadata": {},
   "source": [
    "### Location"
   ]
  },
  {
   "cell_type": "code",
   "execution_count": 204,
   "metadata": {
    "collapsed": false
   },
   "outputs": [
    {
     "data": {
      "text/html": [
       "<div>\n",
       "<style scoped>\n",
       "    .dataframe tbody tr th:only-of-type {\n",
       "        vertical-align: middle;\n",
       "    }\n",
       "\n",
       "    .dataframe tbody tr th {\n",
       "        vertical-align: top;\n",
       "    }\n",
       "\n",
       "    .dataframe thead th {\n",
       "        text-align: right;\n",
       "    }\n",
       "</style>\n",
       "<table border=\"1\" class=\"dataframe\">\n",
       "  <thead>\n",
       "    <tr style=\"text-align: right;\">\n",
       "      <th></th>\n",
       "      <th>location</th>\n",
       "      <th>location multiplier</th>\n",
       "    </tr>\n",
       "  </thead>\n",
       "  <tbody>\n",
       "    <tr>\n",
       "      <th>0</th>\n",
       "      <td>alt-treptow</td>\n",
       "      <td>4.09</td>\n",
       "    </tr>\n",
       "    <tr>\n",
       "      <th>1</th>\n",
       "      <td>friedrichshain</td>\n",
       "      <td>3.97</td>\n",
       "    </tr>\n",
       "    <tr>\n",
       "      <th>2</th>\n",
       "      <td>kreuzberg</td>\n",
       "      <td>4.09</td>\n",
       "    </tr>\n",
       "    <tr>\n",
       "      <th>3</th>\n",
       "      <td>lichtenberg</td>\n",
       "      <td>4.10</td>\n",
       "    </tr>\n",
       "    <tr>\n",
       "      <th>4</th>\n",
       "      <td>london</td>\n",
       "      <td>3.05</td>\n",
       "    </tr>\n",
       "    <tr>\n",
       "      <th>5</th>\n",
       "      <td>mitte</td>\n",
       "      <td>4.18</td>\n",
       "    </tr>\n",
       "    <tr>\n",
       "      <th>6</th>\n",
       "      <td>neukölln</td>\n",
       "      <td>3.22</td>\n",
       "    </tr>\n",
       "    <tr>\n",
       "      <th>7</th>\n",
       "      <td>prenzlauer berg</td>\n",
       "      <td>3.58</td>\n",
       "    </tr>\n",
       "    <tr>\n",
       "      <th>8</th>\n",
       "      <td>schöneberg</td>\n",
       "      <td>3.75</td>\n",
       "    </tr>\n",
       "    <tr>\n",
       "      <th>9</th>\n",
       "      <td>tempelhof</td>\n",
       "      <td>4.64</td>\n",
       "    </tr>\n",
       "  </tbody>\n",
       "</table>\n",
       "</div>"
      ],
      "text/plain": [
       "          location  location multiplier\n",
       "0      alt-treptow                 4.09\n",
       "1   friedrichshain                 3.97\n",
       "2        kreuzberg                 4.09\n",
       "3      lichtenberg                 4.10\n",
       "4           london                 3.05\n",
       "5            mitte                 4.18\n",
       "6         neukölln                 3.22\n",
       "7  prenzlauer berg                 3.58\n",
       "8       schöneberg                 3.75\n",
       "9        tempelhof                 4.64"
      ]
     },
     "execution_count": 204,
     "metadata": {},
     "output_type": "execute_result"
    }
   ],
   "source": [
    "location = list(dict(enumerate(temp['neighborhood'].astype('category').cat.categories)).values())\n",
    "\n",
    "loc_means = []\n",
    "for i in range(encoded['neighborhood'].nunique()):\n",
    "    loc_means.append(round(np.mean(samples['loc_m'][:,i]),2))\n",
    "    \n",
    "pd.DataFrame({'location': location, 'location multiplier': loc_means})"
   ]
  },
  {
   "cell_type": "code",
   "execution_count": 163,
   "metadata": {
    "collapsed": false
   },
   "outputs": [
    {
     "data": {
      "image/png": "[encoded data removed]",
      "text/plain": [
       "<Figure size 864x432 with 1 Axes>"
      ]
     },
     "metadata": {
      "needs_background": "light"
     },
     "output_type": "display_data"
    }
   ],
   "source": [
    "# Location Multiplier\n",
    "plt.figure(figsize=(12, 6))\n",
    "for i in range(encoded['neighborhood'].nunique()):\n",
    "    plt.plot(uniform.rvs(loc=i-0.1, scale=0.2, size=4000), samples['loc_m'][:,i], ',', alpha=0.5)\n",
    "plt.xticks(list(range(encoded['neighborhood'].nunique()+1)), \n",
    "           dict(enumerate(temp['neighborhood'].astype('category').cat.categories)).values(), rotation=90)  \n",
    "plt.show()"
   ]
  },
  {
   "cell_type": "markdown",
   "metadata": {},
   "source": [
    "### Brands"
   ]
  },
  {
   "cell_type": "code",
   "execution_count": 202,
   "metadata": {
    "collapsed": false
   },
   "outputs": [
    {
     "data": {
      "text/html": [
       "<div>\n",
       "<style scoped>\n",
       "    .dataframe tbody tr th:only-of-type {\n",
       "        vertical-align: middle;\n",
       "    }\n",
       "\n",
       "    .dataframe tbody tr th {\n",
       "        vertical-align: top;\n",
       "    }\n",
       "\n",
       "    .dataframe thead th {\n",
       "        text-align: right;\n",
       "    }\n",
       "</style>\n",
       "<table border=\"1\" class=\"dataframe\">\n",
       "  <thead>\n",
       "    <tr style=\"text-align: right;\">\n",
       "      <th></th>\n",
       "      <th>brands</th>\n",
       "      <th>brand multiplier</th>\n",
       "    </tr>\n",
       "  </thead>\n",
       "  <tbody>\n",
       "    <tr>\n",
       "      <th>0</th>\n",
       "      <td>baerenmarke</td>\n",
       "      <td>1.46</td>\n",
       "    </tr>\n",
       "    <tr>\n",
       "      <th>1</th>\n",
       "      <td>bio</td>\n",
       "      <td>2.05</td>\n",
       "    </tr>\n",
       "    <tr>\n",
       "      <th>2</th>\n",
       "      <td>bioorganic</td>\n",
       "      <td>1.17</td>\n",
       "    </tr>\n",
       "    <tr>\n",
       "      <th>3</th>\n",
       "      <td>bodenhaltung</td>\n",
       "      <td>0.84</td>\n",
       "    </tr>\n",
       "    <tr>\n",
       "      <th>4</th>\n",
       "      <td>edeka</td>\n",
       "      <td>0.85</td>\n",
       "    </tr>\n",
       "    <tr>\n",
       "      <th>5</th>\n",
       "      <td>edekabio</td>\n",
       "      <td>1.29</td>\n",
       "    </tr>\n",
       "    <tr>\n",
       "      <th>6</th>\n",
       "      <td>gutbio</td>\n",
       "      <td>1.23</td>\n",
       "    </tr>\n",
       "    <tr>\n",
       "      <th>7</th>\n",
       "      <td>gutguenstig</td>\n",
       "      <td>0.52</td>\n",
       "    </tr>\n",
       "    <tr>\n",
       "      <th>8</th>\n",
       "      <td>ja</td>\n",
       "      <td>0.61</td>\n",
       "    </tr>\n",
       "    <tr>\n",
       "      <th>9</th>\n",
       "      <td>kerrygold</td>\n",
       "      <td>1.15</td>\n",
       "    </tr>\n",
       "    <tr>\n",
       "      <th>10</th>\n",
       "      <td>luisenhof</td>\n",
       "      <td>0.86</td>\n",
       "    </tr>\n",
       "    <tr>\n",
       "      <th>11</th>\n",
       "      <td>milbona</td>\n",
       "      <td>1.20</td>\n",
       "    </tr>\n",
       "    <tr>\n",
       "      <th>12</th>\n",
       "      <td>milsani</td>\n",
       "      <td>0.95</td>\n",
       "    </tr>\n",
       "    <tr>\n",
       "      <th>13</th>\n",
       "      <td>no brand</td>\n",
       "      <td>6.08</td>\n",
       "    </tr>\n",
       "    <tr>\n",
       "      <th>14</th>\n",
       "      <td>nobrand</td>\n",
       "      <td>0.97</td>\n",
       "    </tr>\n",
       "    <tr>\n",
       "      <th>15</th>\n",
       "      <td>oaklands</td>\n",
       "      <td>1.19</td>\n",
       "    </tr>\n",
       "    <tr>\n",
       "      <th>16</th>\n",
       "      <td>pinklady</td>\n",
       "      <td>1.55</td>\n",
       "    </tr>\n",
       "    <tr>\n",
       "      <th>17</th>\n",
       "      <td>rewe</td>\n",
       "      <td>0.96</td>\n",
       "    </tr>\n",
       "    <tr>\n",
       "      <th>18</th>\n",
       "      <td>rewebestewahl</td>\n",
       "      <td>1.06</td>\n",
       "    </tr>\n",
       "    <tr>\n",
       "      <th>19</th>\n",
       "      <td>rewebio</td>\n",
       "      <td>2.34</td>\n",
       "    </tr>\n",
       "  </tbody>\n",
       "</table>\n",
       "</div>"
      ],
      "text/plain": [
       "           brands  brand multiplier\n",
       "0     baerenmarke              1.46\n",
       "1             bio              2.05\n",
       "2      bioorganic              1.17\n",
       "3    bodenhaltung              0.84\n",
       "4           edeka              0.85\n",
       "5        edekabio              1.29\n",
       "6          gutbio              1.23\n",
       "7     gutguenstig              0.52\n",
       "8              ja              0.61\n",
       "9       kerrygold              1.15\n",
       "10      luisenhof              0.86\n",
       "11        milbona              1.20\n",
       "12        milsani              0.95\n",
       "13       no brand              6.08\n",
       "14        nobrand              0.97\n",
       "15       oaklands              1.19\n",
       "16       pinklady              1.55\n",
       "17           rewe              0.96\n",
       "18  rewebestewahl              1.06\n",
       "19        rewebio              2.34"
      ]
     },
     "execution_count": 202,
     "metadata": {},
     "output_type": "execute_result"
    }
   ],
   "source": [
    "brands = list(dict(enumerate(temp['brand'].astype('category').cat.categories)).values())\n",
    "\n",
    "brand_means = []\n",
    "for i in range(encoded['brand'].nunique()):\n",
    "    brand_means.append(round(np.mean(samples['brand_m'][:,i]),2))\n",
    "    \n",
    "pd.DataFrame({'brands': brands, 'brand multiplier': brand_means})"
   ]
  },
  {
   "cell_type": "code",
   "execution_count": 162,
   "metadata": {
    "collapsed": false
   },
   "outputs": [
    {
     "data": {
      "image/png": "[encoded data removed]",
      "text/plain": [
       "<Figure size 864x432 with 1 Axes>"
      ]
     },
     "metadata": {
      "needs_background": "light"
     },
     "output_type": "display_data"
    }
   ],
   "source": [
    "# Brands\n",
    "plt.figure(figsize=(12, 6))\n",
    "for i in range(encoded['brand'].nunique()):\n",
    "    plt.plot(uniform.rvs(loc=i-0.1, scale=0.2, size=4000), samples['brand_m'][:,i], ',', alpha=0.5)\n",
    "plt.xticks(list(range(encoded['brand'].nunique()+1)), \n",
    "           dict(enumerate(temp['brand'].astype('category').cat.categories)).values(), rotation=90)  \n",
    "plt.show()"
   ]
  },
  {
   "cell_type": "markdown",
   "metadata": {},
   "source": [
    "# Real Estate Prices"
   ]
  },
  {
   "cell_type": "code",
   "execution_count": 177,
   "metadata": {
    "collapsed": false
   },
   "outputs": [
    {
     "data": {
      "image/png": "[encoded data removed]",
      "text/plain": [
       "<Figure size 432x288 with 1 Axes>"
      ]
     },
     "metadata": {
      "needs_background": "light"
     },
     "output_type": "display_data"
    },
    {
     "name": "stdout",
     "output_type": "stream",
     "text": [
      "R:0.12, p-value:0.12\n",
      "There is no correlation between prices and real estate.\n"
     ]
    }
   ],
   "source": [
    "# https://guthmann-estate.com/marketreport/real-estate-report/?fbclid=IwAR2l8tGH_Mta-Ybc6NVaAYs683CBD_vLfDRXj1wcZ5wdiBUEwrKZTTNJf-0\n",
    "# https://www.numbeo.com/property-investment/in/London\n",
    "# prices per square meter\n",
    "\n",
    "real_estate = [3200, 4900, 50000, 3700, 7000, 6400, 4200, 5100, 5100, 3600]\n",
    "neighborhood = dict(enumerate(temp['neighborhood'].astype('category').cat.categories)).values()\n",
    "prices = []\n",
    "for i in range(encoded['neighborhood'].nunique()):\n",
    "    prices.append(np.mean(samples['loc_m'][:,i]))\n",
    "\n",
    "plt.scatter(prices, real_estate)\n",
    "plt.title('price - real estate correlation')\n",
    "plt.show()\n",
    "\n",
    "\n",
    "from scipy.stats.stats import pearsonr\n",
    "corr, p_value = pearsonr(prices, real_estate)\n",
    "print(\"R:{0:.2f}, p-value:{0:.2f}\".format(corr, p_value))\n",
    "print(\"There is no correlation between prices and real estate.\")"
   ]
  },
  {
   "cell_type": "markdown",
   "metadata": {},
   "source": [
    "# Appendix\n",
    "\n",
    "\n",
    "Items and quantity:\n",
    "- Apples — 1kg\n",
    "- Bananas — 1kg\n",
    "- Tomatoes — 1kg\n",
    "- Potatoes — 1kg\n",
    "- Flour — white, 1 kg\n",
    "- Rice — white, 1 kg\n",
    "- Milk — full cream, 1 liter\n",
    "- Butter — 500g\n",
    "- Eggs — regular size, 12\n",
    "- Chicken breasts — boneless and skinless, 1 kg"
   ]
  },
  {
   "cell_type": "code",
   "execution_count": 58,
   "metadata": {
    "collapsed": false
   },
   "outputs": [
    {
     "data": {
      "text/plain": [
       "{0: 'apple',\n",
       " 1: 'banana',\n",
       " 2: 'butter',\n",
       " 3: 'chicken',\n",
       " 4: 'eggs',\n",
       " 5: 'flour',\n",
       " 6: 'milk',\n",
       " 7: 'potato',\n",
       " 8: 'rice',\n",
       " 9: 'tomato'}"
      ]
     },
     "execution_count": 58,
     "metadata": {},
     "output_type": "execute_result"
    }
   ],
   "source": [
    "dict(enumerate(temp['product'].astype('category').cat.categories))"
   ]
  },
  {
   "cell_type": "code",
   "execution_count": 61,
   "metadata": {
    "collapsed": false
   },
   "outputs": [
    {
     "data": {
      "text/plain": [
       "{0: 'aldi', 1: 'edeka', 2: 'lidl', 3: 'rewe'}"
      ]
     },
     "execution_count": 61,
     "metadata": {},
     "output_type": "execute_result"
    }
   ],
   "source": [
    "dict(enumerate(temp['store'].astype('category').cat.categories))"
   ]
  },
  {
   "cell_type": "code",
   "execution_count": 60,
   "metadata": {
    "collapsed": false
   },
   "outputs": [
    {
     "data": {
      "text/plain": [
       "{0: 'alt-treptow',\n",
       " 1: 'friedrichshain',\n",
       " 2: 'kreuzberg',\n",
       " 3: 'lichtenberg',\n",
       " 4: 'london',\n",
       " 5: 'mitte',\n",
       " 6: 'neukölln',\n",
       " 7: 'prenzlauer berg',\n",
       " 8: 'schöneberg',\n",
       " 9: 'tempelhof'}"
      ]
     },
     "execution_count": 60,
     "metadata": {},
     "output_type": "execute_result"
    }
   ],
   "source": [
    "dict(enumerate(temp['neighborhood'].astype('category').cat.categories))"
   ]
  },
  {
   "cell_type": "code",
   "execution_count": 57,
   "metadata": {
    "collapsed": false
   },
   "outputs": [
    {
     "data": {
      "text/plain": [
       "{0: 'baerenmarke',\n",
       " 1: 'bio',\n",
       " 2: 'bioorganic',\n",
       " 3: 'bodenhaltung',\n",
       " 4: 'edeka',\n",
       " 5: 'edekabio',\n",
       " 6: 'gutbio',\n",
       " 7: 'gutguenstig',\n",
       " 8: 'ja',\n",
       " 9: 'kerrygold',\n",
       " 10: 'luisenhof',\n",
       " 11: 'milbona',\n",
       " 12: 'milsani',\n",
       " 13: 'no brand',\n",
       " 14: 'nobrand',\n",
       " 15: 'oaklands',\n",
       " 16: 'pinklady',\n",
       " 17: 'rewe',\n",
       " 18: 'rewebestewahl',\n",
       " 19: 'rewebio'}"
      ]
     },
     "execution_count": 57,
     "metadata": {},
     "output_type": "execute_result"
    }
   ],
   "source": [
    "dict(enumerate(temp['brand'].astype('category').cat.categories))"
   ]
  },
  {
   "cell_type": "code",
   "execution_count": null,
   "metadata": {
    "collapsed": true
   },
   "outputs": [],
   "source": []
  }
 ],
 "metadata": {
  "anaconda-cloud": {},
  "kernelspec": {
   "display_name": "py36",
   "language": "python",
   "name": "py36"
  },
  "language_info": {
   "codemirror_mode": {
    "name": "ipython",
    "version": 3
   },
   "file_extension": ".py",
   "mimetype": "text/x-python",
   "name": "python",
   "nbconvert_exporter": "python",
   "pygments_lexer": "ipython3",
   "version": "3.6.4"
  }
 },
 "nbformat": 4,
 "nbformat_minor": 2
}
