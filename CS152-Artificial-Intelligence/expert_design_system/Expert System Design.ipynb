{
 "cells": [
  {
   "cell_type": "markdown",
   "metadata": {
    "collapsed": false
   },
   "source": [
    "\\noindent \\textit{Restaurant Recommendations}\n",
    "\n",
    "\\noindent \\textit{CS152 Artificial Intelligence LBA}\n",
    "\n",
    "\\noindent \\textit{Frances Pak and Anna Pauxberger}\n",
    "\n",
    "# Executive Summary\n",
    "\n",
    "The following expert system lets users specify food preferences, such as cuisine, price and proximity, and gives a recommendation of restaurants that fulfill the preferences. The knowledge base contains restaurants and their attributes, as well as the rules that determine for example that a price can be either equal to or lower than the user specified. The user is asked for input one by one, and dynamically checks whether there are restaurants fulfilling the requirements. Given the user choices, it uses Prolog (PySwip library) to query the knowledge base and return the restaurants."
   ]
  },
  {
   "cell_type": "markdown",
   "metadata": {
    "collapsed": false
   },
   "source": [
    "# The Code\n",
    "\n",
    "## Knowledge Base\n",
    "The Knowledge Base lists the restaurants and their attributes. Price ranges, distances, and ratings were found using Google Maps. Price ranges are categorized as low, medium, and high for simplicity of experience on the user's end. Ratings are categorized as okay, decent, good, and delicious for similar reasons. Distances are rounded to the nearest whole number.\n",
    "\n",
    "## Rules\n",
    "Prolog goes through the following rules to determine whether the restaurants in the knowledge base satisfy the user's preferences.\n",
    "- **cuisine_type([Xh|Xt], Y) :- member(Xh,Y); cuisine_type(Xt, Y).** Iterative rule that goes through a list and determines if a chosen cuisine is in the list of specified cuisines for a restaurant.\n",
    "- **price_range(X, Y) :- X == Y.** Determines if the user-specified price preference is equal to what the restaurant has. \n",
    "- **max_distance(X, Y) :- Y =< X.** Ensures that the distance of the restaurant is smaller or equal to what the user specified.\n",
    "- **rating_at_least(X, Y) :- X =< Y.** Ensures that the rating of a restaurant is larger or equal to what the user specified."
   ]
  },
  {
   "cell_type": "code",
   "execution_count": 1,
   "metadata": {
    "collapsed": false
   },
   "outputs": [
   ],
   "source": [
    "KB = \"\"\"\n",
    "\n",
    "% Restaurants and their attributes\n",
    "\n",
    "pick_restaurant(saigon) :- cuisine(Cuisine), cuisine_type(Cuisine, [vietnamese, vegetarian]), price(Price), price_range(Price, low), distance(Distance), max_distance(Distance,1), rating(Rating), rating_at_least(Rating, 4).\n",
    "\n",
    "pick_restaurant(fasongsong) :- cuisine(Cuisine), cuisine_type(Cuisine, [korean, vegetarian]), price(Price), price_range(Price, medium), distance(Distance), max_distance(Distance, 1), rating(Rating), rating_at_least(Rating, 4).\n",
    "\n",
    "pick_restaurant(chori) :- cuisine(Cuisine), cuisine_type(Cuisine, [argentinian]), price(Price), price_range(Price, low), distance(Distance), max_distance(Distance, 5), rating(Rating), rating_at_least(Rating, 3).\n",
    "\n",
    "pick_restaurant(cafe_ditali) :- cuisine(Cuisine), cuisine_type(Cuisine, [italian, argentinian]), price(Price), price_range(Price, low), distance(Distance), max_distance(Distance, 1), rating(Rating), rating_at_least(Rating, 1).\n",
    "\n",
    "pick_restaurant(hong_kong_style) :- cuisine(Cuisine), cuisine_type(Cuisine, [chinese]), price(Price), price_range(Price, medium), distance(Distance), max_distance(Distance, 9), rating(Rating), rating_at_least(Rating, 2).\n",
    "\n",
    "pick_restaurant(cabaña) :- cuisine(Cuisine), cuisine_type(Cuisine, [argentinian]), price(Price), price_range(Price, high), distance(Distance), max_distance(Distance, 2), rating(Rating), rating_at_least(Rating, 4).\n",
    "\n",
    "pick_restaurant(empanairo) :- cuisine(Cuisine), cuisine_type(Cuisine, [argentinian]), price(Price), price_range(Price, low), distance(Distance), max_distance(Distance, 1), rating(Rating), rating_at_least(Rating, 3).\n",
    "\n",
    "pick_restaurant(artemisia) :- cuisine(Cuisine), cuisine_type(Cuisine, [european, vegan]), price(Price), price_range(Price, medium), distance(Distance), max_distance(Distance, 6), rating(Rating), rating_at_least(Rating, 3).\n",
    "\n",
    "pick_restaurant(mcdonalds) :- cuisine(Cuisine), cuisine_type(Cuisine, [fastfood]), price(Price), price_range(Price, low), distance(Distance), max_distance(Distance, 1), rating(Rating), rating_at_least(Rating, 1).\n",
    "\n",
    "pick_restaurant(biwon) :- cuisine(Cuisine), cuisine_type(Cuisine, [korean]), price(Price), price_range(Price, medium), distance(Distance), max_distance(Distance, 2), rating(Rating), rating_at_least(Rating, 2).\n",
    "\n",
    "pick_restaurant(burger_king) :- cuisine(Cuisine), cuisine_type(Cuisine, [fastfood]), price(Price), price_range(Price, low), distance(Distance), max_distance(Distance, 3), rating(Rating), rating_at_least(Rating, 1).\n",
    "\n",
    "pick_restaurant(la_parolaccia_trattoria) :- cuisine(Cuisine), cuisine_type(Cuisine, [italian]), price(Price), price_range(Price, high), distance(Distance), max_distance(Distance, 2), rating(Rating), rating_at_least(Rating, 3).\n",
    "\n",
    "pick_restaurant(baifu) :- cuisine(Cuisine), cuisine_type(Cuisine, [chinese]), price(Price), price_range(Price, medium), distance(Distance), max_distance(Distance, 6), rating(Rating), rating_at_least(Rating, 1).\n",
    "\n",
    "pick_restaurant(loving_hut) :- cuisine(Cuisine), cuisine_type(Cuisine, [vegan]), price(Price), price_range(Price, medium), distance(Distance), max_distance(Distance, 5), rating(Rating), rating_at_least(Rating, 3).\n",
    "\n",
    "\n",
    "% Rules\n",
    "\n",
    "cuisine_type([Xh|Xt], Y) :- member(Xh,Y); cuisine_type(Xt, Y).\n",
    "price_range(X, Y) :- X == Y.\n",
    "max_distance(X, Y) :- Y =< X.\n",
    "rating_at_least(X, Y) :- X =< Y.\n",
    "\n",
    "\"\"\"\n",
    "\n",
    "with open(\"KB.pl\", \"w\") as text_file:\n",
    "    text_file.write(KB)"
   ]
  },
  {
   "cell_type": "markdown",
   "metadata": {
    "collapsed": false
   },
   "source": [
    "## Helper Functions"
   ]
  },
  {
   "cell_type": "code",
   "execution_count": 2,
   "metadata": {
    "collapsed": false
   },
   "outputs": [
   ],
   "source": [
    "def get_user_input():\n",
    "    \"\"\"This function asks the user for input about their cuisine, price, rating and distance preferences. When the user gives false input (e.g. text instead of a number) it returns an error and the user needs to start over again. At each step, it checks whether options are available for the user. It returns the user input, or its translation to the respective values (e.g. '1' is Vietnamese).\"\"\"\n",
    "    \n",
    "    # USER CUISINE\n",
    "    user_cuisine_int = raw_input(\"What type of food do you feel like? Type the number of your preferred cuisine. 1-Vietnamese, 2-Vegetarian, 3-Korean, 4-Italian, 5-Argentinian, 6-Chinese, 7-European, 8-Fast Food, 9-Vegan\")\n",
    "    try:\n",
    "        # check for exit scenario\n",
    "        if user_cuisine_int == \"exit\": return None, None, None, None\n",
    "        # check that the input is a valid option\n",
    "        if int(user_cuisine_int) not in [1,2,3,4,5,6,7,8,9]:\n",
    "            print(\"Please enter a number between 1-9.\")\n",
    "            return get_user_input()\n",
    "    except ValueError:\n",
    "        # exception if the input is not an integer\n",
    "        print(\"Please enter a valid integer, e.g. 1 for Vietnamese food.\")\n",
    "        return get_user_input()\n",
    "    cuisine_dict = {\"1\":\"vietnamese\", \"2\":\"vegetarian\", \"3\":\"korean\", \"4\":\"italian\",\"5\":\"argentinian\",\"6\":\"chinese\",\"7\":\"european\",\"8\":\"fastfood\",\"9\":\"vegan\"}\n",
    "    user_cuisine = cuisine_dict[user_cuisine_int]\n",
    "\n",
    "    # USER PRICE\n",
    "    user_price_int = raw_input(\"What is your price range? Type the number of your price range. 1-low, 2-medium, 3-high\")\n",
    "    try:\n",
    "        # check for exit scenario\n",
    "        if user_price_int == \"exit\": return None, None, None, None\n",
    "        # check that the input is a valid option\n",
    "        if int(user_price_int) not in [1,2,3]:\n",
    "            print(\"Please enter a number between 1-3.\")\n",
    "            return get_user_input()\n",
    "    except ValueError:\n",
    "        # exception if the input is not an integer\n",
    "        print(\"Please enter a valid integer, e.g. 1 for low price.\")\n",
    "        return get_user_input()\n",
    "    price_dict = {\"1\":\"low\", \"2\":\"medium\", \"3\":\"high\"}\n",
    "    user_price = price_dict[user_price_int]\n",
    "\n",
    "    # check temporary requirements with minimum requirements for other variables\n",
    "    temp = query_KB(user_cuisine, user_price, 1, 9)\n",
    "    if not temp:\n",
    "        print(\"Please choose another combination. Unfortunately, this food is not available at this price. \")\n",
    "        return get_user_input()\n",
    "    else:\n",
    "        print(\"Here are the potential options so far: {}\".format((', '.join(temp))))\n",
    "\n",
    "    \n",
    "    # USER RATING\n",
    "    user_rating = raw_input(\"How good does the food have to be, at minimum? Type the number of your preference. 1-okay, 2-decent, 3-good, 4-delicious\")\n",
    "    try:\n",
    "        # check for exit scenario\n",
    "        if user_rating == \"exit\": return None, None, None, None\n",
    "        # check that the input is a valid option\n",
    "        if int(user_rating) not in [1,2,3,4]:\n",
    "            print(\"Please enter a number between 1-4.\")\n",
    "            return get_user_input()\n",
    "    except ValueError:\n",
    "        # exception if the input is not an integer\n",
    "        print(\"Please enter a valid integer, e.g. 1 for okay.\")\n",
    "        return get_user_input()\n",
    "    \n",
    "     # check temporary requirements with minimum requiremets for other variable\n",
    "    temp = query_KB(user_cuisine, user_price, user_rating, 9)\n",
    "    if not temp:\n",
    "        print(\"Please choose another combination. Unfortunately, this food is not available at this price and rating. \")\n",
    "        return get_user_input()\n",
    "    else:\n",
    "        print(\"Here are the potential options so far: {}\".format((', '.join(temp))))\n",
    "    \n",
    "    # USER DISTANCE\n",
    "    user_distance = raw_input(\"What should be the maximum distance (km) of the restaurant? Round to the nearest integer.\")\n",
    "    \n",
    "    # check that the input is an integer\n",
    "    if not int(user_distance):\n",
    "        print(\"Please enter a number.\")\n",
    "        return get_user_input()\n",
    "\n",
    "    return user_cuisine, user_price, user_rating, user_distance\n",
    "\n",
    "\n",
    "def query_KB(user_cuisine, user_price, user_rating, user_distance):\n",
    "    \"\"\"Adsd the user input to the knowledge base, query the solution, removes the facts from knowledge base and return the solution set of restaurants that fulfill user's preferences.\"\"\"\n",
    "    \n",
    "    # assert (add) the user input to the knowledge base\n",
    "    prolog.asserta(\"cuisine(\" + str([user_cuisine]) + \")\")\n",
    "    prolog.asserta(\"price(\" + str(user_price) + \")\")\n",
    "    prolog.asserta(\"rating(\" + str(user_rating) + \")\")\n",
    "    prolog.asserta(\"distance(\" + str(user_distance) + \")\")\n",
    "\n",
    "    # ensure solution uniqueness by defining a set\n",
    "    solution_set = set()\n",
    "    for solution in prolog.query(\"pick_restaurant(X).\"):\n",
    "        solution_set.add(solution.get(\"X\", \"\"))\n",
    "\n",
    "    # retract (remove) all facts from the database\n",
    "    call(retractall(cuisine))\n",
    "    call(retractall(price))\n",
    "    call(retractall(rating))\n",
    "    call(retractall(distance))\n",
    "\n",
    "    return solution_set"
   ]
  },
  {
   "cell_type": "markdown",
   "metadata": {
    "collapsed": false
   },
   "source": [
    "## Main Program & Test"
   ]
  },
  {
   "cell_type": "code",
   "execution_count": 3,
   "metadata": {
    "cocalc": {
     "outputs": {
      "0": {
       "name": "input",
       "opts": {
        "password": false,
        "prompt": "What type of food do you feel like? Type the number of your preferred cuisine. 1-Vietnamese, 2-Vegetarian, 3-Korean, 4-Italian, 5-Argentinian, 6-Chinese, 7-European, 8-Fast Food, 9-Vegan"
       },
       "output_type": "stream",
       "value": "5"
      },
      "1": {
       "name": "input",
       "opts": {
        "password": false,
        "prompt": "What is your price range? Type the number of your price range. 1-low, 2-medium, 3-high"
       },
       "output_type": "stream",
       "value": "1"
      },
      "3": {
       "name": "input",
       "opts": {
        "password": false,
        "prompt": "How good does the food have to be, at minimum? Type the number of your preference. 1-okay, 2-decent, 3-good, 4-delicious"
       },
       "output_type": "stream",
       "value": "1"
      },
      "5": {
       "name": "input",
       "opts": {
        "password": false,
        "prompt": "What should be the maximum distance (km) of the restaurant? Round to the nearest integer."
       },
       "output_type": "stream",
       "value": "1"
      }
     }
    },
    "collapsed": false
   },
   "outputs": [
   ],
   "source": [
    "from pyswip.prolog import Prolog\n",
    "from pyswip.easy import *\n",
    "\n",
    "prolog = Prolog() # global handle to interpreter\n",
    "\n",
    "cuisine = Functor(\"cuisine\",1)\n",
    "price = Functor(\"price\",1)\n",
    "rating = Functor(\"rating\",1)\n",
    "distance = Functor(\"distance\",1)\n",
    "retractall = Functor(\"retractall\")\n",
    "\n",
    "def main():\n",
    "    prolog.consult(\"KB.pl\") # open the KB\n",
    "    pick_restaurant = Functor(\"pick_restaurant\",1)\n",
    "    prolog.dynamic(\"cuisine/1\")\n",
    "    prolog.dynamic(\"price/1\")\n",
    "    prolog.dynamic(\"rating/1\")\n",
    "    prolog.dynamic(\"distance/1\")\n",
    "\n",
    "\n",
    "    # get user's preferences via user input\n",
    "    print(\"To exit the expert system, type 'exit'.\")\n",
    "    user_cuisine, user_price, user_rating, user_distance = get_user_input()\n",
    "\n",
    "    restaurant_choice = query_KB(user_cuisine, user_price, user_rating, user_distance)\n",
    "\n",
    "    if restaurant_choice:\n",
    "        if len(restaurant_choice) == 1:\n",
    "            print(\"We recommend the following restaurant:\")\n",
    "        else:\n",
    "            print(\"We recommend the following restaurants:\")\n",
    "        for element in restaurant_choice:\n",
    "               print(element)\n",
    "    else:\n",
    "        print(\"We're sorry! It looks like there are no restaurants available with these requirements.\")\n"
   ]
  },
  {
   "cell_type": "markdown",
   "metadata": {
    "collapsed": false
   },
   "source": [
    "### First successful test case (Anna's choice)"
   ]
  },
  {
   "cell_type": "code",
   "execution_count": 4,
   "metadata": {
    "cocalc": {
     "outputs": {
      "1": {
       "name": "input",
       "opts": {
        "password": false,
        "prompt": "What type of food do you feel like? Type the number of your preferred cuisine. 1-Vietnamese, 2-Vegetarian, 3-Korean, 4-Italian, 5-Argentinian, 6-Chinese, 7-European, 8-Fast Food, 9-Vegan"
       },
       "output_type": "stream",
       "value": "7"
      },
      "2": {
       "name": "input",
       "opts": {
        "password": false,
        "prompt": "What is your price range? Type the number of your price range. 1-low, 2-medium, 3-high"
       },
       "output_type": "stream",
       "value": "2"
      },
      "4": {
       "name": "input",
       "opts": {
        "password": false,
        "prompt": "How good does the food have to be, at minimum? Type the number of your preference. 1-okay, 2-decent, 3-good, 4-delicious"
       },
       "output_type": "stream",
       "value": "3"
      },
      "6": {
       "name": "input",
       "opts": {
        "password": false,
        "prompt": "What should be the maximum distance (km) of the restaurant? Round to the nearest integer."
       },
       "output_type": "stream",
       "value": "10"
      }
     }
    },
    "collapsed": false
   },
   "outputs": [
    {
     "name": "stdout",
     "output_type": "stream",
     "text": [
      "To exit the expert system, type 'exit'.\n"
     ]
    },
    {
     "name": "stdout",
     "output_type": "stream",
     "text": "What type of food do you feel like? Type the number of your preferred cuisine. 1-Vietnamese, 2-Vegetarian, 3-Korean, 4-Italian, 5-Argentinian, 6-Chinese, 7-European, 8-Fast Food, 9-Vegan 7"
    },
    {
     "name": "stdout",
     "output_type": "stream",
     "text": "What is your price range? Type the number of your price range. 1-low, 2-medium, 3-high 2"
    },
    {
     "name": "stdout",
     "output_type": "stream",
     "text": [
      "Here are the potential options so far: artemisia\n"
     ]
    },
    {
     "name": "stdout",
     "output_type": "stream",
     "text": "How good does the food have to be, at minimum? Type the number of your preference. 1-okay, 2-decent, 3-good, 4-delicious 3"
    },
    {
     "name": "stdout",
     "output_type": "stream",
     "text": [
      "Here are the potential options so far: artemisia\n"
     ]
    },
    {
     "name": "stdout",
     "output_type": "stream",
     "text": "What should be the maximum distance (km) of the restaurant? Round to the nearest integer. 10"
    },
    {
     "name": "stdout",
     "output_type": "stream",
     "text": [
      "We recommend the following restaurant:\n",
      "artemisia\n"
     ]
    }
   ],
   "source": [
    "# prolog = Prolog()\n",
    "main() # 7,2,3,10"
   ]
  },
  {
   "cell_type": "markdown",
   "metadata": {
    "collapsed": false
   },
   "source": [
    "### Second successful test case (Frances' choice)"
   ]
  },
  {
   "cell_type": "code",
   "execution_count": 5,
   "metadata": {
    "cocalc": {
     "outputs": {
      "1": {
       "name": "input",
       "opts": {
        "password": false,
        "prompt": "What type of food do you feel like? Type the number of your preferred cuisine. 1-Vietnamese, 2-Vegetarian, 3-Korean, 4-Italian, 5-Argentinian, 6-Chinese, 7-European, 8-Fast Food, 9-Vegan"
       },
       "output_type": "stream",
       "value": "3"
      },
      "2": {
       "name": "input",
       "opts": {
        "password": false,
        "prompt": "What is your price range? Type the number of your price range. 1-low, 2-medium, 3-high"
       },
       "output_type": "stream",
       "value": "2"
      },
      "4": {
       "name": "input",
       "opts": {
        "password": false,
        "prompt": "How good does the food have to be, at minimum? Type the number of your preference. 1-okay, 2-decent, 3-good, 4-delicious"
       },
       "output_type": "stream",
       "value": "4"
      },
      "6": {
       "name": "input",
       "opts": {
        "password": false,
        "prompt": "What should be the maximum distance (km) of the restaurant? Round to the nearest integer."
       },
       "output_type": "stream",
       "value": "3"
      }
     }
    },
    "collapsed": false,
    "scrolled": true
   },
   "outputs": [
    {
     "name": "stdout",
     "output_type": "stream",
     "text": [
      "To exit the expert system, type 'exit'.\n"
     ]
    },
    {
     "name": "stdout",
     "output_type": "stream",
     "text": "What type of food do you feel like? Type the number of your preferred cuisine. 1-Vietnamese, 2-Vegetarian, 3-Korean, 4-Italian, 5-Argentinian, 6-Chinese, 7-European, 8-Fast Food, 9-Vegan 3"
    },
    {
     "name": "stdout",
     "output_type": "stream",
     "text": "What is your price range? Type the number of your price range. 1-low, 2-medium, 3-high 2"
    },
    {
     "name": "stdout",
     "output_type": "stream",
     "text": [
      "Here are the potential options so far: biwon, fasongsong\n"
     ]
    },
    {
     "name": "stdout",
     "output_type": "stream",
     "text": "How good does the food have to be, at minimum? Type the number of your preference. 1-okay, 2-decent, 3-good, 4-delicious 4"
    },
    {
     "name": "stdout",
     "output_type": "stream",
     "text": [
      "Here are the potential options so far: fasongsong\n"
     ]
    },
    {
     "name": "stdout",
     "output_type": "stream",
     "text": "What should be the maximum distance (km) of the restaurant? Round to the nearest integer. 3"
    },
    {
     "name": "stdout",
     "output_type": "stream",
     "text": [
      "We recommend the following restaurant:\n",
      "fasongsong\n"
     ]
    }
   ],
   "source": [
    "#prolog = Prolog()\n",
    "main() #3, 2, 4, 3"
   ]
  },
  {
   "cell_type": "markdown",
   "metadata": {
    "collapsed": false
   },
   "source": [
    "### First failure test case (cuisine)"
   ]
  },
  {
   "cell_type": "code",
   "execution_count": 6,
   "metadata": {
    "cocalc": {
     "outputs": {
      "1": {
       "name": "input",
       "opts": {
        "password": false,
        "prompt": "What type of food do you feel like? Type the number of your preferred cuisine. 1-Vietnamese, 2-Vegetarian, 3-Korean, 4-Italian, 5-Argentinian, 6-Chinese, 7-European, 8-Fast Food, 9-Vegan"
       },
       "output_type": "stream",
       "value": "no"
      },
      "3": {
       "name": "input",
       "opts": {
        "password": false,
        "prompt": "What type of food do you feel like? Type the number of your preferred cuisine. 1-Vietnamese, 2-Vegetarian, 3-Korean, 4-Italian, 5-Argentinian, 6-Chinese, 7-European, 8-Fast Food, 9-Vegan"
       },
       "output_type": "stream",
       "value": "10"
      },
      "5": {
       "name": "input",
       "opts": {
        "password": false,
        "prompt": "What type of food do you feel like? Type the number of your preferred cuisine. 1-Vietnamese, 2-Vegetarian, 3-Korean, 4-Italian, 5-Argentinian, 6-Chinese, 7-European, 8-Fast Food, 9-Vegan"
       },
       "output_type": "stream",
       "value": "exit"
      }
     }
    },
    "collapsed": false
   },
   "outputs": [
    {
     "name": "stdout",
     "output_type": "stream",
     "text": [
      "To exit the expert system, type 'exit'.\n"
     ]
    },
    {
     "name": "stdout",
     "output_type": "stream",
     "text": "What type of food do you feel like? Type the number of your preferred cuisine. 1-Vietnamese, 2-Vegetarian, 3-Korean, 4-Italian, 5-Argentinian, 6-Chinese, 7-European, 8-Fast Food, 9-Vegan no"
    },
    {
     "name": "stdout",
     "output_type": "stream",
     "text": [
      "Please enter a valid integer, e.g. 1 for Vietnamese food.\n"
     ]
    },
    {
     "name": "stdout",
     "output_type": "stream",
     "text": "What type of food do you feel like? Type the number of your preferred cuisine. 1-Vietnamese, 2-Vegetarian, 3-Korean, 4-Italian, 5-Argentinian, 6-Chinese, 7-European, 8-Fast Food, 9-Vegan 10"
    },
    {
     "name": "stdout",
     "output_type": "stream",
     "text": [
      "Please enter a number between 1-9.\n"
     ]
    },
    {
     "name": "stdout",
     "output_type": "stream",
     "text": "What type of food do you feel like? Type the number of your preferred cuisine. 1-Vietnamese, 2-Vegetarian, 3-Korean, 4-Italian, 5-Argentinian, 6-Chinese, 7-European, 8-Fast Food, 9-Vegan exit"
    },
    {
     "name": "stdout",
     "output_type": "stream",
     "text": [
      "We're sorry! It looks like there are no restaurants available with these requirements.\n"
     ]
    }
   ],
   "source": [
    "# Test case: string input, out of range input, exit on cuisine level \n",
    "# 'no', 10, 'exit'\n",
    "prolog = Prolog()\n",
    "main()"
   ]
  },
  {
   "cell_type": "markdown",
   "metadata": {
    "collapsed": false
   },
   "source": [
    "### First failure test case (price range)"
   ]
  },
  {
   "cell_type": "code",
   "execution_count": 7,
   "metadata": {
    "cocalc": {
     "outputs": {
      "1": {
       "name": "input",
       "opts": {
        "password": false,
        "prompt": "What type of food do you feel like? Type the number of your preferred cuisine. 1-Vietnamese, 2-Vegetarian, 3-Korean, 4-Italian, 5-Argentinian, 6-Chinese, 7-European, 8-Fast Food, 9-Vegan"
       },
       "output_type": "stream",
       "value": "1"
      },
      "2": {
       "name": "input",
       "opts": {
        "password": false,
        "prompt": "What is your price range? Type the number of your price range. 1-low, 2-medium, 3-high"
       },
       "output_type": "stream",
       "value": "high"
      },
      "4": {
       "name": "input",
       "opts": {
        "password": false,
        "prompt": "What type of food do you feel like? Type the number of your preferred cuisine. 1-Vietnamese, 2-Vegetarian, 3-Korean, 4-Italian, 5-Argentinian, 6-Chinese, 7-European, 8-Fast Food, 9-Vegan"
       },
       "output_type": "stream",
       "value": "1"
      },
      "5": {
       "name": "input",
       "opts": {
        "password": false,
        "prompt": "What is your price range? Type the number of your price range. 1-low, 2-medium, 3-high"
       },
       "output_type": "stream",
       "value": "4"
      },
      "7": {
       "name": "input",
       "opts": {
        "password": false,
        "prompt": "What type of food do you feel like? Type the number of your preferred cuisine. 1-Vietnamese, 2-Vegetarian, 3-Korean, 4-Italian, 5-Argentinian, 6-Chinese, 7-European, 8-Fast Food, 9-Vegan"
       },
       "output_type": "stream",
       "value": "exit"
      }
     }
    },
    "collapsed": false
   },
   "outputs": [
    {
     "name": "stdout",
     "output_type": "stream",
     "text": [
      "To exit the expert system, type 'exit'.\n"
     ]
    },
    {
     "name": "stdout",
     "output_type": "stream",
     "text": "What type of food do you feel like? Type the number of your preferred cuisine. 1-Vietnamese, 2-Vegetarian, 3-Korean, 4-Italian, 5-Argentinian, 6-Chinese, 7-European, 8-Fast Food, 9-Vegan 1"
    },
    {
     "name": "stdout",
     "output_type": "stream",
     "text": "What is your price range? Type the number of your price range. 1-low, 2-medium, 3-high high"
    },
    {
     "name": "stdout",
     "output_type": "stream",
     "text": [
      "Please enter a valid integer, e.g. 1 for low price.\n"
     ]
    },
    {
     "name": "stdout",
     "output_type": "stream",
     "text": "What type of food do you feel like? Type the number of your preferred cuisine. 1-Vietnamese, 2-Vegetarian, 3-Korean, 4-Italian, 5-Argentinian, 6-Chinese, 7-European, 8-Fast Food, 9-Vegan 1"
    },
    {
     "name": "stdout",
     "output_type": "stream",
     "text": "What is your price range? Type the number of your price range. 1-low, 2-medium, 3-high 4"
    },
    {
     "name": "stdout",
     "output_type": "stream",
     "text": [
      "Please enter a number between 1-3.\n"
     ]
    },
    {
     "name": "stdout",
     "output_type": "stream",
     "text": "What type of food do you feel like? Type the number of your preferred cuisine. 1-Vietnamese, 2-Vegetarian, 3-Korean, 4-Italian, 5-Argentinian, 6-Chinese, 7-European, 8-Fast Food, 9-Vegan exit"
    },
    {
     "name": "stdout",
     "output_type": "stream",
     "text": [
      "We're sorry! It looks like there are no restaurants available with these requirements.\n"
     ]
    }
   ],
   "source": [
    "# Test case: string input, out of range input, exit on price range level\n",
    "# 1, 'high', 1, 4, exit\n",
    "prolog = Prolog()\n",
    "main()"
   ]
  },
  {
   "cell_type": "markdown",
   "metadata": {
    "collapsed": false
   },
   "source": [
    "# Appendix\n",
    "\n",
    "## Member contributions\n",
    "Data was collected together. The prolog code was done by Frances. The main skeleton of the PySWIP code was done by Anna. Other parts of the python code (i.e. error check, inputs, returning temporary restaurants, etc) and the write-up was done together.\n",
    "\n",
    "## Noteworthy HCs\n",
    "- #audience - Minerva students don't have capacity to spend a lot of time on searching for the right place. We picked the best places in the surrounding, give simple options, and make it easy for our audience to find the right place quickly. As soon as their preferences result in no choices, we notify the student and ask them to submit another request so that they don't waste time continuing to ask questions when we already know that there is no place satisfying their preferences. By using numbers as input, students don't have to worry about spelling things correctly, making their user experience as easy and smooth as possible. (We hope you, Professor, as your secondary if not primary audience, also enjoyed the process.)\n",
    "\n",
    "## References\n",
    "Referenced code from class session 12.2 where PySWIP was used."
   ]
  },
  {
   "cell_type": "markdown",
   "metadata": {
    "collapsed": false
   },
   "source": [
    "## Attachments\n",
    "The following table shows the collected data, also available [here](https://docs.google.com/spreadsheets/d/1TS91QX6vLWTb_ZeSP599mK34wn6ymT6wmDCfq9B0ad8/edit#gid=0).\n",
    "\n",
    "![Data Collection](data.jpg)\n",
    "![Picture of us at Empanairo, one of the options in the test cases.](AI_empanairo.jpg)"
   ]
  }
 ],
 "metadata": {
  "kernelspec": {
   "display_name": "Python 2 (SageMath)",
   "language": "python",
   "metadata": {
    "cocalc": {
     "description": "SageMath Python 2 environment",
     "priority": 0,
     "url": "https://www.sagemath.org/"
    }
   },
   "name": "python2-sagemath"
  },
  "language_info": {
   "codemirror_mode": {
    "name": "ipython",
    "version": 2
   },
   "file_extension": ".py",
   "mimetype": "text/x-python",
   "name": "python",
   "nbconvert_exporter": "python",
   "pygments_lexer": "ipython2",
   "version": "2.7.15"
  }
 },
 "nbformat": 4,
 "nbformat_minor": 0
}
