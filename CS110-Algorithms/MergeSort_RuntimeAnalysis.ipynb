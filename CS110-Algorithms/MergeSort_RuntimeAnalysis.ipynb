{
 "cells": [
  {
   "cell_type": "code",
   "execution_count": 0,
   "metadata": {
    "id": "4eUF1er9HK83",
    "colab_type": "code",
    "colab": {
     "autoexec": {
      "startup": false,
      "wait_interval": 0.0
     }
    }
   },
   "outputs": [],
   "source": [
    "import random\n",
    "import heapq\n",
    "import timeit\n",
    "import numpy as np\n",
    "import pandas as pd"
   ]
  },
  {
   "cell_type": "markdown",
   "metadata": {
    "id": "I84hbVb-TH7n",
    "colab_type": "text"
   },
   "source": [
    "### 1. Three-Way Merge Sort"
   ]
  },
  {
   "cell_type": "code",
   "execution_count": 35,
   "metadata": {
    "id": "MUglS6y8HPkc",
    "colab_type": "code",
    "colab": {
     "autoexec": {
      "startup": false,
      "wait_interval": 0.0
     },
     "output_extras": [
      {
       "item_id": 1.0
      }
     ],
     "base_uri": "https://localhost:8080/",
     "height": 34.0
    },
    "outputId": "6d89ce44-24ed-464c-b005-cf6b770239b9",
    "executionInfo": {
     "status": "ok",
     "timestamp": 1.517154931189E12,
     "user_tz": -330.0,
     "elapsed": 952.0,
     "user": {
      "displayName": "Anna Pauxberger",
      "photoUrl": "//lh4.googleusercontent.com/-ZvYlZ4tP3fo/AAAAAAAAAAI/AAAAAAAAAh4/K5Q9dwc3S6s/s50-c-k-no/photo.jpg",
      "userId": "116193959820107973415"
     }
    }
   },
   "outputs": [
    {
     "data": {
      "text/plain": [
       "[1, 6, 9, 16, 25, 29, 32, 43, 44, 52, 60, 76, 77, 79, 82, 89, 93, 95, 96, 97]"
      ]
     },
     "execution_count": 35,
     "metadata": {
      "tags": []
     },
     "output_type": "execute_result"
    }
   ],
   "source": [
    "def three_merge_sort(a):\n",
    "    '''Splits a list into three equal parts recursively until \n",
    "    the sub-lists are smaller or equal to 3. Returns sorted list.\n",
    "    '''\n",
    "    if len(a) >= 3:\n",
    "        start = 0\n",
    "        end = len(a) // 3\n",
    "\n",
    "        # creates three sub-lists storing the left, middle and right\n",
    "        # part of the input list, recursively\n",
    "        L = three_merge_sort(a[:end])\n",
    "        M = three_merge_sort(a[end:end * 2])\n",
    "        R = three_merge_sort(a[end * 2:])\n",
    "    \n",
    "        # merges the split lists using heap structure\n",
    "        a = [x for x in heapq.merge(L, M, R)]\n",
    "\n",
    "    elif len(a) == 2:\n",
    "        # swap the two elements\n",
    "        if a[0]>a[1]:\n",
    "          a[0], a[1] = a[1], a[0]\n",
    "        \n",
    "    else:\n",
    "        return a      \n",
    "\n",
    "    return a\n",
    "  \n",
    "random_array = random.sample(range(1, 100), 20)\n",
    "three_merge_sort(random_array[:])"
   ]
  },
  {
   "cell_type": "markdown",
   "metadata": {
    "id": "JE3pceWdTL_i",
    "colab_type": "text"
   },
   "source": [
    "### 2. Three-Way Merge Sort Calling Insertion Sort"
   ]
  },
  {
   "cell_type": "code",
   "execution_count": 34,
   "metadata": {
    "id": "2-xTc_I1HRMi",
    "colab_type": "code",
    "colab": {
     "autoexec": {
      "startup": false,
      "wait_interval": 0.0
     },
     "output_extras": [
      {
       "item_id": 1.0
      }
     ],
     "base_uri": "https://localhost:8080/",
     "height": 34.0
    },
    "outputId": "01e8bc19-491a-412b-eb57-3a2841d89025",
    "executionInfo": {
     "status": "ok",
     "timestamp": 1.517154642318E12,
     "user_tz": -330.0,
     "elapsed": 944.0,
     "user": {
      "displayName": "Anna Pauxberger",
      "photoUrl": "//lh4.googleusercontent.com/-ZvYlZ4tP3fo/AAAAAAAAAAI/AAAAAAAAAh4/K5Q9dwc3S6s/s50-c-k-no/photo.jpg",
      "userId": "116193959820107973415"
     }
    }
   },
   "outputs": [
    {
     "data": {
      "text/plain": [
       "[6, 7, 10, 12, 28, 29, 30, 40, 46, 54, 62, 73, 75, 81, 82, 84, 87, 92, 94, 98]"
      ]
     },
     "execution_count": 34,
     "metadata": {
      "tags": []
     },
     "output_type": "execute_result"
    }
   ],
   "source": [
    "def insertion_sort(A):\n",
    "    '''Help function for merge_insortion_sort.'''\n",
    "    for j in range(1, len(A)): \n",
    "        key = A[j]\n",
    "        i = j-1\n",
    "        while i >= 0 and A[i] > key: \n",
    "            A[i+1] = A[i]\n",
    "            i -= 1   \n",
    "        A[i+1] = key\n",
    "    return A\n",
    "\n",
    "def merge_insertion_sort(a):\n",
    "    '''Splits a list into three equal parts recursively until \n",
    "    the sub-lists are smaller or equal to 3, after which insertion\n",
    "    sort is applied. Returns sorted list.\n",
    "    '''\n",
    "    if len(a) >= 43: # 43 since this is the time when insertion sort\n",
    "                     # is faster than merge sort\n",
    "        start = 0\n",
    "        end = len(a) // 3\n",
    "\n",
    "        L = three_merge_sort(a[:end])\n",
    "        M = three_merge_sort(a[end:end * 2])\n",
    "        R = three_merge_sort(a[end * 2:])\n",
    "    \n",
    "        a = [x for x in heapq.merge(L, M, R)]\n",
    "    \n",
    "    else:\n",
    "        # Calls insertion sort when lists are equal or below 43\n",
    "        insertion_sort(a)\n",
    "    return a\n",
    "  \n",
    "random_array = random.sample(range(1, 100), 20)\n",
    "merge_insertion_sort(random_array[:])\n"
   ]
  },
  {
   "cell_type": "markdown",
   "metadata": {
    "id": "ABZ0aVnYTOnj",
    "colab_type": "text"
   },
   "source": [
    "### 3. (Optional) K-Way Merge Sort"
   ]
  },
  {
   "cell_type": "code",
   "execution_count": 4,
   "metadata": {
    "id": "lxgX4Cl5HS-i",
    "colab_type": "code",
    "colab": {
     "autoexec": {
      "startup": false,
      "wait_interval": 0.0
     },
     "output_extras": [
      {
       "item_id": 1.0
      }
     ],
     "base_uri": "https://localhost:8080/",
     "height": 54.0
    },
    "outputId": "9cae4206-d5ed-4c5d-e628-2153b28b55c0",
    "executionInfo": {
     "status": "ok",
     "timestamp": 1.51714878692E12,
     "user_tz": -330.0,
     "elapsed": 1923.0,
     "user": {
      "displayName": "Anna Pauxberger",
      "photoUrl": "//lh4.googleusercontent.com/-ZvYlZ4tP3fo/AAAAAAAAAAI/AAAAAAAAAh4/K5Q9dwc3S6s/s50-c-k-no/photo.jpg",
      "userId": "116193959820107973415"
     }
    }
   },
   "outputs": [
    {
     "name": "stdout",
     "output_type": "stream",
     "text": [
      "[506, 696, 732, 790, 976, 1061, 1172, 2106, 2259, 2636, 2723, 2812, 2912, 3636, 5379, 6182, 6354, 6642, 6897, 8210]\n"
     ]
    }
   ],
   "source": [
    "def kway_merge_sort(a, k=10):\n",
    "    '''Splits a list into k-chosen equal parts recursively, sorts\n",
    "    viea heap merge, and returns a sorted list.\n",
    "    '''\n",
    "    # Only starts the merge sort if the list is larger than specified k\n",
    "    if len(a) > k:\n",
    "        \n",
    "        # Specifies the end of the sub-list\n",
    "        end = len(a)//k\n",
    "        if end == 0:\n",
    "            end = 1\n",
    "        \n",
    "        #keeps track of k parts of the array\n",
    "        k_lol = []\n",
    "        \n",
    "        # Iterates through the initial array k-times, calling itself\n",
    "        # recursively for each k until each sub array is smaller than k\n",
    "        for i in range(k):\n",
    "            sub_list = kway_merge_sort(a[end*(i):end*(i+1)], k)\n",
    "            k_lol.append(sub_list)\n",
    "        \n",
    "        # Merges the sorted k sub-arrays via heap structure\n",
    "        a = [x for x in heapq.merge(*k_lol)]\n",
    "    \n",
    "    else:\n",
    "        # Sorts the lists when smaller than k\n",
    "        a.sort()\n",
    "    \n",
    "    return a\n",
    "  \n",
    "random_array = random.sample(range(1, 10000), 20)\n",
    "print(kway_merge_sort(random_array[:], 10))"
   ]
  },
  {
   "cell_type": "markdown",
   "metadata": {
    "id": "Pz_6ANc4TTO0",
    "colab_type": "text"
   },
   "source": [
    "### 4. Run Times Analysis (Prep)"
   ]
  },
  {
   "cell_type": "code",
   "execution_count": 57,
   "metadata": {
    "id": "kEjGhZDvHUkx",
    "colab_type": "code",
    "colab": {
     "autoexec": {
      "startup": false,
      "wait_interval": 0.0
     },
     "output_extras": [
      {
       "item_id": 1.0
      }
     ],
     "base_uri": "https://localhost:8080/",
     "height": 54.0
    },
    "outputId": "8e592ae4-7969-4721-fd4c-c27b360ece06",
    "executionInfo": {
     "status": "ok",
     "timestamp": 1.517157926716E12,
     "user_tz": -330.0,
     "elapsed": 1034.0,
     "user": {
      "displayName": "Anna Pauxberger",
      "photoUrl": "//lh4.googleusercontent.com/-ZvYlZ4tP3fo/AAAAAAAAAAI/AAAAAAAAAh4/K5Q9dwc3S6s/s50-c-k-no/photo.jpg",
      "userId": "116193959820107973415"
     }
    }
   },
   "outputs": [
    {
     "name": "stdout",
     "output_type": "stream",
     "text": [
      "[966, 1545, 2198, 2488, 2952, 3384, 3770, 4279, 5015, 5333, 6468, 6558, 6772, 6920, 6951, 7416, 8452, 8865, 9012, 9977]\n"
     ]
    }
   ],
   "source": [
    "# Merge sort from https://www.geeksforgeeks.org/merge-sort/\n",
    "\n",
    "def merge(arr, l, m, r):\n",
    "    n1 = m - l + 1\n",
    "    n2 = r - m\n",
    " \n",
    "    # create temp arrays\n",
    "    L = [0] * (n1)\n",
    "    R = [0] * (n2)\n",
    " \n",
    "    # Copy data to temp arrays L[] and R[]\n",
    "    for i in range(0 , n1):\n",
    "        L[i] = arr[l + i]\n",
    " \n",
    "    for j in range(0 , n2):\n",
    "        R[j] = arr[m + 1 + j]\n",
    " \n",
    "    # Merge the temp arrays back into arr[l..r]\n",
    "    i = 0     # Initial index of first subarray\n",
    "    j = 0     # Initial index of second subarray\n",
    "    k = l     # Initial index of merged subarray\n",
    " \n",
    "    while i < n1 and j < n2 :\n",
    "        if L[i] <= R[j]:\n",
    "            arr[k] = L[i]\n",
    "            i += 1\n",
    "        else:\n",
    "            arr[k] = R[j]\n",
    "            j += 1\n",
    "        k += 1\n",
    " \n",
    "    # Copy the remaining elements of L[], if there\n",
    "    # are any\n",
    "    while i < n1:\n",
    "        arr[k] = L[i]\n",
    "        i += 1\n",
    "        k += 1\n",
    " \n",
    "    # Copy the remaining elements of R[], if there\n",
    "    # are any\n",
    "    while j < n2:\n",
    "        arr[k] = R[j]\n",
    "        j += 1\n",
    "        k += 1\n",
    "\n",
    "# l is for left index and r is right index of the\n",
    "# sub-array of arr to be sorted\n",
    "def merge_sort(a,l=0,r=19):\n",
    "    if l < r:\n",
    " \n",
    "        # Same as (l+r)/2, but avoids overflow for\n",
    "        # large l and h\n",
    "        m = (l+(r-1))/2\n",
    " \n",
    "        # Sort first and second halves\n",
    "        merge_sort(a, l, m)\n",
    "        merge_sort(a, m+1, r)\n",
    "        merge(a, l, m, r)\n",
    "        \n",
    "    return a\n",
    "\n",
    "\n",
    "random_array = random.sample(range(1, 10000), 20)\n",
    "print(merge_sort(random_array[:],0,19))"
   ]
  },
  {
   "cell_type": "markdown",
   "metadata": {
    "id": "DL2vsfZYTYVF",
    "colab_type": "text"
   },
   "source": [
    "### 4. Run Time Analysis"
   ]
  },
  {
   "cell_type": "code",
   "execution_count": 0,
   "metadata": {
    "id": "7ylDQrywHWdI",
    "colab_type": "code",
    "colab": {
     "autoexec": {
      "startup": false,
      "wait_interval": 0.0
     }
    }
   },
   "outputs": [],
   "source": [
    "#Compare Algorithm Performances\n",
    "\n",
    "from time import time\n",
    "import matplotlib.pyplot as plt\n",
    "%matplotlib inline\n",
    "\n",
    "def test_algorithm(func,a):\n",
    "    '''Measures the running time of a function.'''\n",
    "    start_time = time()\n",
    "    func(a)\n",
    "    total_time = time() - start_time\n",
    "    return total_time\n",
    "\n",
    "def test_all_algorithms(n_repeats=10):\n",
    "    '''Compares the running time of algorithms for different\n",
    "    array lengths, and returns a data frame storing array length and\n",
    "    running time.\n",
    "    '''\n",
    "    \n",
    "    # Arrays to store the running time means for each array length\n",
    "    time_2_way = []\n",
    "    time_3_way = []\n",
    "    time_3_insertion = []\n",
    "    time_k_way = []\n",
    "    \n",
    "    # Temporary arrays to store specific array length running times\n",
    "    temp_time_2_way = []\n",
    "    temp_time_3_way = []\n",
    "    temp_time_3_insertion = []\n",
    "    temp_time_k_way = []\n",
    "    \n",
    "    list_of_lengths = range(100,10000,100)\n",
    "    # Arrays increases by a constant addition of 100\n",
    "    \n",
    "    for length in list_of_lengths:\n",
    "        for i in range(n_repeats):\n",
    "            a = random.sample(range(1,10000), length)\n",
    "            # arrays are randomly sampled from between 1-10000\n",
    "            # at a length specified by the outer for loop\n",
    "            # with a repetition specified by the inner for loop\n",
    "            \n",
    "            l = 0\n",
    "            r = len(a)-1\n",
    "            k = 5\n",
    "            \n",
    "            temp_time_2_way.append(test_algorithm(merge_sort, a[:]))\n",
    "            temp_time_3_way.append(test_algorithm(three_merge_sort, a[:]))\n",
    "            temp_time_3_insertion.append(test_algorithm(merge_insertion_sort, a[:]))\n",
    "            temp_time_k_way.append(test_algorithm(kway_merge_sort, a[:]))\n",
    "            \n",
    "        time_2_way.append(np.mean(temp_time_2_way)*1000)\n",
    "        time_3_way.append(np.mean(temp_time_3_way)*1000)\n",
    "        time_3_insertion.append(np.mean(temp_time_3_insertion)*1000)\n",
    "        time_k_way.append(np.mean(temp_time_k_way)*1000)\n",
    "        # running times multiplied by 1000 to attain milliseconds\n",
    "    \n",
    "    global df\n",
    "    df = pd.DataFrame(\n",
    "    {'(0) Array Length': list_of_lengths,\n",
    "     '(1) 2-Way': time_2_way,\n",
    "     '(2) 3-Way': time_3_way,\n",
    "     '(3) 3-Insert': time_3_insertion,\n",
    "     '(4) K-Way': time_k_way\n",
    "     })"
   ]
  },
  {
   "cell_type": "code",
   "execution_count": 0,
   "metadata": {
    "id": "eFTuviaqHYqB",
    "colab_type": "code",
    "colab": {
     "autoexec": {
      "startup": false,
      "wait_interval": 0.0
     }
    }
   },
   "outputs": [],
   "source": [
    "test_all_algorithms()\n",
    "#in milliseconds"
   ]
  },
  {
   "cell_type": "code",
   "execution_count": 83,
   "metadata": {
    "id": "FnjDlimWuSQz",
    "colab_type": "code",
    "colab": {
     "autoexec": {
      "startup": false,
      "wait_interval": 0.0
     },
     "output_extras": [
      {
       "item_id": 1.0
      }
     ],
     "base_uri": "https://localhost:8080/",
     "height": 142.0
    },
    "outputId": "242e771c-7e2c-4b08-9abd-82172bbe5b46",
    "executionInfo": {
     "status": "ok",
     "timestamp": 1.517159008471E12,
     "user_tz": -330.0,
     "elapsed": 1436.0,
     "user": {
      "displayName": "Anna Pauxberger",
      "photoUrl": "//lh4.googleusercontent.com/-ZvYlZ4tP3fo/AAAAAAAAAAI/AAAAAAAAAh4/K5Q9dwc3S6s/s50-c-k-no/photo.jpg",
      "userId": "116193959820107973415"
     }
    }
   },
   "outputs": [
    {
     "data": {
      "text/html": [
       "<div>\n",
       "<style scoped>\n",
       "    .dataframe tbody tr th:only-of-type {\n",
       "        vertical-align: middle;\n",
       "    }\n",
       "\n",
       "    .dataframe tbody tr th {\n",
       "        vertical-align: top;\n",
       "    }\n",
       "\n",
       "    .dataframe thead th {\n",
       "        text-align: right;\n",
       "    }\n",
       "</style>\n",
       "<table border=\"1\" class=\"dataframe\">\n",
       "  <thead>\n",
       "    <tr style=\"text-align: right;\">\n",
       "      <th></th>\n",
       "      <th>(0) Array Length</th>\n",
       "      <th>(1) 2-Way</th>\n",
       "      <th>(2) 3-Way</th>\n",
       "      <th>(3) 3-Insert</th>\n",
       "      <th>(4) K-Way</th>\n",
       "    </tr>\n",
       "  </thead>\n",
       "  <tbody>\n",
       "    <tr>\n",
       "      <th>0</th>\n",
       "      <td>100</td>\n",
       "      <td>0.072503</td>\n",
       "      <td>0.406575</td>\n",
       "      <td>0.414753</td>\n",
       "      <td>0.089931</td>\n",
       "    </tr>\n",
       "    <tr>\n",
       "      <th>9</th>\n",
       "      <td>1000</td>\n",
       "      <td>0.055707</td>\n",
       "      <td>2.220130</td>\n",
       "      <td>2.213495</td>\n",
       "      <td>0.814726</td>\n",
       "    </tr>\n",
       "    <tr>\n",
       "      <th>98</th>\n",
       "      <td>9900</td>\n",
       "      <td>0.058299</td>\n",
       "      <td>24.750702</td>\n",
       "      <td>24.784399</td>\n",
       "      <td>9.935895</td>\n",
       "    </tr>\n",
       "  </tbody>\n",
       "</table>\n",
       "</div>"
      ],
      "text/plain": [
       "    (0) Array Length  (1) 2-Way  (2) 3-Way  (3) 3-Insert  (4) K-Way\n",
       "0                100   0.072503   0.406575      0.414753   0.089931\n",
       "9               1000   0.055707   2.220130      2.213495   0.814726\n",
       "98              9900   0.058299  24.750702     24.784399   9.935895"
      ]
     },
     "execution_count": 83,
     "metadata": {
      "tags": []
     },
     "output_type": "execute_result"
    }
   ],
   "source": [
    "#print dataframe at array length 100, 1000 and 9900\n",
    "df.iloc[[0,9,98], :]"
   ]
  },
  {
   "cell_type": "code",
   "execution_count": 84,
   "metadata": {
    "id": "SQVzX4mnHmKS",
    "colab_type": "code",
    "colab": {
     "autoexec": {
      "startup": false,
      "wait_interval": 0.0
     },
     "output_extras": [
      {
       "item_id": 1.0
      },
      {
       "item_id": 2.0
      }
     ],
     "base_uri": "https://localhost:8080/",
     "height": 311.0
    },
    "outputId": "cc38cc9f-1cb3-401c-b7b2-85d8c48f070c",
    "executionInfo": {
     "status": "ok",
     "timestamp": 1.517159161136E12,
     "user_tz": -330.0,
     "elapsed": 1002.0,
     "user": {
      "displayName": "Anna Pauxberger",
      "photoUrl": "//lh4.googleusercontent.com/-ZvYlZ4tP3fo/AAAAAAAAAAI/AAAAAAAAAh4/K5Q9dwc3S6s/s50-c-k-no/photo.jpg",
      "userId": "116193959820107973415"
     }
    }
   },
   "outputs": [
    {
     "data": {
      "text/plain": [
       "Text(0.5,1,u'Runtimes Overview')"
      ]
     },
     "execution_count": 84,
     "metadata": {
      "tags": []
     },
     "output_type": "execute_result"
    },
    {
     "data": {
      "image/png": "[encoded data removed]",
      "text/plain": [
       "<matplotlib.figure.Figure at 0x7fdf95830110>"
      ]
     },
     "metadata": {
      "tags": []
     },
     "output_type": "display_data"
    }
   ],
   "source": [
    "#plot data\n",
    "plt.plot('(0) Array Length', '(1) 2-Way', data=df, marker = '', color='b', linewidth=1)\n",
    "plt.plot('(0) Array Length', '(2) 3-Way', data=df, marker = '', color='g', linewidth=1)\n",
    "plt.plot('(0) Array Length', '(3) 3-Insert', data=df, marker = '', color='r', linewidth=1)\n",
    "plt.plot('(0) Array Length', '(4) K-Way', data=df, marker = '', color='olive', linewidth=1)\n",
    "plt.legend()\n",
    "plt.ylabel('Runtimes (milliseconds)')\n",
    "plt.xlabel('Array Lengths')\n",
    "plt.title('Runtimes Overview')\n",
    "\n"
   ]
  }
 ],
 "metadata": {
  "colab": {
   "name": "CS110 Assignment 1.ipynb",
   "version": "0.3.2",
   "views": {},
   "default_view": {},
   "provenance": []
  },
  "kernelspec": {
   "name": "python2",
   "display_name": "Python 2"
  }
 },
 "nbformat": 4,
 "nbformat_minor": 0
}
