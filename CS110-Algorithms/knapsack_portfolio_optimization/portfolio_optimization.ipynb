{
 "cells": [
  {
   "cell_type": "markdown",
   "metadata": {},
   "source": [
    "# Final Project\n",
    "\n",
    "Anna Pauxberger\n",
    "\n",
    "CS110 Final Project\n",
    "\n",
    "20 April 2018 \n",
    "\n",
    "\n",
    "## 1. Application: portfolio optimization\n",
    "\n",
    "**Finding stock combinations with budget constraints:** \n",
    "- First, I **scraped data** of the stocks' prices and earnings per share from yahoo finance. No easily available option offers to give data on stocks other than price, but for solving the optimization with the knapsack solution, I had to find a parameter that measures the value of the stock - earnings per share (eps). \n",
    "- The data is **stored in heaps**, which allows to efficiently get the minimum/ maximum value. By storing the stock data as a dictionary in the heap, I create a list of a certain number of best performing stocks according to eps, and easily have their stock price and name available. \n",
    "- I then run my set of best performing stocks through the **knapsack problem** with prices as weights and eps as values. By backtracking the knapsack solution, I am able to find which stocks I should fill my portfolio with, to maximize value given my budget constraints. \n",
    "\n",
    "**Why break it down into heap and knapsack?** Even though my budget is limited, I don't want the cheapest stocks that have low or zero eps. The heap ensures that only the best stocks are taken into account, and the knapsack solution takes care of fitting into my budget.\n",
    "\n",
    "**Why a heap data structure?** Heap data structures are efficient ways of storing data, keeping track of minimum (maximum) variable and updating the tree. Red-Black-Trees would be optimal if we wanted to keep the stocks in order. For example, if we wanted to know the stocks with smallest and largest value, or searching for the stocks by a certain value could be done in O(log n) time. However, we are only interested in the smallest value. The heap property that holds is such that for all nodes i (excluding the rood), the parent has to be smaller than its children. \n",
    "While hash tables would provide retrieval in constant time, they do not provide a sorting option and can thus not be considered.\n",
    "\n",
    "**Why a 0-1-knapsack problem?** The dynamic programming 0-1 knapsack solution is efficient and optimal. There is a memory trade-off to the recursive solution, but outperforms the recursive solution with regards to time complexity asymptotically. The greedy knapsack solution is not applicable here, as the items are integers and cannot be broken down infinitely.\n",
    "\n",
    "**What about complexity?**\n",
    "- A heap takes O(n) to build, and O(lg n) to heapify. Therefore the initial creation of the heap takes O(n lg n).  \n",
    "- Following heapify() procedures after heappop()ing the root element take only O(lg n).\n",
    "- The knapsack problem performs at O(nw), with n number of items and w distinct weights\n",
    "\n",
    "With n=inquired_stocks, m=best_stocks, w=distinct_weights:\n",
    "- inquiring stocks: O(n)\n",
    "- building a heap: O(n lg n)\n",
    "- extracting m minimums: O(m)\n",
    "- creating knapsack table: O(mw)\n",
    "- finding knapsack combinations: O(m+w)\n",
    "\n",
    "O(n lg n) and O(mw) dominate the other complexities. Which of them determines the overall complexity depends on values for n and m, though I would argue that O(mw) will dominate, as long as n is not substantially larger than m. (Looking at the empirical performance of building heaps and finding the knapsack supports this intuition, as the former takes much shorter than the latter.)\n",
    "\n",
    "**What are limitations?** Stocks have to be indicated and downloaded externally to the application (unfortunately, the yahoo python package is down). Only one share per stock can be added to the portfolio. Share prices are taken as integers instead of floats in order to work with the knapsack problem. Once yahoo finance is online again, heappush and heapdelete could be used to continuously update the heap based on a choice of stocks.\n",
    "\n",
    "\n",
    "HCs and LOs:\n",
    "- \\#optimization: I apply the 0-1 knapsack problem to optimize a portfolio based on its eps value. The solution itself is optimized by applying dynamic programming to lower complexity.\n",
    "- \\#searchtrees: I apply a heap structure to store and keep in order stock prices (or eps). "
   ]
  },
  {
   "cell_type": "code",
   "execution_count": 1,
   "metadata": {
    "collapsed": false
   },
   "outputs": [],
   "source": [
    "import json\n",
    "import math\n",
    "import time as time"
   ]
  },
  {
   "cell_type": "markdown",
   "metadata": {},
   "source": [
    "# Data pre-processing"
   ]
  },
  {
   "cell_type": "code",
   "execution_count": 2,
   "metadata": {
    "collapsed": false
   },
   "outputs": [
    {
     "name": "stdout",
     "output_type": "stream",
     "text": [
      "stocks:['aapl', 'goog', 'nflx', 'ibm', 'fb', 'twtr', 'tsla', 'msft', 'baba', 'ge']\n",
      "prices:[174.95, 1069.4, 332.88, 149.19, 166.2, 31.37, 291.08, 96.44, 183.26, 13.67]\n",
      "eps:[9.7, 17.996, 1.25, 6.135, 5.39, -0.15, -11.833, 1.23, 4.09, -0.719]\n"
     ]
    }
   ],
   "source": [
    "# https://www.scrapehero.com/scrape-yahoo-finance-stock-market-data/\n",
    "\n",
    "# yahoo_finance.py  -> scrape data from yahoo finance\n",
    "# tickers.json      -> scraped stocks (aapl,goog,nflx,ibm,fb,twtr,tsla,msft,baba,ge)\n",
    "\n",
    "with open('tickers.json', 'r') as f:\n",
    "    tickers_dict = json.load(f)\n",
    "\n",
    "stock_info = []\n",
    "for ticker in tickers_dict:\n",
    "    stock_info.append([ticker['ticker'], ticker['Open'], ticker['EPS (TTM)']])\n",
    "\n",
    "for stock in stock_info:\n",
    "    oldprice = stock[1]\n",
    "    newprice = oldprice.replace(\",\", \"\")\n",
    "    price = float(newprice)\n",
    "    stock[1] = price\n",
    "    \n",
    "# Create dictionaries for stocks\n",
    "names, price, eps = [], [], []\n",
    "for i in range(len(stock_info)):\n",
    "    names.append(stock_info[i][0])\n",
    "    price.append(stock_info[i][1])\n",
    "    eps.append(stock_info[i][2])\n",
    "print(f'stocks:{names}')\n",
    "print(f'prices:{price}')\n",
    "print(f'eps:{eps}')\n",
    "\n",
    "def create_dictionary(keys, values1, values2):\n",
    "    dictionary = {}\n",
    "    for i in range(len(keys)):\n",
    "        dictionary[keys[i]] = (values1[i], values2[i])\n",
    "    return dictionary\n",
    "        \n",
    "name_dict = create_dictionary(names, price, eps)\n",
    "price_dict = create_dictionary(price, names, eps)\n",
    "eps_dict = create_dictionary(eps, price, names)"
   ]
  },
  {
   "cell_type": "markdown",
   "metadata": {},
   "source": [
    "# Storing in a heap"
   ]
  },
  {
   "cell_type": "code",
   "execution_count": 3,
   "metadata": {
    "collapsed": false
   },
   "outputs": [],
   "source": [
    "# https://www.geeksforgeeks.org/heap-sort/ \n",
    "def heapify_1(arr, n, i):\n",
    "    # n = size of heap, rooted at index i\n",
    "    largest = i  # Initialize largest as root\n",
    "    l = 2 * i + 1     # left = 2*i + 1\n",
    "    r = 2 * i + 2     # right = 2*i + 2\n",
    " \n",
    "    # See if left child of root exists and is\n",
    "    # greater than root\n",
    "    if l < n and arr[i] < arr[l]:\n",
    "        largest = l\n",
    " \n",
    "    # See if right child of root exists and is\n",
    "    # greater than root\n",
    "    if r < n and arr[largest] < arr[r]:\n",
    "        largest = r\n",
    " \n",
    "    # Change root, if needed\n",
    "    if largest != i:\n",
    "        arr[i],arr[largest] = arr[largest],arr[i]  # swap\n",
    " \n",
    "        # Heapify the root.\n",
    "        heapify_1(arr, n, largest)\n",
    "\n",
    "def heapSort(arr):\n",
    "    n = len(arr)\n",
    " \n",
    "    # Build a maxheap.\n",
    "    for i in range(n, -1, -1):\n",
    "        heapify_1(arr, n, i)\n",
    " \n",
    "    # One by one extract elements\n",
    "    for i in range(n-1, 0, -1):\n",
    "        arr[i], arr[0] = arr[0], arr[i]   # swap\n",
    "        heapify_1(arr, i, 0)\n",
    "    return arr\n",
    "\n",
    "\n",
    "def build_max_heap(a):\n",
    "    heapsize = len(a)\n",
    "    for i in range(heapsize/2, 1):\n",
    "        heapify(a)\n",
    "\n",
    "def heappush(hp, a):\n",
    "    key = len(hp)\n",
    "    hp.append(a)\n",
    "    while key > 0:\n",
    "        parent = (key - 1) // 2\n",
    "        if hp[parent] <= hp[key]: \n",
    "            break\n",
    "        hp[key], hp[parent] = hp[parent], hp[key]\n",
    "        key = parent  \n",
    "    \n",
    "def heappop(hp):\n",
    "    first = hp[0]\n",
    "    last = hp.pop()\n",
    "    s = len(hp)\n",
    "    if s == 0: \n",
    "        return first\n",
    "    hp[0] = last\n",
    "    key = 0\n",
    "    while True:\n",
    "        kid1 = 2 * key + 1\n",
    "        if kid1 >= s: \n",
    "            return first\n",
    "        kid2 = kid1 + 1\n",
    "        if kid2 < s and hp[kid2] < hp[kid1]:\n",
    "            kid = kid2\n",
    "        else:\n",
    "            kid = kid1\n",
    "        if hp[key] <= hp[kid]: \n",
    "            return first\n",
    "        hp[kid], hp[key] = hp[key], hp[kid]\n",
    "        key = kid\n",
    "\n",
    "def heapify(hp):\n",
    "    s=len(hp)\n",
    "    for i in range((s//2)-1,-1,-1):\n",
    "        root = hp[i]             \n",
    "        kid = 2*i+1\n",
    "        while kid < s:\n",
    "            if kid < s-1 and hp[kid] > hp[kid+1]:\n",
    "                kid = kid + 1\n",
    "            if root <= hp[kid]:     \n",
    "                break\n",
    "            hp[(kid-1)//2] = hp[kid]   \n",
    "            kid = 2*kid+1\n",
    "        hp[(kid-1)//2] = root      \n",
    "    return hp\n",
    "\n",
    "def heapdelete(hp, a):\n",
    "    a[0] = -math.inf\n",
    "    heapify(hp)\n",
    "    heappop(hp)"
   ]
  },
  {
   "cell_type": "markdown",
   "metadata": {},
   "source": [
    "# Optimizing Knapsack"
   ]
  },
  {
   "cell_type": "code",
   "execution_count": 4,
   "metadata": {
    "collapsed": false
   },
   "outputs": [
    {
     "name": "stdout",
     "output_type": "stream",
     "text": [
      "max value: 220\n",
      "optimal combination: [3, 2]\n"
     ]
    },
    {
     "data": {
      "text/plain": [
       "(220, [3, 2])"
      ]
     },
     "execution_count": 4,
     "metadata": {},
     "output_type": "execute_result"
    }
   ],
   "source": [
    "def knapsack(W, wt, val, n):\n",
    "    K = [[0 for x in range(W+1)] for x in range(n+1)]\n",
    " \n",
    "    # Build table K[][] in bottom up manner\n",
    "    for i in range(n+1):\n",
    "        for w in range(W+1):\n",
    "            if i==0 or w==0:\n",
    "                K[i][w] = 0\n",
    "            elif wt[i-1] <= w:\n",
    "                K[i][w] = max(val[i-1] + K[i-1][w-wt[i-1]],  K[i-1][w])\n",
    "            else:\n",
    "                K[i][w] = K[i-1][w]\n",
    " \n",
    "    return K\n",
    " \n",
    "# Driver program to test above function\n",
    "val = [60, 100, 120]  #values\n",
    "wt = [10, 20, 30]     #weights\n",
    "W = 50                #capacity\n",
    "n = len(val)          #number of items\n",
    "testsack = knapsack(W, wt, val, n)\n",
    "\n",
    "# http://cse.unl.edu/~goddard/Courses/CSCE310J/Lectures/Lecture8-DynamicProgramming.pdf\n",
    "\n",
    "def knapsack_solution(K,W,val,wt,n):\n",
    "    knapsack = []\n",
    "    i=n\n",
    "    k=W\n",
    "    \n",
    "    while i > 0 and k > 0:\n",
    "        if K[i][k] != K[i-1][k]:\n",
    "            knapsack.append(i) # mark ith item as in the knapsack\n",
    "            i = i-1         \n",
    "            k = k-wt[i]\n",
    "        else:\n",
    "            i = i-1         # assuming ith item is not in the knapsack\n",
    "#     return knapsack\n",
    "    print(f'max value: {K[n][W]}')\n",
    "    print(f'optimal combination: {knapsack}')\n",
    "    return (K[n][W], knapsack)\n",
    "\n",
    "knapsack_solution(testsack,50,val,wt,len(val))"
   ]
  },
  {
   "cell_type": "code",
   "execution_count": 5,
   "metadata": {
    "collapsed": false
   },
   "outputs": [
    {
     "name": "stdout",
     "output_type": "stream",
     "text": [
      "32\n",
      "max value: 32\n",
      "optimal combination: [4, 2, 1]\n"
     ]
    },
    {
     "data": {
      "text/plain": [
       "(32, [4, 2, 1])"
      ]
     },
     "execution_count": 5,
     "metadata": {},
     "output_type": "execute_result"
    }
   ],
   "source": [
    "#Example \n",
    "\n",
    "val = [9.7, 17.996, 1.25, 6.135]  #values\n",
    "wt = [174.95, 1069.4, 332.88, 149.19]     #weights\n",
    "\n",
    "#in order to work with knapsack 01, they have to be integers\n",
    "val=[int(i) for i in val] \n",
    "wt=[int(i) for i in wt]\n",
    "\n",
    "W = 1500                #capacity\n",
    "n = len(val)          #number of items\n",
    "\n",
    "testsack = knapsack(W, wt, val, n)\n",
    "print(testsack[n][W])\n",
    "\n",
    "knapsack_solution(testsack,W,val,wt,len(val))"
   ]
  },
  {
   "cell_type": "markdown",
   "metadata": {},
   "source": [
    "# Combining heap and knapsack"
   ]
  },
  {
   "cell_type": "code",
   "execution_count": 6,
   "metadata": {
    "collapsed": false,
    "scrolled": true
   },
   "outputs": [
    {
     "name": "stdout",
     "output_type": "stream",
     "text": [
      "['goog', 'aapl', 'ibm', 'fb', 'baba']\n",
      "[17, 9, 6, 5, 4]\n",
      "max value: 32\n",
      "optimal combination: [3, 2, 1]\n",
      "\n",
      "Optimal portfolio:\n",
      "1 share of ibm at eps 6\n",
      "1 share of aapl at eps 9\n",
      "1 share of goog at eps 17\n"
     ]
    }
   ],
   "source": [
    "start_time = time.time()\n",
    "# take the 5 items from min heap that show highest eps\n",
    "eps_dict = create_dictionary(eps, price, names)\n",
    "eps_heap_data = [[-key, value] for key, value in eps_dict.items()]\n",
    "eps_heap = heapSort(eps_heap_data)\n",
    "\n",
    "best_stock_eps = []\n",
    "for i in range(5):\n",
    "    best_stock_eps.append(heappop(eps_heap))\n",
    "    heapify(eps_heap)\n",
    "\n",
    "# and run it through the knapsack based on constraints\n",
    "middle_time = time.time()\n",
    "weights = [stock[1][0] for stock in best_stock_eps] # already ordered by smallest value\n",
    "values = [stock[0] for stock in best_stock_eps]\n",
    "names = [stock[1][1] for stock in best_stock_eps]\n",
    "\n",
    "portfolio_size = 1500\n",
    "weights = [int(i) for i in weights]\n",
    "values = [abs(int(i)) for i in values] #return to be positive\n",
    "n = len(values)\n",
    "print(names)\n",
    "print(values)\n",
    "\n",
    "portfolio_table = knapsack(portfolio_size, weights, values, n)\n",
    "portfolio_optimal = knapsack_solution(portfolio_table, portfolio_size, weights, values, n)\n",
    "end_time = time.time()\n",
    "\n",
    "print('')\n",
    "print('Optimal portfolio:')\n",
    "for name in portfolio_optimal[1]:\n",
    "    print(f'1 share of {names[name-1]} at eps {values[name-1]}')"
   ]
  },
  {
   "cell_type": "code",
   "execution_count": 7,
   "metadata": {
    "collapsed": false
   },
   "outputs": [
    {
     "name": "stdout",
     "output_type": "stream",
     "text": [
      "Building the heap: 0.0002598762512207031\n",
      "Optimizing knapsack: 0.007140159606933594\n"
     ]
    }
   ],
   "source": [
    "print(f'Building the heap: {middle_time - start_time}')\n",
    "print(f'Optimizing knapsack: {end_time - middle_time}')"
   ]
  }
 ],
 "metadata": {
  "kernelspec": {
   "display_name": "Python [py36]",
   "language": "python",
   "name": "Python [py36]"
  },
  "language_info": {
   "codemirror_mode": {
    "name": "ipython",
    "version": 3
   },
   "file_extension": ".py",
   "mimetype": "text/x-python",
   "name": "python",
   "nbconvert_exporter": "python",
   "pygments_lexer": "ipython3",
   "version": "3.6.4"
  }
 },
 "nbformat": 4,
 "nbformat_minor": 0
}
