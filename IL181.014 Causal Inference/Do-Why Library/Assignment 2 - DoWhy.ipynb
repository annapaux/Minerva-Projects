{
 "cells": [
  {
   "cell_type": "markdown",
   "metadata": {},
   "source": [
    "# Assignment 2 - DoWhy"
   ]
  },
  {
   "cell_type": "code",
   "execution_count": 97,
   "metadata": {},
   "outputs": [],
   "source": [
    "import numpy as np\n",
    "import pandas as pd\n",
    "import matplotlib.pyplot as plt\n",
    "%matplotlib inline\n",
    "import dowhy\n",
    "from dowhy.do_why import CausalModel\n",
    "from IPython.display import Image, display"
   ]
  },
  {
   "cell_type": "markdown",
   "metadata": {},
   "source": [
    "# Data exploration"
   ]
  },
  {
   "cell_type": "code",
   "execution_count": 17,
   "metadata": {
    "scrolled": false
   },
   "outputs": [
    {
     "data": {
      "text/html": [
       "<div>\n",
       "<style scoped>\n",
       "    .dataframe tbody tr th:only-of-type {\n",
       "        vertical-align: middle;\n",
       "    }\n",
       "\n",
       "    .dataframe tbody tr th {\n",
       "        vertical-align: top;\n",
       "    }\n",
       "\n",
       "    .dataframe thead th {\n",
       "        text-align: right;\n",
       "    }\n",
       "</style>\n",
       "<table border=\"1\" class=\"dataframe\">\n",
       "  <thead>\n",
       "    <tr style=\"text-align: right;\">\n",
       "      <th></th>\n",
       "      <th>0</th>\n",
       "    </tr>\n",
       "  </thead>\n",
       "  <tbody>\n",
       "    <tr>\n",
       "      <th>dem_senate_maj</th>\n",
       "      <td>democratic senate majority</td>\n",
       "    </tr>\n",
       "    <tr>\n",
       "      <th>hosp_count</th>\n",
       "      <td>US Hospitalizations associated w/ Primary Indi...</td>\n",
       "    </tr>\n",
       "    <tr>\n",
       "      <th>incidence_avg</th>\n",
       "      <td>Incidence of primary indication</td>\n",
       "    </tr>\n",
       "    <tr>\n",
       "      <th>hosp_len</th>\n",
       "      <td>average length of hospitalizations (days)</td>\n",
       "    </tr>\n",
       "    <tr>\n",
       "      <th>lethal</th>\n",
       "      <td>Primary Indication is Lethal</td>\n",
       "    </tr>\n",
       "    <tr>\n",
       "      <th>death_rate_avg</th>\n",
       "      <td>Death Rate, Primary Indication (per 1000)</td>\n",
       "    </tr>\n",
       "    <tr>\n",
       "      <th>hosp_on_indicidence</th>\n",
       "      <td>Millions of Hospitalizations assc w/ Indication</td>\n",
       "    </tr>\n",
       "    <tr>\n",
       "      <th>female_target</th>\n",
       "      <td>Disease Mainly Affects Women [0, 1]</td>\n",
       "    </tr>\n",
       "    <tr>\n",
       "      <th>male_target</th>\n",
       "      <td>Disease Mainly Affects Men [0, 1]</td>\n",
       "    </tr>\n",
       "    <tr>\n",
       "      <th>child_target</th>\n",
       "      <td>Disease Mainly Affects Children [0, 1]</td>\n",
       "    </tr>\n",
       "    <tr>\n",
       "      <th>acute_cond_on_incidence</th>\n",
       "      <td>Primary Indication is Acute Condition [0, 1]</td>\n",
       "    </tr>\n",
       "    <tr>\n",
       "      <th>orphan_drug</th>\n",
       "      <td>Orphan Drug [0, 1]</td>\n",
       "    </tr>\n",
       "    <tr>\n",
       "      <th>nat_reg_groups</th>\n",
       "      <td>Number of National and Regional Groups represe...</td>\n",
       "    </tr>\n",
       "    <tr>\n",
       "      <th>cong_hearing_days</th>\n",
       "      <td>Days of Cong Hrgs on Disease, 4-Year MA</td>\n",
       "    </tr>\n",
       "    <tr>\n",
       "      <th>order_disease_mkt</th>\n",
       "      <td>Order of Disease Market Entry for Drug i</td>\n",
       "    </tr>\n",
       "    <tr>\n",
       "      <th>tv_news_nightly_avg</th>\n",
       "      <td>Nightly TV News Disease Stories, 4-Year MA</td>\n",
       "    </tr>\n",
       "    <tr>\n",
       "      <th>wash_post_stories</th>\n",
       "      <td>Washington Post Disease Stories, 4-Year MA</td>\n",
       "    </tr>\n",
       "    <tr>\n",
       "      <th>cder_staff</th>\n",
       "      <td>CDER staff</td>\n",
       "    </tr>\n",
       "    <tr>\n",
       "      <th>approval_days</th>\n",
       "      <td>approval days</td>\n",
       "    </tr>\n",
       "    <tr>\n",
       "      <th>approved</th>\n",
       "      <td>approved [0, 1]</td>\n",
       "    </tr>\n",
       "  </tbody>\n",
       "</table>\n",
       "</div>"
      ],
      "text/plain": [
       "                                                                         0\n",
       "dem_senate_maj                                  democratic senate majority\n",
       "hosp_count               US Hospitalizations associated w/ Primary Indi...\n",
       "incidence_avg                              Incidence of primary indication\n",
       "hosp_len                         average length of hospitalizations (days)\n",
       "lethal                                        Primary Indication is Lethal\n",
       "death_rate_avg                   Death Rate, Primary Indication (per 1000)\n",
       "hosp_on_indicidence        Millions of Hospitalizations assc w/ Indication\n",
       "female_target                          Disease Mainly Affects Women [0, 1]\n",
       "male_target                              Disease Mainly Affects Men [0, 1]\n",
       "child_target                        Disease Mainly Affects Children [0, 1]\n",
       "acute_cond_on_incidence       Primary Indication is Acute Condition [0, 1]\n",
       "orphan_drug                                             Orphan Drug [0, 1]\n",
       "nat_reg_groups           Number of National and Regional Groups represe...\n",
       "cong_hearing_days                  Days of Cong Hrgs on Disease, 4-Year MA\n",
       "order_disease_mkt                 Order of Disease Market Entry for Drug i\n",
       "tv_news_nightly_avg             Nightly TV News Disease Stories, 4-Year MA\n",
       "wash_post_stories               Washington Post Disease Stories, 4-Year MA\n",
       "cder_staff                                                      CDER staff\n",
       "approval_days                                                approval days\n",
       "approved                                                   approved [0, 1]"
      ]
     },
     "execution_count": 17,
     "metadata": {},
     "output_type": "execute_result"
    }
   ],
   "source": [
    "variable_dictionary = {\n",
    "# Oversight\n",
    "'dem_senate_maj': 'democratic senate majority', \n",
    "\n",
    "# clinical/ epidemiological variables\n",
    "'hosp_count': 'US Hospitalizations associated w/ Primary Indication Disease', \n",
    "'incidence_avg': 'Incidence of primary indication',\n",
    "'hosp_len': 'average length of hospitalizations (days)',\n",
    "'lethal': 'Primary Indication is Lethal', \n",
    "'death_rate_avg': 'Death Rate, Primary Indication (per 1000)',\n",
    "'hosp_on_indicidence': 'Millions of Hospitalizations assc w/ Indication', \n",
    "'female_target': 'Disease Mainly Affects Women [0, 1]', \n",
    "'male_target': 'Disease Mainly Affects Men [0, 1]', \n",
    "'child_target': 'Disease Mainly Affects Children [0, 1]', \n",
    "'acute_cond_on_incidence': 'Primary Indication is Acute Condition [0, 1]', \n",
    "'orphan_drug': 'Orphan Drug [0, 1]', \n",
    "\n",
    "# disease politics (groups and media) variables\n",
    "'nat_reg_groups': 'Number of National and Regional Groups representing Sufferers or Advocates of Indication Disease', \n",
    "'cong_hearing_days': 'Days of Cong Hrgs on Disease, 4-Year MA',\n",
    "'order_disease_mkt': 'Order of Disease Market Entry for Drug i',\n",
    "'tv_news_nightly_avg': 'Nightly TV News Disease Stories, 4-Year MA',\n",
    "'wash_post_stories': 'Washington Post Disease Stories, 4-Year MA', \n",
    "\n",
    "# FDA variable\n",
    "'cder_staff': 'CDER staff', \n",
    "\n",
    "# outcome\n",
    "'approval_days': 'approval days', \n",
    "'approved': 'approved [0, 1]'\n",
    "}\n",
    "\n",
    "df = pd.DataFrame.from_dict(variable_dictionary, orient='index')\n",
    "df"
   ]
  },
  {
   "cell_type": "code",
   "execution_count": 18,
   "metadata": {},
   "outputs": [
    {
     "data": {
      "text/html": [
       "<div>\n",
       "<style scoped>\n",
       "    .dataframe tbody tr th:only-of-type {\n",
       "        vertical-align: middle;\n",
       "    }\n",
       "\n",
       "    .dataframe tbody tr th {\n",
       "        vertical-align: top;\n",
       "    }\n",
       "\n",
       "    .dataframe thead th {\n",
       "        text-align: right;\n",
       "    }\n",
       "</style>\n",
       "<table border=\"1\" class=\"dataframe\">\n",
       "  <thead>\n",
       "    <tr style=\"text-align: right;\">\n",
       "      <th></th>\n",
       "      <th>dem_senate_maj</th>\n",
       "      <th>hosp_count</th>\n",
       "      <th>nat_reg_groups</th>\n",
       "      <th>cder_staff</th>\n",
       "      <th>incidence_avg</th>\n",
       "      <th>hosp_len</th>\n",
       "      <th>cong_hearing_days</th>\n",
       "      <th>order_disease_mkt</th>\n",
       "      <th>tv_news_nightly_avg</th>\n",
       "      <th>wash_post_stories</th>\n",
       "      <th>lethal</th>\n",
       "      <th>death_rate_avg</th>\n",
       "      <th>hosp_on_indicidence</th>\n",
       "      <th>female_target</th>\n",
       "      <th>male_target</th>\n",
       "      <th>child_target</th>\n",
       "      <th>acute_cond_on_incidence</th>\n",
       "      <th>orphan_drug</th>\n",
       "      <th>approval_days</th>\n",
       "      <th>approved</th>\n",
       "    </tr>\n",
       "  </thead>\n",
       "  <tbody>\n",
       "    <tr>\n",
       "      <th>0</th>\n",
       "      <td>0</td>\n",
       "      <td>75172</td>\n",
       "      <td>12</td>\n",
       "      <td>1043</td>\n",
       "      <td>115.68</td>\n",
       "      <td>3.00</td>\n",
       "      <td>2.0</td>\n",
       "      <td>18</td>\n",
       "      <td>0.50</td>\n",
       "      <td>51.25</td>\n",
       "      <td>1</td>\n",
       "      <td>0.0995</td>\n",
       "      <td>1</td>\n",
       "      <td>0</td>\n",
       "      <td>0</td>\n",
       "      <td>0</td>\n",
       "      <td>0</td>\n",
       "      <td>0</td>\n",
       "      <td>37.44658</td>\n",
       "      <td>1</td>\n",
       "    </tr>\n",
       "    <tr>\n",
       "      <th>1</th>\n",
       "      <td>0</td>\n",
       "      <td>0</td>\n",
       "      <td>1</td>\n",
       "      <td>1043</td>\n",
       "      <td>100.00</td>\n",
       "      <td>0.00</td>\n",
       "      <td>0.0</td>\n",
       "      <td>3</td>\n",
       "      <td>0.75</td>\n",
       "      <td>25.25</td>\n",
       "      <td>0</td>\n",
       "      <td>0.0000</td>\n",
       "      <td>0</td>\n",
       "      <td>0</td>\n",
       "      <td>0</td>\n",
       "      <td>0</td>\n",
       "      <td>0</td>\n",
       "      <td>0</td>\n",
       "      <td>84.29589</td>\n",
       "      <td>1</td>\n",
       "    </tr>\n",
       "    <tr>\n",
       "      <th>2</th>\n",
       "      <td>0</td>\n",
       "      <td>134882</td>\n",
       "      <td>9</td>\n",
       "      <td>1043</td>\n",
       "      <td>1.30</td>\n",
       "      <td>3.04</td>\n",
       "      <td>0.0</td>\n",
       "      <td>2</td>\n",
       "      <td>0.00</td>\n",
       "      <td>4.25</td>\n",
       "      <td>1</td>\n",
       "      <td>0.1500</td>\n",
       "      <td>1</td>\n",
       "      <td>0</td>\n",
       "      <td>1</td>\n",
       "      <td>0</td>\n",
       "      <td>0</td>\n",
       "      <td>0</td>\n",
       "      <td>15.38630</td>\n",
       "      <td>1</td>\n",
       "    </tr>\n",
       "    <tr>\n",
       "      <th>3</th>\n",
       "      <td>0</td>\n",
       "      <td>75172</td>\n",
       "      <td>12</td>\n",
       "      <td>1043</td>\n",
       "      <td>115.68</td>\n",
       "      <td>3.00</td>\n",
       "      <td>2.0</td>\n",
       "      <td>19</td>\n",
       "      <td>0.50</td>\n",
       "      <td>51.25</td>\n",
       "      <td>1</td>\n",
       "      <td>0.0995</td>\n",
       "      <td>1</td>\n",
       "      <td>0</td>\n",
       "      <td>0</td>\n",
       "      <td>0</td>\n",
       "      <td>0</td>\n",
       "      <td>0</td>\n",
       "      <td>46.15891</td>\n",
       "      <td>1</td>\n",
       "    </tr>\n",
       "    <tr>\n",
       "      <th>4</th>\n",
       "      <td>0</td>\n",
       "      <td>75172</td>\n",
       "      <td>12</td>\n",
       "      <td>1029</td>\n",
       "      <td>115.68</td>\n",
       "      <td>3.00</td>\n",
       "      <td>2.0</td>\n",
       "      <td>23</td>\n",
       "      <td>0.75</td>\n",
       "      <td>52.00</td>\n",
       "      <td>1</td>\n",
       "      <td>0.0995</td>\n",
       "      <td>1</td>\n",
       "      <td>0</td>\n",
       "      <td>0</td>\n",
       "      <td>0</td>\n",
       "      <td>0</td>\n",
       "      <td>0</td>\n",
       "      <td>50.86028</td>\n",
       "      <td>1</td>\n",
       "    </tr>\n",
       "  </tbody>\n",
       "</table>\n",
       "</div>"
      ],
      "text/plain": [
       "   dem_senate_maj  hosp_count  nat_reg_groups  cder_staff  incidence_avg  \\\n",
       "0               0       75172              12        1043         115.68   \n",
       "1               0           0               1        1043         100.00   \n",
       "2               0      134882               9        1043           1.30   \n",
       "3               0       75172              12        1043         115.68   \n",
       "4               0       75172              12        1029         115.68   \n",
       "\n",
       "   hosp_len  cong_hearing_days  order_disease_mkt  tv_news_nightly_avg  \\\n",
       "0      3.00                2.0                 18                 0.50   \n",
       "1      0.00                0.0                  3                 0.75   \n",
       "2      3.04                0.0                  2                 0.00   \n",
       "3      3.00                2.0                 19                 0.50   \n",
       "4      3.00                2.0                 23                 0.75   \n",
       "\n",
       "   wash_post_stories  lethal  death_rate_avg  hosp_on_indicidence  \\\n",
       "0              51.25       1          0.0995                    1   \n",
       "1              25.25       0          0.0000                    0   \n",
       "2               4.25       1          0.1500                    1   \n",
       "3              51.25       1          0.0995                    1   \n",
       "4              52.00       1          0.0995                    1   \n",
       "\n",
       "   female_target  male_target  child_target  acute_cond_on_incidence  \\\n",
       "0              0            0             0                        0   \n",
       "1              0            0             0                        0   \n",
       "2              0            1             0                        0   \n",
       "3              0            0             0                        0   \n",
       "4              0            0             0                        0   \n",
       "\n",
       "   orphan_drug  approval_days  approved  \n",
       "0            0       37.44658         1  \n",
       "1            0       84.29589         1  \n",
       "2            0       15.38630         1  \n",
       "3            0       46.15891         1  \n",
       "4            0       50.86028         1  "
      ]
     },
     "execution_count": 18,
     "metadata": {},
     "output_type": "execute_result"
    }
   ],
   "source": [
    "data = pd.read_csv('FDA-Carpenter_clean.csv')\n",
    "data.head()"
   ]
  },
  {
   "cell_type": "markdown",
   "metadata": {},
   "source": [
    "# 1 - Model "
   ]
  },
  {
   "cell_type": "markdown",
   "metadata": {},
   "source": [
    "## 1a - Complete graph"
   ]
  },
  {
   "cell_type": "code",
   "execution_count": 184,
   "metadata": {},
   "outputs": [
    {
     "name": "stderr",
     "output_type": "stream",
     "text": [
      "INFO:dowhy.do_why:Model to find the causal effect of treatment ['dem_senate_maj'] on outcome ['approval_days']\n"
     ]
    },
    {
     "data": {
      "image/png": "[encoded data removed]",
      "text/plain": [
       "<IPython.core.display.Image object>"
      ]
     },
     "metadata": {},
     "output_type": "display_data"
    }
   ],
   "source": [
    "model_a = CausalModel(\n",
    "        data = data,\n",
    "        treatment='dem_senate_maj',\n",
    "        outcome='approval_days',\n",
    "        graph=\"digraph {dem_senate_maj -> approval_days;\\\n",
    "        approval_days -> approved;\\\n",
    "        \\\n",
    "        hosp_count -> clinical_factors;\\\n",
    "        incidence_avg -> clinical_factors;\\\n",
    "        hosp_len -> clinical_factors;\\\n",
    "        lethal -> clinical_factors;\\\n",
    "        death_rate_avg -> clinical_factors;\\\n",
    "        hosp_on_incidence -> clinical_factors;\\\n",
    "        female_target -> clinical_factors;\\\n",
    "        male_target -> clinical_factors;\\\n",
    "        child_target -> clinical_factors;\\\n",
    "        acute_cond_on_incidence -> clinical_factors;\\\n",
    "        orphan_drug -> clinical_factors;\\\n",
    "        \\\n",
    "        clinical_factors -> approval_days;\\\n",
    "        \\\n",
    "        nat_reg_groups -> disease_politics;\\\n",
    "        cong_hearing_days -> disease_politics;\\\n",
    "        order_disease_mkt -> disease_politics;\\\n",
    "        tv_news_nightly_avg -> disease_politics;\\\n",
    "        wash_post_stories -> disease_politics;\\\n",
    "        \\\n",
    "        disease_politics -> approval_days;\\\n",
    "        \\\n",
    "        cder_staff -> approval_days;\\\n",
    "        \\\n",
    "        public_sentiment -> dem_senate_maj;\\\n",
    "        public_sentiment -> disease_politics;\\\n",
    "        public_sentiment -> cder_staff}\"\n",
    "                )\n",
    "model_a.view_model()\n",
    "\n",
    "from IPython.display import Image, display\n",
    "display(Image(filename=\"causal_model.png\"))"
   ]
  },
  {
   "cell_type": "markdown",
   "metadata": {},
   "source": [
    "## 1b - Simplified model"
   ]
  },
  {
   "cell_type": "code",
   "execution_count": 185,
   "metadata": {},
   "outputs": [
    {
     "name": "stderr",
     "output_type": "stream",
     "text": [
      "INFO:dowhy.do_why:Model to find the causal effect of treatment ['dem_senate_maj'] on outcome ['approval_days']\n"
     ]
    },
    {
     "data": {
      "image/png": "[encoded data removed]",
      "text/plain": [
       "<IPython.core.display.Image object>"
      ]
     },
     "metadata": {},
     "output_type": "display_data"
    }
   ],
   "source": [
    "model_b = CausalModel(\n",
    "        data = data,\n",
    "        treatment='dem_senate_maj',\n",
    "        outcome='approval_days',\n",
    "        graph=\"digraph {dem_senate_maj -> approval_days;\\\n",
    "        \\\n",
    "        child_target -> approval_days;\\\n",
    "        child_target -> dem_senate_maj;\\\n",
    "        \\\n",
    "        public_sentiment -> dem_senate_maj;\\\n",
    "        public_sentiment -> child_target}\"\n",
    "                )\n",
    "model_b.view_model()\n",
    "\n",
    "from IPython.display import Image, display\n",
    "display(Image(filename=\"causal_model.png\"))"
   ]
  },
  {
   "cell_type": "markdown",
   "metadata": {},
   "source": [
    "# 2 - Identify"
   ]
  },
  {
   "cell_type": "markdown",
   "metadata": {},
   "source": [
    "## 2a - Complete model"
   ]
  },
  {
   "cell_type": "code",
   "execution_count": 187,
   "metadata": {},
   "outputs": [
    {
     "name": "stderr",
     "output_type": "stream",
     "text": [
      "INFO:dowhy.causal_identifier:Common causes of treatment and outcome:['public_sentiment']\n",
      "WARNING:dowhy.causal_identifier:There are unobserved common causes. Causal effect cannot be identified.\n"
     ]
    },
    {
     "name": "stdout",
     "output_type": "stream",
     "text": [
      "WARN: Do you want to continue by ignoring these unobserved confounders? [y/n] y\n"
     ]
    },
    {
     "name": "stderr",
     "output_type": "stream",
     "text": [
      "INFO:dowhy.causal_identifier:Instrumental variables for treatment and outcome:[]\n"
     ]
    },
    {
     "name": "stdout",
     "output_type": "stream",
     "text": [
      "Estimand type: ate\n",
      "### Estimand : 1\n",
      "Estimand name: backdoor\n",
      "Estimand expression:\n",
      "       d                                   \n",
      "───────────────(Expectation(approval_days))\n",
      "ddem_senate_maj                            \n",
      "Estimand assumption 1, Unconfoundedness: If U→dem_senate_maj and U→approval_days then P(approval_days|dem_senate_maj,,U) = P(approval_days|dem_senate_maj,)\n",
      "### Estimand : 2\n",
      "Estimand name: iv\n",
      "No such variable found!\n",
      "\n"
     ]
    }
   ],
   "source": [
    "# Causal estimand\n",
    "identified_estimand_a = model_a.identify_effect()\n",
    "print(identified_estimand_a)"
   ]
  },
  {
   "cell_type": "markdown",
   "metadata": {},
   "source": [
    "## 2b - Simplified model"
   ]
  },
  {
   "cell_type": "code",
   "execution_count": 188,
   "metadata": {},
   "outputs": [
    {
     "name": "stderr",
     "output_type": "stream",
     "text": [
      "INFO:dowhy.causal_identifier:Common causes of treatment and outcome:['public_sentiment', 'child_target']\n",
      "WARNING:dowhy.causal_identifier:There are unobserved common causes. Causal effect cannot be identified.\n"
     ]
    },
    {
     "name": "stdout",
     "output_type": "stream",
     "text": [
      "WARN: Do you want to continue by ignoring these unobserved confounders? [y/n] y\n"
     ]
    },
    {
     "name": "stderr",
     "output_type": "stream",
     "text": [
      "INFO:dowhy.causal_identifier:Instrumental variables for treatment and outcome:[]\n"
     ]
    },
    {
     "name": "stdout",
     "output_type": "stream",
     "text": [
      "Estimand type: ate\n",
      "### Estimand : 1\n",
      "Estimand name: backdoor\n",
      "Estimand expression:\n",
      "       d                                                \n",
      "───────────────(Expectation(approval_days|child_target))\n",
      "ddem_senate_maj                                         \n",
      "Estimand assumption 1, Unconfoundedness: If U→dem_senate_maj and U→approval_days then P(approval_days|dem_senate_maj,child_target,U) = P(approval_days|dem_senate_maj,child_target)\n",
      "### Estimand : 2\n",
      "Estimand name: iv\n",
      "No such variable found!\n",
      "\n"
     ]
    }
   ],
   "source": [
    "# Causal estimand\n",
    "identified_estimand_b = model_b.identify_effect()\n",
    "print(identified_estimand_b)"
   ]
  },
  {
   "cell_type": "markdown",
   "metadata": {},
   "source": [
    "# 1 - Estimate"
   ]
  },
  {
   "cell_type": "markdown",
   "metadata": {},
   "source": [
    "## 1a - Complete model"
   ]
  },
  {
   "cell_type": "markdown",
   "metadata": {},
   "source": [
    "### Method 1: Matching"
   ]
  },
  {
   "cell_type": "code",
   "execution_count": 189,
   "metadata": {
    "scrolled": true
   },
   "outputs": [
    {
     "name": "stderr",
     "output_type": "stream",
     "text": [
      "ERROR:dowhy.causal_estimator:No common causes/confounders present. Propensity score based methods are not applicable\n"
     ]
    },
    {
     "ename": "Exception",
     "evalue": "No common causes/confounders present. Propensity score based methods are not applicable",
     "output_type": "error",
     "traceback": [
      "\u001b[0;31m---------------------------------------------------------------------------\u001b[0m",
      "\u001b[0;31mException\u001b[0m                                 Traceback (most recent call last)",
      "\u001b[0;32m<ipython-input-189-461dfb250191>\u001b[0m in \u001b[0;36m<module>\u001b[0;34m()\u001b[0m\n\u001b[1;32m      1\u001b[0m \u001b[0;31m# Matching\u001b[0m\u001b[0;34m\u001b[0m\u001b[0;34m\u001b[0m\u001b[0;34m\u001b[0m\u001b[0m\n\u001b[1;32m      2\u001b[0m causal_estimate_match = model_a.estimate_effect(identified_estimand_a,\n\u001b[0;32m----> 3\u001b[0;31m         method_name=\"backdoor.propensity_score_matching\")\n\u001b[0m\u001b[1;32m      4\u001b[0m \u001b[0mprint\u001b[0m\u001b[0;34m(\u001b[0m\u001b[0mcausal_estimate_match\u001b[0m\u001b[0;34m)\u001b[0m\u001b[0;34m\u001b[0m\u001b[0;34m\u001b[0m\u001b[0m\n\u001b[1;32m      5\u001b[0m \u001b[0mprint\u001b[0m\u001b[0;34m(\u001b[0m\u001b[0;34m\"Causal Estimate is \"\u001b[0m \u001b[0;34m+\u001b[0m \u001b[0mstr\u001b[0m\u001b[0;34m(\u001b[0m\u001b[0mcausal_estimate_match\u001b[0m\u001b[0;34m.\u001b[0m\u001b[0mvalue\u001b[0m\u001b[0;34m)\u001b[0m\u001b[0;34m)\u001b[0m\u001b[0;34m\u001b[0m\u001b[0;34m\u001b[0m\u001b[0m\n",
      "\u001b[0;32m~/anaconda/envs/py36/lib/python3.6/site-packages/dowhy/do_why.py\u001b[0m in \u001b[0;36mestimate_effect\u001b[0;34m(self, identified_estimand, method_name, test_significance, method_params)\u001b[0m\n\u001b[1;32m    158\u001b[0m                 \u001b[0mself\u001b[0m\u001b[0;34m.\u001b[0m\u001b[0m_treatment\u001b[0m\u001b[0;34m,\u001b[0m \u001b[0mself\u001b[0m\u001b[0;34m.\u001b[0m\u001b[0m_outcome\u001b[0m\u001b[0;34m,\u001b[0m\u001b[0;34m\u001b[0m\u001b[0;34m\u001b[0m\u001b[0m\n\u001b[1;32m    159\u001b[0m                 \u001b[0mtest_significance\u001b[0m\u001b[0;34m=\u001b[0m\u001b[0mtest_significance\u001b[0m\u001b[0;34m,\u001b[0m\u001b[0;34m\u001b[0m\u001b[0;34m\u001b[0m\u001b[0m\n\u001b[0;32m--> 160\u001b[0;31m                 \u001b[0mparams\u001b[0m\u001b[0;34m=\u001b[0m\u001b[0mmethod_params\u001b[0m\u001b[0;34m\u001b[0m\u001b[0;34m\u001b[0m\u001b[0m\n\u001b[0m\u001b[1;32m    161\u001b[0m             )\n\u001b[1;32m    162\u001b[0m             \u001b[0mestimate\u001b[0m \u001b[0;34m=\u001b[0m \u001b[0mcausal_estimator\u001b[0m\u001b[0;34m.\u001b[0m\u001b[0mestimate_effect\u001b[0m\u001b[0;34m(\u001b[0m\u001b[0;34m)\u001b[0m\u001b[0;34m\u001b[0m\u001b[0;34m\u001b[0m\u001b[0m\n",
      "\u001b[0;32m~/anaconda/envs/py36/lib/python3.6/site-packages/dowhy/causal_estimators/propensity_score_matching_estimator.py\u001b[0m in \u001b[0;36m__init__\u001b[0;34m(self, *args, **kwargs)\u001b[0m\n\u001b[1;32m     21\u001b[0m             \u001b[0merror_msg\u001b[0m \u001b[0;34m=\u001b[0m\u001b[0;34m\"No common causes/confounders present. Propensity score based methods are not applicable\"\u001b[0m\u001b[0;34m\u001b[0m\u001b[0;34m\u001b[0m\u001b[0m\n\u001b[1;32m     22\u001b[0m             \u001b[0mself\u001b[0m\u001b[0;34m.\u001b[0m\u001b[0mlogger\u001b[0m\u001b[0;34m.\u001b[0m\u001b[0merror\u001b[0m\u001b[0;34m(\u001b[0m\u001b[0merror_msg\u001b[0m\u001b[0;34m)\u001b[0m\u001b[0;34m\u001b[0m\u001b[0;34m\u001b[0m\u001b[0m\n\u001b[0;32m---> 23\u001b[0;31m             \u001b[0;32mraise\u001b[0m \u001b[0mException\u001b[0m\u001b[0;34m(\u001b[0m\u001b[0merror_msg\u001b[0m\u001b[0;34m)\u001b[0m\u001b[0;34m\u001b[0m\u001b[0;34m\u001b[0m\u001b[0m\n\u001b[0m\u001b[1;32m     24\u001b[0m \u001b[0;34m\u001b[0m\u001b[0m\n\u001b[1;32m     25\u001b[0m         \u001b[0mself\u001b[0m\u001b[0;34m.\u001b[0m\u001b[0mlogger\u001b[0m\u001b[0;34m.\u001b[0m\u001b[0minfo\u001b[0m\u001b[0;34m(\u001b[0m\u001b[0;34m\"INFO: Using Propensity Score Matching Estimator\"\u001b[0m\u001b[0;34m)\u001b[0m\u001b[0;34m\u001b[0m\u001b[0;34m\u001b[0m\u001b[0m\n",
      "\u001b[0;31mException\u001b[0m: No common causes/confounders present. Propensity score based methods are not applicable"
     ]
    }
   ],
   "source": [
    "# Matching\n",
    "causal_estimate_match = model_a.estimate_effect(identified_estimand_a,\n",
    "        method_name=\"backdoor.propensity_score_matching\")\n",
    "print(causal_estimate_match)\n",
    "print(\"Causal Estimate is \" + str(causal_estimate_match.value))"
   ]
  },
  {
   "cell_type": "markdown",
   "metadata": {},
   "source": [
    "### Method 2: Regression"
   ]
  },
  {
   "cell_type": "code",
   "execution_count": 192,
   "metadata": {
    "scrolled": true
   },
   "outputs": [
    {
     "name": "stderr",
     "output_type": "stream",
     "text": [
      "INFO:dowhy.causal_estimator:INFO: Using Linear Regression Estimator\n",
      "INFO:dowhy.causal_estimator:b: approval_days~dem_senate_maj\n"
     ]
    },
    {
     "name": "stdout",
     "output_type": "stream",
     "text": [
      "*** Causal Estimate ***\n",
      "\n",
      "## Target estimand\n",
      "Estimand type: ate\n",
      "### Estimand : 1\n",
      "Estimand name: backdoor\n",
      "Estimand expression:\n",
      "       d                                   \n",
      "───────────────(Expectation(approval_days))\n",
      "ddem_senate_maj                            \n",
      "Estimand assumption 1, Unconfoundedness: If U→dem_senate_maj and U→approval_days then P(approval_days|dem_senate_maj,,U) = P(approval_days|dem_senate_maj,)\n",
      "### Estimand : 2\n",
      "Estimand name: iv\n",
      "No such variable found!\n",
      "\n",
      "## Realized estimand\n",
      "b: approval_days~dem_senate_maj\n",
      "## Estimate\n",
      "Value: -15.140523036809816\n",
      "\n",
      "## Statistical Significance\n",
      "p-value: 0.003\n",
      "\n",
      "Causal Estimate is -15.140523036809816\n"
     ]
    }
   ],
   "source": [
    "# Regression\n",
    "causal_estimate_reg = model_a.estimate_effect(identified_estimand_a,\n",
    "        method_name=\"backdoor.linear_regression\",\n",
    "        test_significance=True)\n",
    "print(causal_estimate_reg)\n",
    "print(\"Causal Estimate is \" + str(causal_estimate_reg.value))"
   ]
  },
  {
   "cell_type": "markdown",
   "metadata": {},
   "source": [
    "## 3b - Simplified model"
   ]
  },
  {
   "cell_type": "markdown",
   "metadata": {},
   "source": [
    "### Method 1: Matching"
   ]
  },
  {
   "cell_type": "code",
   "execution_count": 179,
   "metadata": {
    "scrolled": true
   },
   "outputs": [
    {
     "name": "stderr",
     "output_type": "stream",
     "text": [
      "INFO:dowhy.causal_estimator:INFO: Using Propensity Score Matching Estimator\n",
      "INFO:dowhy.causal_estimator:b: approval_days~dem_senate_maj+child_target\n"
     ]
    },
    {
     "name": "stdout",
     "output_type": "stream",
     "text": [
      "*** Causal Estimate ***\n",
      "\n",
      "## Target estimand\n",
      "Estimand type: ate\n",
      "### Estimand : 1\n",
      "Estimand name: backdoor\n",
      "Estimand expression:\n",
      "       d                                                \n",
      "───────────────(Expectation(approval_days|child_target))\n",
      "ddem_senate_maj                                         \n",
      "Estimand assumption 1, Unconfoundedness: If U→dem_senate_maj and U→approval_days then P(approval_days|dem_senate_maj,child_target,U) = P(approval_days|dem_senate_maj,child_target)\n",
      "### Estimand : 2\n",
      "Estimand name: iv\n",
      "No such variable found!\n",
      "\n",
      "## Realized estimand\n",
      "b: approval_days~dem_senate_maj+child_target\n",
      "## Estimate\n",
      "Value: -8.946301236809823\n",
      "\n",
      "Causal Estimate is -8.946301236809823\n"
     ]
    },
    {
     "name": "stderr",
     "output_type": "stream",
     "text": [
      "/Users/annapauxberger/anaconda/envs/py36/lib/python3.6/site-packages/dowhy/causal_estimators/propensity_score_matching_estimator.py:51: FutureWarning: `item` has been deprecated and will be removed in a future version\n",
      "  control_outcome = control.iloc[indices[i]][self._outcome_name].item()\n"
     ]
    }
   ],
   "source": [
    "# Matching\n",
    "causal_estimate_match = model_b.estimate_effect(identified_estimand_b,\n",
    "        method_name=\"backdoor.propensity_score_matching\")\n",
    "print(causal_estimate_match)\n",
    "print(\"Causal Estimate is \" + str(causal_estimate_match.value))"
   ]
  },
  {
   "cell_type": "markdown",
   "metadata": {},
   "source": [
    "### Method 2: Regression"
   ]
  },
  {
   "cell_type": "code",
   "execution_count": 191,
   "metadata": {},
   "outputs": [
    {
     "name": "stderr",
     "output_type": "stream",
     "text": [
      "INFO:dowhy.causal_estimator:INFO: Using Linear Regression Estimator\n",
      "INFO:dowhy.causal_estimator:b: approval_days~dem_senate_maj+child_target\n"
     ]
    },
    {
     "name": "stdout",
     "output_type": "stream",
     "text": [
      "*** Causal Estimate ***\n",
      "\n",
      "## Target estimand\n",
      "Estimand type: ate\n",
      "### Estimand : 1\n",
      "Estimand name: backdoor\n",
      "Estimand expression:\n",
      "       d                                                \n",
      "───────────────(Expectation(approval_days|child_target))\n",
      "ddem_senate_maj                                         \n",
      "Estimand assumption 1, Unconfoundedness: If U→dem_senate_maj and U→approval_days then P(approval_days|dem_senate_maj,child_target,U) = P(approval_days|dem_senate_maj,child_target)\n",
      "### Estimand : 2\n",
      "Estimand name: iv\n",
      "No such variable found!\n",
      "\n",
      "## Realized estimand\n",
      "b: approval_days~dem_senate_maj+child_target\n",
      "## Estimate\n",
      "Value: -15.189955215386018\n",
      "\n",
      "## Statistical Significance\n",
      "p-value: 0.002\n",
      "\n",
      "Causal Estimate is -15.189955215386018\n"
     ]
    }
   ],
   "source": [
    "# Regression\n",
    "causal_estimate_reg = model_b.estimate_effect(identified_estimand_b,\n",
    "        method_name=\"backdoor.linear_regression\",\n",
    "        test_significance=True)\n",
    "print(causal_estimate_reg)\n",
    "print(\"Causal Estimate is \" + str(causal_estimate_reg.value))"
   ]
  },
  {
   "cell_type": "markdown",
   "metadata": {},
   "source": [
    "## 3 - Manual approach"
   ]
  },
  {
   "cell_type": "markdown",
   "metadata": {},
   "source": [
    "### ATT via matching"
   ]
  },
  {
   "cell_type": "code",
   "execution_count": 202,
   "metadata": {},
   "outputs": [
    {
     "data": {
      "image/png": "[encoded data removed]",
      "text/latex": [
       "$\\displaystyle -17.0599720553041$"
      ],
      "text/plain": [
       "-17.0599720553041"
      ]
     },
     "execution_count": 202,
     "metadata": {},
     "output_type": "execute_result"
    }
   ],
   "source": [
    "# Match on child target and compute treatment effect\n",
    "\n",
    "data = pd.read_csv('FDA-Carpenter_clean.csv')\n",
    "simplified_ATT = data[['dem_senate_maj', 'approval_days', 'child_target']].copy()\n",
    "\n",
    "# control\n",
    "control_Zis0 = simplified_ATT[(simplified_ATT['dem_senate_maj'] == 0) \n",
    "                              & (simplified_ATT['child_target'] == 0)]\n",
    "control_Zis1 = simplified_ATT[(simplified_ATT['dem_senate_maj'] == 0) \n",
    "                              & (simplified_ATT['child_target'] == 1)]\n",
    "\n",
    "# treatment \n",
    "tmt_Zis0 = simplified_ATT[(simplified_ATT['dem_senate_maj'] == 1) \n",
    "                          & (simplified_ATT['child_target'] == 0)]\n",
    "tmt_Zis1 = simplified_ATT[(simplified_ATT['dem_senate_maj'] == 1) \n",
    "                          & (simplified_ATT['child_target'] == 1)]\n",
    "\n",
    "\n",
    "Zis0_effect = (np.mean(tmt_Zis0['approval_days']) - \n",
    "               np.mean(control_Zis0['approval_days']))\n",
    "Zis1_effect = (np.mean(tmt_Zis1['approval_days']) - \n",
    "               np.mean(control_Zis1['approval_days']))\n",
    "ATT = Zis0_effect - Zis1_effect\n",
    "ATT"
   ]
  },
  {
   "cell_type": "markdown",
   "metadata": {},
   "source": [
    "### Adjustment Formula - Manual Bayesian Analysis"
   ]
  },
  {
   "cell_type": "code",
   "execution_count": 205,
   "metadata": {},
   "outputs": [
    {
     "data": {
      "image/png": "[encoded data removed]",
      "text/latex": [
       "$\\displaystyle \\left[ \\right]$"
      ],
      "text/plain": [
       "[]"
      ]
     },
     "execution_count": 205,
     "metadata": {},
     "output_type": "execute_result"
    },
    {
     "data": {
      "image/png": "[encoded data removed]",
      "text/plain": [
       "<Figure size 432x288 with 1 Axes>"
      ]
     },
     "metadata": {
      "needs_background": "light"
     },
     "output_type": "display_data"
    }
   ],
   "source": [
    "plt.hist(data.approval_days)\n",
    "plt.title('Approval Days Histogram')\n",
    "plt.plot()"
   ]
  },
  {
   "cell_type": "code",
   "execution_count": 206,
   "metadata": {},
   "outputs": [
    {
     "data": {
      "text/html": [
       "<div>\n",
       "<style scoped>\n",
       "    .dataframe tbody tr th:only-of-type {\n",
       "        vertical-align: middle;\n",
       "    }\n",
       "\n",
       "    .dataframe tbody tr th {\n",
       "        vertical-align: top;\n",
       "    }\n",
       "\n",
       "    .dataframe thead th {\n",
       "        text-align: right;\n",
       "    }\n",
       "</style>\n",
       "<table border=\"1\" class=\"dataframe\">\n",
       "  <thead>\n",
       "    <tr style=\"text-align: right;\">\n",
       "      <th></th>\n",
       "      <th>dem_senate_maj</th>\n",
       "      <th>approval_days</th>\n",
       "      <th>child_target</th>\n",
       "    </tr>\n",
       "  </thead>\n",
       "  <tbody>\n",
       "    <tr>\n",
       "      <th>0</th>\n",
       "      <td>0</td>\n",
       "      <td>1</td>\n",
       "      <td>0</td>\n",
       "    </tr>\n",
       "    <tr>\n",
       "      <th>1</th>\n",
       "      <td>0</td>\n",
       "      <td>0</td>\n",
       "      <td>0</td>\n",
       "    </tr>\n",
       "    <tr>\n",
       "      <th>2</th>\n",
       "      <td>0</td>\n",
       "      <td>1</td>\n",
       "      <td>0</td>\n",
       "    </tr>\n",
       "    <tr>\n",
       "      <th>3</th>\n",
       "      <td>0</td>\n",
       "      <td>1</td>\n",
       "      <td>0</td>\n",
       "    </tr>\n",
       "    <tr>\n",
       "      <th>4</th>\n",
       "      <td>0</td>\n",
       "      <td>1</td>\n",
       "      <td>0</td>\n",
       "    </tr>\n",
       "  </tbody>\n",
       "</table>\n",
       "</div>"
      ],
      "text/plain": [
       "   dem_senate_maj  approval_days  child_target\n",
       "0               0              1             0\n",
       "1               0              0             0\n",
       "2               0              1             0\n",
       "3               0              1             0\n",
       "4               0              1             0"
      ]
     },
     "execution_count": 206,
     "metadata": {},
     "output_type": "execute_result"
    }
   ],
   "source": [
    "# Edited table\n",
    "data = pd.read_csv('FDA-Carpenter_clean.csv')\n",
    "simplified = data[['dem_senate_maj', 'approval_days', 'child_target']].copy()\n",
    "simplified['approval_days'] = simplified['approval_days'].apply(lambda x : 0 if x>60  else 1)\n",
    "simplified.head()"
   ]
  },
  {
   "cell_type": "code",
   "execution_count": 207,
   "metadata": {},
   "outputs": [],
   "source": [
    "def get_joint_3(df, x_value, y_value, z_value, \n",
    "                          X = 'dem_senate_maj', Y = 'approval_days', Z = 'child_target'):\n",
    "    joint_count = len(df[(df[X] == x_value) & (df[Y] == y_value) & (df[Z] == z_value)])\n",
    "    total = len(df)\n",
    "    return joint_count/ total\n",
    "\n",
    "\n",
    "def get_joint_2(df, x_value, z_value, \n",
    "                          X = 'dem_senate_maj', Z = 'child_target'):\n",
    "    joint_count = len(df[(df[X] == x_value) & (df[Z] == z_value)])\n",
    "    total = len(df)\n",
    "    return joint_count/ total\n",
    "\n",
    "\n",
    "def get_marginal(df, z_value, Z = 'child_target'):\n",
    "    marginal_count = len(df[(df[Z] == z_value)])\n",
    "    total = len(df)\n",
    "    return marginal_count/ total\n",
    "\n",
    "\n",
    "def get_conditional(df, x_value, z_value, \n",
    "                                X = 'dem_senate_maj', Z = 'child_target'):\n",
    "    joint_xz = get_joint_2(df, x_value, z_value)\n",
    "    marginal_z = get_marginal(df, z_value)\n",
    "    return joint_xz/ marginal_z\n"
   ]
  },
  {
   "cell_type": "code",
   "execution_count": 216,
   "metadata": {},
   "outputs": [
    {
     "name": "stdout",
     "output_type": "stream",
     "text": [
      "P(Y=1|do(X=0) = 0.7592315645655625)\n",
      "P(Y=1|do(X=1) = 0.841539179774474)\n",
      "ACE = -0.0823076152089115\n"
     ]
    }
   ],
   "source": [
    "dem = (get_joint_3(simplified, 1, 1, 1)/ get_conditional(simplified, 1, 1) +\n",
    "          get_joint_3(simplified, 1, 1, 0)/ get_conditional(simplified, 1, 0))\n",
    "not_dem = (get_joint_3(simplified, 0, 1, 1)/ get_conditional(simplified, 0, 1) +\n",
    "          get_joint_3(simplified, 0, 1, 0)/ get_conditional(simplified, 0, 0))\n",
    "\n",
    "ACE = not_dem - dem\n",
    "\n",
    "print(f'P(Y=1|do(X=0) = {not_dem})')\n",
    "print(f'P(Y=1|do(X=1) = {dem})')\n",
    "print(f'ACE = {not_dem - dem}')"
   ]
  },
  {
   "cell_type": "markdown",
   "metadata": {},
   "source": [
    "# 4 - Refute"
   ]
  },
  {
   "cell_type": "markdown",
   "metadata": {},
   "source": [
    "### 4a - Complete Model"
   ]
  },
  {
   "cell_type": "code",
   "execution_count": 79,
   "metadata": {},
   "outputs": [
    {
     "name": "stderr",
     "output_type": "stream",
     "text": [
      "INFO:dowhy.causal_estimator:INFO: Using Propensity Score Matching Estimator\n",
      "INFO:dowhy.causal_estimator:b: approval_days~placebo+wash_post_stories\n"
     ]
    },
    {
     "name": "stdout",
     "output_type": "stream",
     "text": [
      "Refute: Use a Placebo Treatment\n",
      "Estimated effect:(-14.15655634110429,)\n",
      "New effect:(-5.136427060122696,)\n",
      "\n"
     ]
    },
    {
     "name": "stderr",
     "output_type": "stream",
     "text": [
      "/Users/annapauxberger/anaconda/envs/py36/lib/python3.6/site-packages/dowhy/causal_estimators/propensity_score_matching_estimator.py:51: FutureWarning: `item` has been deprecated and will be removed in a future version\n",
      "  control_outcome = control.iloc[indices[i]][self._outcome_name].item()\n"
     ]
    }
   ],
   "source": [
    "# Replacing treatment with a random (placebo) variable\n",
    "res_placebo=model.refute_estimate(identified_estimand_a, estimate,\n",
    "        method_name=\"placebo_treatment_refuter\", placebo_type=\"permute\")\n",
    "print(res_placebo)"
   ]
  },
  {
   "cell_type": "code",
   "execution_count": 80,
   "metadata": {},
   "outputs": [
    {
     "name": "stderr",
     "output_type": "stream",
     "text": [
      "INFO:dowhy.causal_estimator:INFO: Using Propensity Score Matching Estimator\n",
      "INFO:dowhy.causal_estimator:b: approval_days~dem_senate_maj+wash_post_stories\n"
     ]
    },
    {
     "name": "stdout",
     "output_type": "stream",
     "text": [
      "Refute: Use a subset of data\n",
      "Estimated effect:(-14.15655634110429,)\n",
      "New effect:(-16.301956866666657,)\n",
      "\n"
     ]
    },
    {
     "name": "stderr",
     "output_type": "stream",
     "text": [
      "/Users/annapauxberger/anaconda/envs/py36/lib/python3.6/site-packages/dowhy/causal_estimators/propensity_score_matching_estimator.py:51: FutureWarning: `item` has been deprecated and will be removed in a future version\n",
      "  control_outcome = control.iloc[indices[i]][self._outcome_name].item()\n"
     ]
    }
   ],
   "source": [
    "# Removing a random subset of the data\n",
    "res_subset=model.refute_estimate(identified_estimand_a, estimate,\n",
    "        method_name=\"data_subset_refuter\", subset_fraction=0.9)\n",
    "print(res_subset)\n"
   ]
  },
  {
   "cell_type": "code",
   "execution_count": 81,
   "metadata": {},
   "outputs": [
    {
     "name": "stderr",
     "output_type": "stream",
     "text": [
      "INFO:dowhy.causal_estimator:INFO: Using Propensity Score Matching Estimator\n",
      "INFO:dowhy.causal_estimator:b: approval_days~dem_senate_maj+wash_post_stories\n"
     ]
    },
    {
     "name": "stdout",
     "output_type": "stream",
     "text": [
      "Refute: Use a subset of data\n",
      "Estimated effect:(-14.15655634110429,)\n",
      "New effect:(-6.816135866206897,)\n",
      "\n"
     ]
    },
    {
     "name": "stderr",
     "output_type": "stream",
     "text": [
      "/Users/annapauxberger/anaconda/envs/py36/lib/python3.6/site-packages/dowhy/causal_estimators/propensity_score_matching_estimator.py:51: FutureWarning: `item` has been deprecated and will be removed in a future version\n",
      "  control_outcome = control.iloc[indices[i]][self._outcome_name].item()\n"
     ]
    }
   ],
   "source": [
    "# Add random seed\n",
    "\n",
    "res_subset=model.refute_estimate(identified_estimand_a, estimate,\n",
    "        method_name=\"data_subset_refuter\", subset_fraction=0.9, random_seed = 1)\n",
    "print(res_subset)"
   ]
  },
  {
   "cell_type": "markdown",
   "metadata": {},
   "source": [
    "### 4a - Simplified Model"
   ]
  },
  {
   "cell_type": "code",
   "execution_count": 217,
   "metadata": {},
   "outputs": [
    {
     "name": "stderr",
     "output_type": "stream",
     "text": [
      "INFO:dowhy.causal_estimator:INFO: Using Propensity Score Matching Estimator\n",
      "INFO:dowhy.causal_estimator:b: approval_days~placebo+child_target\n"
     ]
    },
    {
     "name": "stdout",
     "output_type": "stream",
     "text": [
      "Refute: Use a Placebo Treatment\n",
      "Estimated effect:(-14.15655634110429,)\n",
      "New effect:(25.106917635582814,)\n",
      "\n"
     ]
    },
    {
     "name": "stderr",
     "output_type": "stream",
     "text": [
      "/Users/annapauxberger/anaconda/envs/py36/lib/python3.6/site-packages/dowhy/causal_estimators/propensity_score_matching_estimator.py:51: FutureWarning: `item` has been deprecated and will be removed in a future version\n",
      "  control_outcome = control.iloc[indices[i]][self._outcome_name].item()\n"
     ]
    }
   ],
   "source": [
    "# Replacing treatment with a random (placebo) variable\n",
    "res_placebo=model.refute_estimate(identified_estimand_b, estimate,\n",
    "        method_name=\"placebo_treatment_refuter\", placebo_type=\"permute\")\n",
    "print(res_placebo)"
   ]
  },
  {
   "cell_type": "code",
   "execution_count": 218,
   "metadata": {},
   "outputs": [
    {
     "name": "stderr",
     "output_type": "stream",
     "text": [
      "INFO:dowhy.causal_estimator:INFO: Using Propensity Score Matching Estimator\n",
      "INFO:dowhy.causal_estimator:b: approval_days~dem_senate_maj+child_target\n",
      "/Users/annapauxberger/anaconda/envs/py36/lib/python3.6/site-packages/dowhy/causal_estimators/propensity_score_matching_estimator.py:51: FutureWarning: `item` has been deprecated and will be removed in a future version\n",
      "  control_outcome = control.iloc[indices[i]][self._outcome_name].item()\n"
     ]
    },
    {
     "name": "stdout",
     "output_type": "stream",
     "text": [
      "Refute: Use a subset of data\n",
      "Estimated effect:(-14.15655634110429,)\n",
      "New effect:(-123.43703207210892,)\n",
      "\n"
     ]
    }
   ],
   "source": [
    "# Removing a random subset of the data\n",
    "res_subset=model.refute_estimate(identified_estimand_b, estimate,\n",
    "        method_name=\"data_subset_refuter\", subset_fraction=0.9)\n",
    "print(res_subset)\n"
   ]
  },
  {
   "cell_type": "code",
   "execution_count": 219,
   "metadata": {},
   "outputs": [
    {
     "name": "stderr",
     "output_type": "stream",
     "text": [
      "INFO:dowhy.causal_estimator:INFO: Using Propensity Score Matching Estimator\n",
      "INFO:dowhy.causal_estimator:b: approval_days~dem_senate_maj+child_target\n"
     ]
    },
    {
     "name": "stdout",
     "output_type": "stream",
     "text": [
      "Refute: Use a subset of data\n",
      "Estimated effect:(-14.15655634110429,)\n",
      "New effect:(17.853817707382547,)\n",
      "\n"
     ]
    },
    {
     "name": "stderr",
     "output_type": "stream",
     "text": [
      "/Users/annapauxberger/anaconda/envs/py36/lib/python3.6/site-packages/dowhy/causal_estimators/propensity_score_matching_estimator.py:51: FutureWarning: `item` has been deprecated and will be removed in a future version\n",
      "  control_outcome = control.iloc[indices[i]][self._outcome_name].item()\n"
     ]
    }
   ],
   "source": [
    "# Add random seed\n",
    "\n",
    "res_subset=model.refute_estimate(identified_estimand_b, estimate,\n",
    "        method_name=\"data_subset_refuter\", subset_fraction=0.9, random_seed = 1)\n",
    "print(res_subset)"
   ]
  }
 ],
 "metadata": {
  "kernelspec": {
   "display_name": "py36",
   "language": "python",
   "name": "py36"
  },
  "language_info": {
   "codemirror_mode": {
    "name": "ipython",
    "version": 3
   },
   "file_extension": ".py",
   "mimetype": "text/x-python",
   "name": "python",
   "nbconvert_exporter": "python",
   "pygments_lexer": "ipython3",
   "version": "3.6.7"
  }
 },
 "nbformat": 4,
 "nbformat_minor": 2
}
