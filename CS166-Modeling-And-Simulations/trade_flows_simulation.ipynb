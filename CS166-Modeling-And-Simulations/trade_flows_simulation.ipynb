{
 "cells": [
  {
   "cell_type": "markdown",
   "metadata": {},
   "source": [
    "# CS166 Final Project\n",
    "\n",
    "This simulation provides a simplified model for international trade. It creates a network of (by default 10) countries, each maintaining (by default) 3 firms that produce and consume a certain choice of products. \n",
    "\n",
    "An analysis of changing the openness of the economy (open, closed) and the stage of the cycle (boom, bust) shows that being an open economy is beneficial during a boom cycle, but harmful during bust. Outcome variables are total trade volume and total GDP.\n",
    "\n",
    "\n",
    "Anna Pauxberger\n",
    "\n",
    "20 April 2018"
   ]
  },
  {
   "cell_type": "code",
   "execution_count": 1,
   "metadata": {
    "collapsed": true
   },
   "outputs": [],
   "source": [
    "import random\n",
    "import numpy as np\n",
    "import string\n",
    "import matplotlib.pylab as plt\n",
    "%matplotlib inline\n",
    "import scipy"
   ]
  },
  {
   "cell_type": "code",
   "execution_count": 2,
   "metadata": {
    "collapsed": false
   },
   "outputs": [],
   "source": [
    "class Network:\n",
    "    '''A network of countries that can trade excess/ shortage products at each\n",
    "    iteration. Requires countries in the form of a list of objects as an argument.\n",
    "    Computes yearly and total trade across the network.'''\n",
    "    \n",
    "    def __init__(self, countries):\n",
    "        self.countries = countries\n",
    "        self.products = np.unique(np.concatenate(([c.products for c in countries])))\n",
    "        for c in self.countries: c.calculate_total()\n",
    "        self.total_trade = []\n",
    "        self.total_GDP = 0\n",
    "        \n",
    "    def __repr__(self):\n",
    "        return(f'Products: {self.products}, Countries: {self.countries}')\n",
    "        \n",
    "    def step(self):\n",
    "        '''Iterates over each unique country combination to perform trade.'''\n",
    "        self.yearly_trade = 0\n",
    "        self.calculate_total_GDP()\n",
    "        for i, c1 in enumerate(self.countries):\n",
    "            for j in range(i+1, len(self.countries)): \n",
    "                c2 = self.countries[j]\n",
    "                self.trade(c1, c2)\n",
    "        \n",
    "        # update product_count (=dictionary of excess/ shortage) for each country\n",
    "        for c in self.countries: c.calculate_total()\n",
    "        # track yearly trade\n",
    "        self.total_trade.append(self.yearly_trade)\n",
    "        # shuffle countries to randomize order of trade\n",
    "        np.random.shuffle(self.countries)\n",
    "    \n",
    "    def trade(self, c1, c2):\n",
    "        '''Countries brute-force trade their total excess/ shortaged products.\n",
    "        Product count is the sum of all excess/ shortaged products of all firms.'''\n",
    "\n",
    "        products = [k for k in c1.products if k in c2.products]\n",
    "        trade_propensity = min(c1.trade_propensity, c2.trade_propensity)\n",
    "        \n",
    "        for p in products:\n",
    "            c1_status = c1.product_count[p]\n",
    "            c2_status = c2.product_count[p]\n",
    "            # negative = shortage, positive = excess\n",
    "            if c1_status < 0 and c2_status > 0:\n",
    "                trade_volume = np.ceil(min(-c1_status, c2_status)*trade_propensity)\n",
    "                c1.product_count[p] += trade_volume\n",
    "                c2.product_count[p] -= trade_volume\n",
    "                self.yearly_trade += trade_volume\n",
    "            if c2_status < 0 and c1_status > 0:\n",
    "                trade_volume = np.ceil(min(c1_status, -c2_status)*trade_propensity)\n",
    "                c2.product_count[p] += trade_volume\n",
    "                c1.product_count[p] -= trade_volume\n",
    "                self.yearly_trade += trade_volume\n",
    "\n",
    "    def calculate_total_GDP(self):\n",
    "        self.total_GDP = 0\n",
    "        for c in self.countries:\n",
    "            self.total_GDP += c.calculate_domestic_GDP()\n",
    "        self.total_GDP += self.yearly_trade\n",
    "        return self.total_GDP\n",
    "\n",
    "class Country:\n",
    "    '''A country contains firms and maintains a product count of its excess/ shortage\n",
    "    products across all firms.'''\n",
    "    \n",
    "    def __init__(self, name, firms, trade_propensity):\n",
    "        self.name = name\n",
    "        self.firms = firms\n",
    "        self.products = np.unique(np.concatenate(([f.products for f in firms])))\n",
    "        self.product_count = {p:0 for p in self.products}\n",
    "        self.trade_propensity = trade_propensity\n",
    "        \n",
    "    def __repr__(self):\n",
    "        return(f'Country {self.name}:, '+ f'firms:{self.firms}, '+ f'products:{self.products}')\n",
    "    \n",
    "    def calculate_total(self):\n",
    "        '''Calculates the total usage of products across firms to update the product count.'''\n",
    "        for f in self.firms:\n",
    "            f.calculate_usage()\n",
    "            for p in f.products:\n",
    "                self.product_count[p] += f.product_usage[p]\n",
    "                \n",
    "    def return_total(self):\n",
    "        '''Returns a list of all exchanges firms in a country want to engage in \n",
    "        (=values of products of calculate_total()).'''\n",
    "\n",
    "        return [self.product_count.get(p) for p in self.product_count]\n",
    "    \n",
    "    def calculate_domestic_GDP(self):\n",
    "        '''Calculates local GDP by taking total usage of products across firms, minus the \n",
    "        shortages and consumption which will only count towards GDP if traded.'''\n",
    "        \n",
    "        self.domestic_trade = 0\n",
    "        \n",
    "        domestic_usage = 0 #production or consumption of goods\n",
    "        for f in self.firms:\n",
    "            product_baseline = f.product_baseline\n",
    "            for p in f.product_baseline:\n",
    "                quantity = product_baseline.get(p)\n",
    "                domestic_usage += abs(quantity) #absolute value of quantity consumed/ produced per product per firm\n",
    "\n",
    "        excess_and_shortage = self.return_total() # net usage (produce 10, use 5 --> 5 excess)\n",
    "        excess_and_shortage = sum([np.abs(number) for number in excess_and_shortage])\n",
    "        self.domestic_trade = domestic_usage - excess_and_shortage\n",
    "        return self.domestic_trade\n",
    "\n",
    "                \n",
    "class Firm:\n",
    "    '''A firm can produce and consume 3 different products. The baseline of this consumption\n",
    "    and production is taken as an input argument. Actual product usage (consumption and \n",
    "    production) is updated depending on the cycle (boom or bust) and the pace of the economy.'''\n",
    "    \n",
    "    def __init__(self, name, product_baseline, cycle, pace):\n",
    "        self.name = name\n",
    "        self.product_baseline = product_baseline # dictionary of product and usage\n",
    "        self.products = [k for k in self.product_baseline.keys()]\n",
    "\n",
    "        self.cycle = cycle\n",
    "        self.pace = pace\n",
    "        \n",
    "    def __repr__(self):\n",
    "        return(f'{self.name}')\n",
    "        \n",
    "    def calculate_usage(self):\n",
    "        self.product_usage = self.product_baseline\n",
    "        \n",
    "        for p in self.products:\n",
    "            if random.random() < self.pace:\n",
    "                self.product_usage[p] = self.product_baseline[p]*self.cycle\n",
    "            else:\n",
    "                self.product_usage[p] = self.product_baseline[p]\n",
    "\n",
    "        # To build the next baseline based on the previous, uncomment the next line.\n",
    "#         self.product_baseline = self.product_usage #dependent on previous year"
   ]
  },
  {
   "cell_type": "code",
   "execution_count": 3,
   "metadata": {
    "collapsed": false
   },
   "outputs": [],
   "source": [
    "# Helper Functions\n",
    "\n",
    "def create_firms(cycle, pace = 0.5, firms = 3):\n",
    "    '''Creates firm instances to be used for creating countries. A firm's trading\n",
    "    capacity (product usage as measured by consumption and production) depends on the \n",
    "    state of the cycle ('boom', 'bust').\n",
    "    \n",
    "    default pace: 0.5\n",
    "    default number of firms: 3\n",
    "    '''\n",
    "    \n",
    "    firms_and_baselines = {\n",
    "        \"cow_farm\": {'grass': -10, 'cows':10},\n",
    "        \"grass_farm\": {'fertilizer': -10, 'grass':10},\n",
    "        \"slaughter_house\": {'cows': -10, 'meat':10},\n",
    "        \"restaurant\": {'meat': -10, 'money':10},\n",
    "        \"fertilizer\": {'money': -10, 'fertilizer':10}\n",
    "    }\n",
    "\n",
    "    chosen_firms = [random.choice(list(firms_and_baselines.keys())) \n",
    "                    for i in range(firms)]\n",
    "    final_firms = []\n",
    "    cycle = cycle\n",
    "    pace = pace\n",
    "    \n",
    "    for firm in chosen_firms:\n",
    "        product_baseline = firms_and_baselines[firm]\n",
    "        initiated_firm = Firm(firm, product_baseline, cycle, pace)\n",
    "        final_firms.append(initiated_firm)\n",
    "    return final_firms\n",
    "\n",
    "def create_countries(economy_cycle, economy_trade, pace = 0.5, nr_countries = 10):\n",
    "    '''Creates country instances based on created firms to be used for creating a \n",
    "    network. A country's trade propensity depends on the economy_trade, for which an \n",
    "    economy can be 'open' or 'closed. \n",
    "\n",
    "    default pace: 0.5\n",
    "    default number of countries: 10\n",
    "    '''\n",
    "    \n",
    "    if economy_trade == 'open':\n",
    "        trade_propensity = 1/abs(np.random.normal(10,2))\n",
    "    elif economy_trade == 'closed':\n",
    "        trade_propensity = 1/abs(np.random.normal(100, 20))\n",
    "    else:\n",
    "        print('error')\n",
    "    \n",
    "    if economy_cycle == 'boom':\n",
    "        cycle = 1.2\n",
    "    elif economy_cycle == 'bust':\n",
    "        cycle = 0.8\n",
    "        \n",
    "    countries = []\n",
    "    for x in range(nr_countries):\n",
    "        name = string.ascii_uppercase[x]\n",
    "        firms = create_firms(cycle, pace)\n",
    "        new_country = Country(name, firms, trade_propensity)\n",
    "        countries.append(new_country)\n",
    "    return countries"
   ]
  },
  {
   "cell_type": "code",
   "execution_count": 4,
   "metadata": {
    "collapsed": false
   },
   "outputs": [
    {
     "data": {
      "text/plain": [
       "([69.0, 123.0, 159.0, 201.0, 236.0, 276.0, 312.0, 354.0, 415.0, 477.0],\n",
       " -3689.5281720115177)"
      ]
     },
     "execution_count": 4,
     "metadata": {},
     "output_type": "execute_result"
    }
   ],
   "source": [
    "# example simulation\n",
    "def single_simulation(economy_cycle='boom', \n",
    "               pace=0.5, \n",
    "               economy_trade = 'open', \n",
    "               time=10):\n",
    "    countries = create_countries(economy_cycle, economy_trade)\n",
    "    agriculture = Network(countries)\n",
    "    for i in range(time):\n",
    "        agriculture.step()\n",
    "    return agriculture.total_trade, agriculture.total_GDP\n",
    "\n",
    "single_simulation()"
   ]
  },
  {
   "cell_type": "markdown",
   "metadata": {},
   "source": [
    "# Effects on Total Trade"
   ]
  },
  {
   "cell_type": "code",
   "execution_count": 5,
   "metadata": {
    "collapsed": false
   },
   "outputs": [],
   "source": [
    "def trade_simulation(economy_cycle, economy_trade):\n",
    "\n",
    "    results = []\n",
    "    for trial in range(1000):\n",
    "        total_trade = single_simulation(economy_cycle = economy_cycle, \n",
    "                                        economy_trade = economy_trade)[0]\n",
    "        results.append(total_trade[-1])\n",
    "\n",
    "    print('Mean:', scipy.mean(results))\n",
    "    print('Median:', scipy.median(results))\n",
    "    print('95%% confidence interval: [%.2f, %.2f]' % tuple(scipy.percentile(results, [2.5, 97.5])))\n",
    "\n",
    "    plt.hist(results, bins=20)\n",
    "    plt.title(f\"trade volume: {economy_cycle} cycle, {economy_trade} economy\")\n",
    "    plt.xlabel(\"volume traded (units)\")\n",
    "    plt.ylabel(\"frequency\")\n",
    "    plt.axvline(x=scipy.mean(results), color='k')\n",
    "    plt.show()"
   ]
  },
  {
   "cell_type": "code",
   "execution_count": 6,
   "metadata": {
    "collapsed": false
   },
   "outputs": [
    {
     "name": "stdout",
     "output_type": "stream",
     "text": [
      "Mean: 400.973\n",
      "Median: 395.0\n",
      "95% confidence interval: [211.97, 623.05]\n"
     ]
    },
    {
     "data": {
      "image/png": "[encoded data removed]",
      "text/plain": [
       "<Figure size 432x288 with 1 Axes>"
      ]
     },
     "metadata": {},
     "output_type": "display_data"
    },
    {
     "name": "stdout",
     "output_type": "stream",
     "text": [
      "Mean: 56.576\n",
      "Median: 56.5\n",
      "95% confidence interval: [28.98, 86.00]\n"
     ]
    },
    {
     "data": {
      "image/png": "[encoded data removed]",
      "text/plain": [
       "<Figure size 432x288 with 1 Axes>"
      ]
     },
     "metadata": {},
     "output_type": "display_data"
    },
    {
     "name": "stdout",
     "output_type": "stream",
     "text": [
      "Mean: 121.929\n",
      "Median: 120.0\n",
      "95% confidence interval: [73.00, 181.02]\n"
     ]
    },
    {
     "data": {
      "image/png": "[encoded data removed]",
      "text/plain": [
       "<Figure size 432x288 with 1 Axes>"
      ]
     },
     "metadata": {},
     "output_type": "display_data"
    },
    {
     "name": "stdout",
     "output_type": "stream",
     "text": [
      "Mean: 60.142\n",
      "Median: 60.0\n",
      "95% confidence interval: [32.00, 86.00]\n"
     ]
    },
    {
     "data": {
      "image/png": "[encoded data removed]",
      "text/plain": [
       "<Figure size 432x288 with 1 Axes>"
      ]
     },
     "metadata": {},
     "output_type": "display_data"
    }
   ],
   "source": [
    "trade_simulation('boom', 'open')\n",
    "trade_simulation('bust', 'open')\n",
    "trade_simulation('boom', 'closed')\n",
    "trade_simulation('bust', 'closed')"
   ]
  },
  {
   "cell_type": "markdown",
   "metadata": {},
   "source": [
    "# Effects on Total GDP"
   ]
  },
  {
   "cell_type": "code",
   "execution_count": 7,
   "metadata": {
    "collapsed": false
   },
   "outputs": [],
   "source": [
    "def GDP_simulation(economy_cycle, economy_trade):\n",
    "\n",
    "    results = []\n",
    "    for trial in range(1000):\n",
    "        total_GDP = single_simulation(economy_cycle = economy_cycle, \n",
    "                                        economy_trade = economy_trade)[1]\n",
    "        results.append(total_GDP)\n",
    "\n",
    "    print('Mean:', scipy.mean(results))\n",
    "    print('Median:', scipy.median(results))\n",
    "    print('95%% confidence interval: [%.2f, %.2f]' % tuple(scipy.percentile(results, [2.5, 97.5])))\n",
    "\n",
    "    plt.hist(results, bins=20)\n",
    "    plt.title(f\"trade volume: {economy_cycle} cycle, {economy_trade} economy\")\n",
    "    plt.xlabel(\"volume traded (units)\")\n",
    "    plt.ylabel(\"frequency\")\n",
    "    plt.axvline(x=scipy.mean(results), color='k')\n",
    "    plt.show()"
   ]
  },
  {
   "cell_type": "code",
   "execution_count": 8,
   "metadata": {
    "collapsed": false
   },
   "outputs": [
    {
     "name": "stdout",
     "output_type": "stream",
     "text": [
      "Mean: -4850.2460491916445\n",
      "Median: -4653.887870607357\n",
      "95% confidence interval: [-8411.94, -2188.42]\n"
     ]
    },
    {
     "data": {
      "image/png": "[encoded data removed]",
      "text/plain": [
       "<Figure size 432x288 with 1 Axes>"
      ]
     },
     "metadata": {},
     "output_type": "display_data"
    },
    {
     "name": "stdout",
     "output_type": "stream",
     "text": [
      "Mean: -657.1464515798092\n",
      "Median: -625.2429960028162\n",
      "95% confidence interval: [-1174.82, -291.19]\n"
     ]
    },
    {
     "data": {
      "image/png": "[encoded data removed]",
      "text/plain": [
       "<Figure size 432x288 with 1 Axes>"
      ]
     },
     "metadata": {},
     "output_type": "display_data"
    },
    {
     "name": "stdout",
     "output_type": "stream",
     "text": [
      "Mean: -7291.005151496701\n",
      "Median: -7183.120046688662\n",
      "95% confidence interval: [-11131.03, -4326.37]\n"
     ]
    },
    {
     "data": {
      "image/png": "[encoded data removed]",
      "text/plain": [
       "<Figure size 432x288 with 1 Axes>"
      ]
     },
     "metadata": {},
     "output_type": "display_data"
    },
    {
     "name": "stdout",
     "output_type": "stream",
     "text": [
      "Mean: -919.8318921191421\n",
      "Median: -895.0739067699201\n",
      "95% confidence interval: [-1324.66, -612.36]\n"
     ]
    },
    {
     "data": {
      "image/png": "[encoded data removed]",
      "text/plain": [
       "<Figure size 432x288 with 1 Axes>"
      ]
     },
     "metadata": {},
     "output_type": "display_data"
    }
   ],
   "source": [
    "GDP_simulation('boom', 'open')\n",
    "GDP_simulation('bust', 'open')\n",
    "GDP_simulation('boom', 'closed')\n",
    "GDP_simulation('bust', 'closed')"
   ]
  },
  {
   "cell_type": "code",
   "execution_count": null,
   "metadata": {
    "collapsed": true
   },
   "outputs": [],
   "source": []
  }
 ],
 "metadata": {
  "kernelspec": {
   "display_name": "Python [py36]",
   "language": "python",
   "name": "Python [py36]"
  },
  "language_info": {
   "codemirror_mode": {
    "name": "ipython",
    "version": 3
   },
   "file_extension": ".py",
   "mimetype": "text/x-python",
   "name": "python",
   "nbconvert_exporter": "python",
   "pygments_lexer": "ipython3",
   "version": "3.6.4"
  }
 },
 "nbformat": 4,
 "nbformat_minor": 0
}
